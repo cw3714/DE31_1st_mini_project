{
 "cells": [
  {
   "cell_type": "code",
   "execution_count": 63,
   "metadata": {},
   "outputs": [],
   "source": [
    "import pandas as pd\n",
    "import numpy as np\n",
    "import selenium\n",
    "import sqlalchemy\n",
    "import pickle\n",
    "import pymysql\n",
    "import sqlalchemy\n",
    "from urllib import parse\n",
    "from tqdm import tqdm"
   ]
  },
  {
   "cell_type": "code",
   "execution_count": 43,
   "metadata": {},
   "outputs": [],
   "source": [
    "sido_convert = {'서울특별시': ['서울', '서울시'], \n",
    "                '부산광역시': ['부산', '부산시'], \n",
    "                '대구광역시': ['대구', '대구시'], \n",
    "                '인천광역시': ['인천', '인천시'],\n",
    "                '광주광역시': ['광주', '광주시'], \n",
    "                '대전광역시': ['대전', '대전시'], \n",
    "                '울산광역시': ['울산', '울산시'], \n",
    "                '세종특별자치시': ['세종', '세종시', '세종특별시'], \n",
    "                '경기도': ['경기'], \n",
    "                '강원특별자치도': ['강원', '강원도'], \n",
    "                '충청북도': ['충북'], \n",
    "                '충청남도': ['충남'], \n",
    "                '전북특별자치도': ['전북', '전라북도'], \n",
    "                '전라남도': ['전남'], \n",
    "                '경상북도': ['경북'], \n",
    "                '경상남도': ['경남'], \n",
    "                '제주특별자치도': ['제주도', '제주']}"
   ]
  },
  {
   "cell_type": "code",
   "execution_count": 111,
   "metadata": {},
   "outputs": [],
   "source": [
    "user = 'encore4'\n",
    "password = 'EnCore4!@#'\n",
    "host='13.125.65.37'\n",
    "port = 3306\n",
    "database = 'encore4'\n",
    "password = parse.quote_plus(password)\n",
    "engine = sqlalchemy.create_engine(f\"mysql://{user}:{password}@{host}:{port}/{database}\")"
   ]
  },
  {
   "cell_type": "code",
   "execution_count": 112,
   "metadata": {},
   "outputs": [],
   "source": [
    "con =pymysql.connect(host='13.125.65.37', user='encore4', password='EnCore4!@#', db='encore4', charset='utf8')\n",
    "cur = con.cursor()"
   ]
  },
  {
   "cell_type": "markdown",
   "metadata": {},
   "source": [
    " - - -\n",
    "- car_regitrection_count_df: 전국 차량 등록현황"
   ]
  },
  {
   "cell_type": "code",
   "execution_count": 49,
   "metadata": {},
   "outputs": [
    {
     "data": {
      "text/html": [
       "<div>\n",
       "<style scoped>\n",
       "    .dataframe tbody tr th:only-of-type {\n",
       "        vertical-align: middle;\n",
       "    }\n",
       "\n",
       "    .dataframe tbody tr th {\n",
       "        vertical-align: top;\n",
       "    }\n",
       "\n",
       "    .dataframe thead th {\n",
       "        text-align: right;\n",
       "    }\n",
       "</style>\n",
       "<table border=\"1\" class=\"dataframe\">\n",
       "  <thead>\n",
       "    <tr style=\"text-align: right;\">\n",
       "      <th></th>\n",
       "      <th>년도</th>\n",
       "      <th>월</th>\n",
       "      <th>시도명</th>\n",
       "      <th>시군구</th>\n",
       "      <th>승용_관용</th>\n",
       "      <th>승용.1_자가용</th>\n",
       "      <th>승용.2_영업용</th>\n",
       "      <th>승용.3_계</th>\n",
       "      <th>승합_관용</th>\n",
       "      <th>승합.1_자가용</th>\n",
       "      <th>...</th>\n",
       "      <th>화물.2_영업용</th>\n",
       "      <th>화물.3_계</th>\n",
       "      <th>특수_관용</th>\n",
       "      <th>특수.1_자가용</th>\n",
       "      <th>특수.2_영업용</th>\n",
       "      <th>특수.3_계</th>\n",
       "      <th>총계_관용</th>\n",
       "      <th>총계.1_자가용</th>\n",
       "      <th>총계.2_영업용</th>\n",
       "      <th>총계.3_계</th>\n",
       "    </tr>\n",
       "  </thead>\n",
       "  <tbody>\n",
       "    <tr>\n",
       "      <th>0</th>\n",
       "      <td>2011</td>\n",
       "      <td>01</td>\n",
       "      <td>서울</td>\n",
       "      <td>강남구</td>\n",
       "      <td>163</td>\n",
       "      <td>192610</td>\n",
       "      <td>31456</td>\n",
       "      <td>224229</td>\n",
       "      <td>86</td>\n",
       "      <td>8261</td>\n",
       "      <td>...</td>\n",
       "      <td>1630</td>\n",
       "      <td>19198</td>\n",
       "      <td>21</td>\n",
       "      <td>94</td>\n",
       "      <td>134</td>\n",
       "      <td>249</td>\n",
       "      <td>431</td>\n",
       "      <td>218372</td>\n",
       "      <td>34948</td>\n",
       "      <td>253751</td>\n",
       "    </tr>\n",
       "  </tbody>\n",
       "</table>\n",
       "<p>1 rows × 24 columns</p>\n",
       "</div>"
      ],
      "text/plain": [
       "     년도   월 시도명  시군구  승용_관용  승용.1_자가용  승용.2_영업용  승용.3_계  승합_관용  승합.1_자가용  ...  \\\n",
       "0  2011  01  서울  강남구    163    192610     31456  224229     86      8261  ...   \n",
       "\n",
       "   화물.2_영업용  화물.3_계  특수_관용  특수.1_자가용  특수.2_영업용  특수.3_계  총계_관용  총계.1_자가용  \\\n",
       "0      1630   19198     21        94       134     249    431    218372   \n",
       "\n",
       "   총계.2_영업용  총계.3_계  \n",
       "0     34948  253751  \n",
       "\n",
       "[1 rows x 24 columns]"
      ]
     },
     "execution_count": 49,
     "metadata": {},
     "output_type": "execute_result"
    }
   ],
   "source": [
    "with open('./../../../data/dataset_miniproject1/car_regitrection_count.pkl', 'rb') as f:\n",
    "    car_regitrection_count_df = pickle.load(f)\n",
    "\n",
    "car_regitrection_count_df.head(1)"
   ]
  },
  {
   "cell_type": "code",
   "execution_count": 50,
   "metadata": {},
   "outputs": [
    {
     "name": "stdout",
     "output_type": "stream",
     "text": [
      "['년도', '월', '시도명', '시군구', '승용_관용', '승용.1_자가용', '승용.2_영업용', '승용.3_계', '승합_관용', '승합.1_자가용', '승합.2_영업용', '승합.3_계', '화물_관용', '화물.1_자가용', '화물.2_영업용', '화물.3_계', '특수_관용', '특수.1_자가용', '특수.2_영업용', '특수.3_계', '총계_관용', '총계.1_자가용', '총계.2_영업용', '총계.3_계']"
     ]
    }
   ],
   "source": [
    "print(car_regitrection_count_df.columns.tolist(), end='')\n",
    "car_regitrection_count_new_order = ['년도', '월', '시도명', '시군구', '총계.3_계']"
   ]
  },
  {
   "cell_type": "code",
   "execution_count": 51,
   "metadata": {},
   "outputs": [],
   "source": [
    "car_regitrection_count_df_final = car_regitrection_count_df[car_regitrection_count_new_order].copy()"
   ]
  },
  {
   "cell_type": "code",
   "execution_count": 52,
   "metadata": {},
   "outputs": [],
   "source": [
    "car_regitrection_count_new_order = ['year', 'month', 'sido', 'sigungu', 'total_count']\n",
    "car_regitrection_count_df_final.columns = car_regitrection_count_new_order"
   ]
  },
  {
   "cell_type": "code",
   "execution_count": 53,
   "metadata": {},
   "outputs": [],
   "source": [
    "for key, values in sido_convert.items():\n",
    "    for v in values:\n",
    "        car_regitrection_count_df_final.loc[car_regitrection_count_df_final.sido == v, 'sido'] = key"
   ]
  },
  {
   "cell_type": "code",
   "execution_count": 54,
   "metadata": {},
   "outputs": [
    {
     "data": {
      "text/plain": [
       "array(['서울특별시', '부산광역시', '대구광역시', '인천광역시', '광주광역시', '대전광역시', '울산광역시',\n",
       "       '경기도', '강원특별자치도', '충청북도', '충청남도', '전북특별자치도', '전라남도', '경상북도',\n",
       "       '경상남도', '제주특별자치도', '세종특별자치시'], dtype=object)"
      ]
     },
     "execution_count": 54,
     "metadata": {},
     "output_type": "execute_result"
    }
   ],
   "source": [
    "car_regitrection_count_df_final.sido.unique()"
   ]
  },
  {
   "cell_type": "code",
   "execution_count": 55,
   "metadata": {},
   "outputs": [
    {
     "data": {
      "text/plain": [
       "9"
      ]
     },
     "execution_count": 55,
     "metadata": {},
     "output_type": "execute_result"
    }
   ],
   "source": [
    "car_regitrection_count_df_final.sigungu.apply(lambda x: len(x)).max()"
   ]
  },
  {
   "cell_type": "code",
   "execution_count": 56,
   "metadata": {},
   "outputs": [
    {
     "data": {
      "text/html": [
       "<div>\n",
       "<style scoped>\n",
       "    .dataframe tbody tr th:only-of-type {\n",
       "        vertical-align: middle;\n",
       "    }\n",
       "\n",
       "    .dataframe tbody tr th {\n",
       "        vertical-align: top;\n",
       "    }\n",
       "\n",
       "    .dataframe thead th {\n",
       "        text-align: right;\n",
       "    }\n",
       "</style>\n",
       "<table border=\"1\" class=\"dataframe\">\n",
       "  <thead>\n",
       "    <tr style=\"text-align: right;\">\n",
       "      <th></th>\n",
       "      <th>year</th>\n",
       "      <th>month</th>\n",
       "      <th>sido</th>\n",
       "      <th>sigungu</th>\n",
       "      <th>total_count</th>\n",
       "    </tr>\n",
       "  </thead>\n",
       "  <tbody>\n",
       "    <tr>\n",
       "      <th>0</th>\n",
       "      <td>2011</td>\n",
       "      <td>01</td>\n",
       "      <td>서울특별시</td>\n",
       "      <td>강남구</td>\n",
       "      <td>253751</td>\n",
       "    </tr>\n",
       "  </tbody>\n",
       "</table>\n",
       "</div>"
      ],
      "text/plain": [
       "   year month   sido sigungu  total_count\n",
       "0  2011    01  서울특별시     강남구       253751"
      ]
     },
     "execution_count": 56,
     "metadata": {},
     "output_type": "execute_result"
    }
   ],
   "source": [
    "car_regitrection_count_df_final.head(1)"
   ]
  },
  {
   "cell_type": "code",
   "execution_count": 57,
   "metadata": {},
   "outputs": [
    {
     "data": {
      "text/plain": [
       "(40008, 5)"
      ]
     },
     "execution_count": 57,
     "metadata": {},
     "output_type": "execute_result"
    }
   ],
   "source": [
    "car_regitrection_count_df_final.shape"
   ]
  },
  {
   "cell_type": "code",
   "execution_count": 137,
   "metadata": {},
   "outputs": [
    {
     "data": {
      "text/plain": [
       "10"
      ]
     },
     "execution_count": 137,
     "metadata": {},
     "output_type": "execute_result"
    }
   ],
   "source": [
    "sql = \"SHOW TABLES\"\n",
    "cur.execute(sql)"
   ]
  },
  {
   "cell_type": "code",
   "execution_count": 58,
   "metadata": {},
   "outputs": [
    {
     "data": {
      "text/plain": [
       "0        1\n",
       "1        1\n",
       "2        1\n",
       "3        1\n",
       "4        1\n",
       "        ..\n",
       "40003    1\n",
       "40004    1\n",
       "40005    1\n",
       "40006    1\n",
       "40007    1\n",
       "Length: 40008, dtype: int64"
      ]
     },
     "execution_count": 58,
     "metadata": {},
     "output_type": "execute_result"
    }
   ],
   "source": [
    "sql = \"INSERT INTO carRegitrectionCount VALUES (%s, %s, %s, %s, %s)\"\n",
    "car_regitrection_count_df_final.apply(lambda x : cur.execute(sql, x.tolist() ), axis=1)"
   ]
  },
  {
   "cell_type": "code",
   "execution_count": 59,
   "metadata": {},
   "outputs": [],
   "source": [
    "con.commit()"
   ]
  },
  {
   "cell_type": "markdown",
   "metadata": {},
   "source": [
    "- - -\n",
    "- charge_station_info: 전기 자동차 충전소 정보"
   ]
  },
  {
   "cell_type": "code",
   "execution_count": 22,
   "metadata": {},
   "outputs": [
    {
     "data": {
      "text/html": [
       "<div>\n",
       "<style scoped>\n",
       "    .dataframe tbody tr th:only-of-type {\n",
       "        vertical-align: middle;\n",
       "    }\n",
       "\n",
       "    .dataframe tbody tr th {\n",
       "        vertical-align: top;\n",
       "    }\n",
       "\n",
       "    .dataframe thead th {\n",
       "        text-align: right;\n",
       "    }\n",
       "</style>\n",
       "<table border=\"1\" class=\"dataframe\">\n",
       "  <thead>\n",
       "    <tr style=\"text-align: right;\">\n",
       "      <th></th>\n",
       "      <th>metro</th>\n",
       "      <th>city</th>\n",
       "      <th>stnPlace</th>\n",
       "      <th>stnAddr</th>\n",
       "      <th>rapidChargerCount</th>\n",
       "      <th>slowChargerCount</th>\n",
       "      <th>carType</th>\n",
       "      <th>coordinates</th>\n",
       "    </tr>\n",
       "  </thead>\n",
       "  <tbody>\n",
       "    <tr>\n",
       "      <th>0</th>\n",
       "      <td>서울특별시</td>\n",
       "      <td>강남구</td>\n",
       "      <td>LH강남힐스테이트</td>\n",
       "      <td>서울특별시 강남구 자곡동 자곡로3길 21</td>\n",
       "      <td>1</td>\n",
       "      <td>4</td>\n",
       "      <td>SM3 Z.E,레이EV,소울EV,닛산리프,아이오닉EV,BMW i3,스파크EV,볼트E...</td>\n",
       "      <td>[127.0884362, 37.4711594]</td>\n",
       "    </tr>\n",
       "  </tbody>\n",
       "</table>\n",
       "</div>"
      ],
      "text/plain": [
       "   metro city   stnPlace                 stnAddr  rapidChargerCount  \\\n",
       "0  서울특별시  강남구  LH강남힐스테이트  서울특별시 강남구 자곡동 자곡로3길 21                  1   \n",
       "\n",
       "   slowChargerCount                                            carType  \\\n",
       "0                 4  SM3 Z.E,레이EV,소울EV,닛산리프,아이오닉EV,BMW i3,스파크EV,볼트E...   \n",
       "\n",
       "                 coordinates  \n",
       "0  [127.0884362, 37.4711594]  "
      ]
     },
     "execution_count": 22,
     "metadata": {},
     "output_type": "execute_result"
    }
   ],
   "source": [
    "with open('./../../../data/dataset_miniproject1/charge_station_info.pkl', 'rb') as f:\n",
    "    charge_station_info_df = pickle.load(f)\n",
    "\n",
    "charge_station_info_df.head(1)"
   ]
  },
  {
   "cell_type": "code",
   "execution_count": 23,
   "metadata": {},
   "outputs": [],
   "source": [
    "charge_station_info_df.rename(columns={'metro': 'sido', 'city': 'sigungu', 'stnAddr': 'address', 'stnPlace': 'station_name'}, inplace=True)"
   ]
  },
  {
   "cell_type": "code",
   "execution_count": 24,
   "metadata": {},
   "outputs": [],
   "source": [
    "for key, values in sido_convert.items():\n",
    "    for v in values:\n",
    "        charge_station_info_df.loc[charge_station_info_df.sido == v, 'sido'] = key"
   ]
  },
  {
   "cell_type": "code",
   "execution_count": 25,
   "metadata": {},
   "outputs": [
    {
     "data": {
      "text/plain": [
       "array(['서울특별시', '부산광역시', '대구광역시', '인천광역시', '광주광역시', '대전광역시', '울산광역시',\n",
       "       '경기도', '강원특별자치도', '충청남도', '충청북도', '전북특별자치도', '전라남도', '경상북도',\n",
       "       '경상남도', '제주특별자치도'], dtype=object)"
      ]
     },
     "execution_count": 25,
     "metadata": {},
     "output_type": "execute_result"
    }
   ],
   "source": [
    "charge_station_info_df.sido.unique()"
   ]
  },
  {
   "cell_type": "code",
   "execution_count": 26,
   "metadata": {},
   "outputs": [
    {
     "data": {
      "text/html": [
       "<div>\n",
       "<style scoped>\n",
       "    .dataframe tbody tr th:only-of-type {\n",
       "        vertical-align: middle;\n",
       "    }\n",
       "\n",
       "    .dataframe tbody tr th {\n",
       "        vertical-align: top;\n",
       "    }\n",
       "\n",
       "    .dataframe thead th {\n",
       "        text-align: right;\n",
       "    }\n",
       "</style>\n",
       "<table border=\"1\" class=\"dataframe\">\n",
       "  <thead>\n",
       "    <tr style=\"text-align: right;\">\n",
       "      <th></th>\n",
       "      <th>sido</th>\n",
       "      <th>sigungu</th>\n",
       "      <th>station_name</th>\n",
       "      <th>address</th>\n",
       "      <th>rapidChargerCount</th>\n",
       "      <th>slowChargerCount</th>\n",
       "      <th>carType</th>\n",
       "      <th>coordinates</th>\n",
       "    </tr>\n",
       "  </thead>\n",
       "  <tbody>\n",
       "    <tr>\n",
       "      <th>0</th>\n",
       "      <td>서울특별시</td>\n",
       "      <td>강남구</td>\n",
       "      <td>LH강남힐스테이트</td>\n",
       "      <td>서울특별시 강남구 자곡동 자곡로3길 21</td>\n",
       "      <td>1</td>\n",
       "      <td>4</td>\n",
       "      <td>SM3 Z.E,레이EV,소울EV,닛산리프,아이오닉EV,BMW i3,스파크EV,볼트E...</td>\n",
       "      <td>[127.0884362, 37.4711594]</td>\n",
       "    </tr>\n",
       "  </tbody>\n",
       "</table>\n",
       "</div>"
      ],
      "text/plain": [
       "    sido sigungu station_name                 address  rapidChargerCount  \\\n",
       "0  서울특별시     강남구    LH강남힐스테이트  서울특별시 강남구 자곡동 자곡로3길 21                  1   \n",
       "\n",
       "   slowChargerCount                                            carType  \\\n",
       "0                 4  SM3 Z.E,레이EV,소울EV,닛산리프,아이오닉EV,BMW i3,스파크EV,볼트E...   \n",
       "\n",
       "                 coordinates  \n",
       "0  [127.0884362, 37.4711594]  "
      ]
     },
     "execution_count": 26,
     "metadata": {},
     "output_type": "execute_result"
    }
   ],
   "source": [
    "charge_station_info_df.head(1)"
   ]
  },
  {
   "cell_type": "code",
   "execution_count": 27,
   "metadata": {},
   "outputs": [],
   "source": [
    "charge_station_info_df['lng'] = charge_station_info_df.coordinates.apply(lambda x: x[0])\n",
    "charge_station_info_df['lat'] = charge_station_info_df.coordinates.apply(lambda x: x[1])"
   ]
  },
  {
   "cell_type": "code",
   "execution_count": 28,
   "metadata": {},
   "outputs": [],
   "source": [
    "charge_station_info_df.drop(labels='coordinates', axis = 1, inplace=True)"
   ]
  },
  {
   "cell_type": "code",
   "execution_count": 29,
   "metadata": {},
   "outputs": [
    {
     "name": "stdout",
     "output_type": "stream",
     "text": [
      "['sido', 'sigungu', 'station_name', 'address', 'rapidChargerCount', 'slowChargerCount', 'carType', 'lng', 'lat']"
     ]
    }
   ],
   "source": [
    "print(charge_station_info_df.columns.tolist(), end='')"
   ]
  },
  {
   "cell_type": "code",
   "execution_count": 30,
   "metadata": {},
   "outputs": [
    {
     "data": {
      "text/plain": [
       "(4594, 9)"
      ]
     },
     "execution_count": 30,
     "metadata": {},
     "output_type": "execute_result"
    }
   ],
   "source": [
    "charge_station_info_df.shape"
   ]
  },
  {
   "cell_type": "code",
   "execution_count": 42,
   "metadata": {},
   "outputs": [],
   "source": [
    "cur.close()"
   ]
  },
  {
   "cell_type": "code",
   "execution_count": 37,
   "metadata": {},
   "outputs": [
    {
     "data": {
      "text/html": [
       "<div>\n",
       "<style scoped>\n",
       "    .dataframe tbody tr th:only-of-type {\n",
       "        vertical-align: middle;\n",
       "    }\n",
       "\n",
       "    .dataframe tbody tr th {\n",
       "        vertical-align: top;\n",
       "    }\n",
       "\n",
       "    .dataframe thead th {\n",
       "        text-align: right;\n",
       "    }\n",
       "</style>\n",
       "<table border=\"1\" class=\"dataframe\">\n",
       "  <thead>\n",
       "    <tr style=\"text-align: right;\">\n",
       "      <th></th>\n",
       "      <th>sido</th>\n",
       "      <th>sigungu</th>\n",
       "      <th>station_name</th>\n",
       "      <th>address</th>\n",
       "      <th>rapidChargerCount</th>\n",
       "      <th>slowChargerCount</th>\n",
       "      <th>carType</th>\n",
       "      <th>lng</th>\n",
       "      <th>lat</th>\n",
       "    </tr>\n",
       "  </thead>\n",
       "  <tbody>\n",
       "    <tr>\n",
       "      <th>2969</th>\n",
       "      <td>충청남도</td>\n",
       "      <td>보령시</td>\n",
       "      <td>농업기술센터</td>\n",
       "      <td>충청남도 null null null null null null null null n...</td>\n",
       "      <td>1</td>\n",
       "      <td>0</td>\n",
       "      <td>SM3 Z.E,테슬라</td>\n",
       "      <td>0</td>\n",
       "      <td>0</td>\n",
       "    </tr>\n",
       "  </tbody>\n",
       "</table>\n",
       "</div>"
      ],
      "text/plain": [
       "      sido sigungu station_name  \\\n",
       "2969  충청남도     보령시       농업기술센터   \n",
       "\n",
       "                                                address  rapidChargerCount  \\\n",
       "2969  충청남도 null null null null null null null null n...                  1   \n",
       "\n",
       "      slowChargerCount      carType lng lat  \n",
       "2969                 0  SM3 Z.E,테슬라   0   0  "
      ]
     },
     "execution_count": 37,
     "metadata": {},
     "output_type": "execute_result"
    }
   ],
   "source": [
    "charge_station_info_df[charge_station_info_df.address.apply(lambda x: len(x)>50)]"
   ]
  },
  {
   "cell_type": "code",
   "execution_count": 40,
   "metadata": {},
   "outputs": [],
   "source": [
    "charge_station_info_df.drop(2969, inplace=True)"
   ]
  },
  {
   "cell_type": "code",
   "execution_count": 46,
   "metadata": {},
   "outputs": [
    {
     "data": {
      "text/plain": [
       "0       1\n",
       "1       1\n",
       "2       1\n",
       "3       1\n",
       "4       1\n",
       "       ..\n",
       "4589    1\n",
       "4590    1\n",
       "4591    1\n",
       "4592    1\n",
       "4593    1\n",
       "Length: 4593, dtype: int64"
      ]
     },
     "execution_count": 46,
     "metadata": {},
     "output_type": "execute_result"
    }
   ],
   "source": [
    "sql = \"INSERT INTO chargeStationInfo VALUES (%s, %s, %s, %s, %s, %s, %s, %s, %s)\"\n",
    "charge_station_info_df.apply(lambda x : cur.execute(sql, x.tolist() ), axis=1)"
   ]
  },
  {
   "cell_type": "code",
   "execution_count": 48,
   "metadata": {},
   "outputs": [
    {
     "data": {
      "text/plain": [
       "(4593, 9)"
      ]
     },
     "execution_count": 48,
     "metadata": {},
     "output_type": "execute_result"
    }
   ],
   "source": [
    "charge_station_info_df.shape"
   ]
  },
  {
   "cell_type": "code",
   "execution_count": 47,
   "metadata": {},
   "outputs": [],
   "source": [
    "con.commit()"
   ]
  },
  {
   "cell_type": "markdown",
   "metadata": {},
   "source": [
    "- - -\n",
    "- gas_station_info_df: 전국 주유소 지리 정보"
   ]
  },
  {
   "cell_type": "code",
   "execution_count": 61,
   "metadata": {},
   "outputs": [
    {
     "data": {
      "text/html": [
       "<div>\n",
       "<style scoped>\n",
       "    .dataframe tbody tr th:only-of-type {\n",
       "        vertical-align: middle;\n",
       "    }\n",
       "\n",
       "    .dataframe tbody tr th {\n",
       "        vertical-align: top;\n",
       "    }\n",
       "\n",
       "    .dataframe thead th {\n",
       "        text-align: right;\n",
       "    }\n",
       "</style>\n",
       "<table border=\"1\" class=\"dataframe\">\n",
       "  <thead>\n",
       "    <tr style=\"text-align: right;\">\n",
       "      <th></th>\n",
       "      <th>sido</th>\n",
       "      <th>sigungu</th>\n",
       "      <th>station_name</th>\n",
       "      <th>address</th>\n",
       "      <th>company</th>\n",
       "      <th>phone_number</th>\n",
       "      <th>coordinates</th>\n",
       "    </tr>\n",
       "  </thead>\n",
       "  <tbody>\n",
       "    <tr>\n",
       "      <th>0</th>\n",
       "      <td>서울특별시</td>\n",
       "      <td>강남구</td>\n",
       "      <td>(주)보성 세곡주유소</td>\n",
       "      <td>서울 강남구  헌릉로 731 (세곡동)</td>\n",
       "      <td>SK에너지</td>\n",
       "      <td>02-445-6870</td>\n",
       "      <td>[127.1187331, 37.4672785]</td>\n",
       "    </tr>\n",
       "  </tbody>\n",
       "</table>\n",
       "</div>"
      ],
      "text/plain": [
       "    sido sigungu station_name                address company phone_number  \\\n",
       "0  서울특별시     강남구  (주)보성 세곡주유소  서울 강남구  헌릉로 731 (세곡동)   SK에너지  02-445-6870   \n",
       "\n",
       "                 coordinates  \n",
       "0  [127.1187331, 37.4672785]  "
      ]
     },
     "execution_count": 61,
     "metadata": {},
     "output_type": "execute_result"
    }
   ],
   "source": [
    "with open('./../../../data/dataset_miniproject1/gas_station_final_with_coor.pkl', 'rb') as f:\n",
    "    gas_station_info_df = pickle.load(f)\n",
    "\n",
    "gas_station_info_df.head(1)"
   ]
  },
  {
   "cell_type": "code",
   "execution_count": 62,
   "metadata": {},
   "outputs": [
    {
     "data": {
      "text/plain": [
       "(10766, 7)"
      ]
     },
     "execution_count": 62,
     "metadata": {},
     "output_type": "execute_result"
    }
   ],
   "source": [
    "gas_station_info_df.shape"
   ]
  },
  {
   "cell_type": "code",
   "execution_count": 65,
   "metadata": {},
   "outputs": [
    {
     "name": "stderr",
     "output_type": "stream",
     "text": [
      "100%|██████████| 10766/10766 [00:00<00:00, 669650.56it/s]\n",
      "100%|██████████| 10766/10766 [00:00<00:00, 867881.55it/s]\n"
     ]
    }
   ],
   "source": [
    "tqdm.pandas()\n",
    "gas_station_info_df['lng'] = gas_station_info_df.coordinates.progress_apply(lambda x: x[0])\n",
    "gas_station_info_df['lat'] = gas_station_info_df.coordinates.progress_apply(lambda x: x[1])"
   ]
  },
  {
   "cell_type": "code",
   "execution_count": 68,
   "metadata": {},
   "outputs": [],
   "source": [
    "gas_station_info_df.drop(columns='coordinates', axis=1, inplace=True)"
   ]
  },
  {
   "cell_type": "code",
   "execution_count": 69,
   "metadata": {},
   "outputs": [
    {
     "data": {
      "text/html": [
       "<div>\n",
       "<style scoped>\n",
       "    .dataframe tbody tr th:only-of-type {\n",
       "        vertical-align: middle;\n",
       "    }\n",
       "\n",
       "    .dataframe tbody tr th {\n",
       "        vertical-align: top;\n",
       "    }\n",
       "\n",
       "    .dataframe thead th {\n",
       "        text-align: right;\n",
       "    }\n",
       "</style>\n",
       "<table border=\"1\" class=\"dataframe\">\n",
       "  <thead>\n",
       "    <tr style=\"text-align: right;\">\n",
       "      <th></th>\n",
       "      <th>sido</th>\n",
       "      <th>sigungu</th>\n",
       "      <th>station_name</th>\n",
       "      <th>address</th>\n",
       "      <th>company</th>\n",
       "      <th>phone_number</th>\n",
       "      <th>lng</th>\n",
       "      <th>lat</th>\n",
       "    </tr>\n",
       "  </thead>\n",
       "  <tbody>\n",
       "    <tr>\n",
       "      <th>0</th>\n",
       "      <td>서울특별시</td>\n",
       "      <td>강남구</td>\n",
       "      <td>(주)보성 세곡주유소</td>\n",
       "      <td>서울 강남구  헌릉로 731 (세곡동)</td>\n",
       "      <td>SK에너지</td>\n",
       "      <td>02-445-6870</td>\n",
       "      <td>127.1187331</td>\n",
       "      <td>37.4672785</td>\n",
       "    </tr>\n",
       "    <tr>\n",
       "      <th>1</th>\n",
       "      <td>서울특별시</td>\n",
       "      <td>강남구</td>\n",
       "      <td>HD현대오일뱅크㈜직영 산성셀프주유소</td>\n",
       "      <td>서울 강남구 헌릉로 730</td>\n",
       "      <td>HD현대오일뱅크</td>\n",
       "      <td>02-2226-4963</td>\n",
       "      <td>127.1190231</td>\n",
       "      <td>37.4665975</td>\n",
       "    </tr>\n",
       "    <tr>\n",
       "      <th>2</th>\n",
       "      <td>서울특별시</td>\n",
       "      <td>강남구</td>\n",
       "      <td>자곡셀프주유소</td>\n",
       "      <td>서울 강남구 밤고개로 120 (자곡동)</td>\n",
       "      <td>SK에너지</td>\n",
       "      <td>02-445-5841</td>\n",
       "      <td>127.1040159</td>\n",
       "      <td>37.4835419</td>\n",
       "    </tr>\n",
       "    <tr>\n",
       "      <th>3</th>\n",
       "      <td>서울특별시</td>\n",
       "      <td>강남구</td>\n",
       "      <td>방죽주유소</td>\n",
       "      <td>서울 강남구 밤고개로 215 (율현동)</td>\n",
       "      <td>GS칼텍스</td>\n",
       "      <td>02-459-3434</td>\n",
       "      <td>127.1068180</td>\n",
       "      <td>37.4749811</td>\n",
       "    </tr>\n",
       "    <tr>\n",
       "      <th>4</th>\n",
       "      <td>서울특별시</td>\n",
       "      <td>강남구</td>\n",
       "      <td>오일프러스 셀프</td>\n",
       "      <td>서울 강남구 남부순환로 2651 (도곡동)</td>\n",
       "      <td>SK에너지</td>\n",
       "      <td>02-3462-5100</td>\n",
       "      <td>127.0395832</td>\n",
       "      <td>37.4858704</td>\n",
       "    </tr>\n",
       "    <tr>\n",
       "      <th>...</th>\n",
       "      <td>...</td>\n",
       "      <td>...</td>\n",
       "      <td>...</td>\n",
       "      <td>...</td>\n",
       "      <td>...</td>\n",
       "      <td>...</td>\n",
       "      <td>...</td>\n",
       "      <td>...</td>\n",
       "    </tr>\n",
       "    <tr>\n",
       "      <th>12254</th>\n",
       "      <td>제주특별자치도</td>\n",
       "      <td>제주시</td>\n",
       "      <td>열린주유소</td>\n",
       "      <td>제주 제주시 한북로 221 (오등동)</td>\n",
       "      <td>SK에너지</td>\n",
       "      <td>064-702-1133</td>\n",
       "      <td>126.5386827</td>\n",
       "      <td>33.4603089</td>\n",
       "    </tr>\n",
       "    <tr>\n",
       "      <th>12255</th>\n",
       "      <td>제주특별자치도</td>\n",
       "      <td>제주시</td>\n",
       "      <td>신도시주유소</td>\n",
       "      <td>제주 제주시 과원로 88 (연동)</td>\n",
       "      <td>SK에너지</td>\n",
       "      <td>064-746-5185</td>\n",
       "      <td>126.4921803</td>\n",
       "      <td>33.4777589</td>\n",
       "    </tr>\n",
       "    <tr>\n",
       "      <th>12256</th>\n",
       "      <td>제주특별자치도</td>\n",
       "      <td>제주시</td>\n",
       "      <td>인양주유소</td>\n",
       "      <td>제주 제주시 추자면 영흥4길 1</td>\n",
       "      <td>자가상표</td>\n",
       "      <td>064-742-3529</td>\n",
       "      <td>126.3002433</td>\n",
       "      <td>33.9572990</td>\n",
       "    </tr>\n",
       "    <tr>\n",
       "      <th>12257</th>\n",
       "      <td>제주특별자치도</td>\n",
       "      <td>제주시</td>\n",
       "      <td>삼광주유소</td>\n",
       "      <td>제주특별자치도 제주시 번영로 158 (화북이동)</td>\n",
       "      <td>GS칼텍스</td>\n",
       "      <td>064-725-5188</td>\n",
       "      <td>126.5622421</td>\n",
       "      <td>33.5043342</td>\n",
       "    </tr>\n",
       "    <tr>\n",
       "      <th>12258</th>\n",
       "      <td>제주특별자치도</td>\n",
       "      <td>제주시</td>\n",
       "      <td>일광주유소</td>\n",
       "      <td>제주특별자치도 제주시 일주동로 53 (건입동)</td>\n",
       "      <td>알뜰주유소</td>\n",
       "      <td>064-756-5189</td>\n",
       "      <td>126.5529498</td>\n",
       "      <td>33.5135100</td>\n",
       "    </tr>\n",
       "  </tbody>\n",
       "</table>\n",
       "<p>10766 rows × 8 columns</p>\n",
       "</div>"
      ],
      "text/plain": [
       "          sido sigungu         station_name                     address  \\\n",
       "0        서울특별시     강남구          (주)보성 세곡주유소       서울 강남구  헌릉로 731 (세곡동)   \n",
       "1        서울특별시     강남구  HD현대오일뱅크㈜직영 산성셀프주유소              서울 강남구 헌릉로 730   \n",
       "2        서울특별시     강남구              자곡셀프주유소       서울 강남구 밤고개로 120 (자곡동)   \n",
       "3        서울특별시     강남구                방죽주유소       서울 강남구 밤고개로 215 (율현동)   \n",
       "4        서울특별시     강남구             오일프러스 셀프     서울 강남구 남부순환로 2651 (도곡동)   \n",
       "...        ...     ...                  ...                         ...   \n",
       "12254  제주특별자치도     제주시                열린주유소        제주 제주시 한북로 221 (오등동)   \n",
       "12255  제주특별자치도     제주시               신도시주유소          제주 제주시 과원로 88 (연동)   \n",
       "12256  제주특별자치도     제주시                인양주유소           제주 제주시 추자면 영흥4길 1   \n",
       "12257  제주특별자치도     제주시                삼광주유소  제주특별자치도 제주시 번영로 158 (화북이동)   \n",
       "12258  제주특별자치도     제주시                일광주유소   제주특별자치도 제주시 일주동로 53 (건입동)   \n",
       "\n",
       "        company  phone_number          lng         lat  \n",
       "0         SK에너지   02-445-6870  127.1187331  37.4672785  \n",
       "1      HD현대오일뱅크  02-2226-4963  127.1190231  37.4665975  \n",
       "2         SK에너지   02-445-5841  127.1040159  37.4835419  \n",
       "3         GS칼텍스   02-459-3434  127.1068180  37.4749811  \n",
       "4         SK에너지  02-3462-5100  127.0395832  37.4858704  \n",
       "...         ...           ...          ...         ...  \n",
       "12254     SK에너지  064-702-1133  126.5386827  33.4603089  \n",
       "12255     SK에너지  064-746-5185  126.4921803  33.4777589  \n",
       "12256      자가상표  064-742-3529  126.3002433  33.9572990  \n",
       "12257     GS칼텍스  064-725-5188  126.5622421  33.5043342  \n",
       "12258     알뜰주유소  064-756-5189  126.5529498  33.5135100  \n",
       "\n",
       "[10766 rows x 8 columns]"
      ]
     },
     "execution_count": 69,
     "metadata": {},
     "output_type": "execute_result"
    }
   ],
   "source": [
    "gas_station_info_df"
   ]
  },
  {
   "cell_type": "code",
   "execution_count": 70,
   "metadata": {},
   "outputs": [
    {
     "name": "stdout",
     "output_type": "stream",
     "text": [
      "`sido` ,\n",
      "`sigungu` ,\n",
      "`station_name` ,\n",
      "`address` ,\n",
      "`company` ,\n",
      "`phone_number` ,\n",
      "`lng` ,\n",
      "`lat` ,\n"
     ]
    }
   ],
   "source": [
    "for i in gas_station_info_df.columns:\n",
    "    print(f'`{i}` ,')"
   ]
  },
  {
   "cell_type": "code",
   "execution_count": 71,
   "metadata": {},
   "outputs": [
    {
     "data": {
      "text/plain": [
       "0        1\n",
       "1        1\n",
       "2        1\n",
       "3        1\n",
       "4        1\n",
       "        ..\n",
       "12254    1\n",
       "12255    1\n",
       "12256    1\n",
       "12257    1\n",
       "12258    1\n",
       "Length: 10766, dtype: int64"
      ]
     },
     "execution_count": 71,
     "metadata": {},
     "output_type": "execute_result"
    }
   ],
   "source": [
    "sql = \"INSERT INTO gasStationInfo VALUES (%s, %s, %s, %s, %s, %s, %s, %s)\"\n",
    "gas_station_info_df.apply(lambda x : cur.execute(sql, x.tolist() ), axis=1)"
   ]
  },
  {
   "cell_type": "code",
   "execution_count": 72,
   "metadata": {},
   "outputs": [],
   "source": [
    "con.commit()"
   ]
  },
  {
   "cell_type": "code",
   "execution_count": 73,
   "metadata": {},
   "outputs": [
    {
     "data": {
      "text/plain": [
       "(10766, 8)"
      ]
     },
     "execution_count": 73,
     "metadata": {},
     "output_type": "execute_result"
    }
   ],
   "source": [
    "gas_station_info_df.shape"
   ]
  },
  {
   "cell_type": "markdown",
   "metadata": {},
   "source": [
    "- - -\n",
    "- highway_rest_station_df: 고속도록 휴게소 지리 정보"
   ]
  },
  {
   "cell_type": "code",
   "execution_count": 74,
   "metadata": {},
   "outputs": [
    {
     "data": {
      "text/html": [
       "<div>\n",
       "<style scoped>\n",
       "    .dataframe tbody tr th:only-of-type {\n",
       "        vertical-align: middle;\n",
       "    }\n",
       "\n",
       "    .dataframe tbody tr th {\n",
       "        vertical-align: top;\n",
       "    }\n",
       "\n",
       "    .dataframe thead th {\n",
       "        text-align: right;\n",
       "    }\n",
       "</style>\n",
       "<table border=\"1\" class=\"dataframe\">\n",
       "  <thead>\n",
       "    <tr style=\"text-align: right;\">\n",
       "      <th></th>\n",
       "      <th>unitName</th>\n",
       "      <th>pageNo</th>\n",
       "      <th>numOfRows</th>\n",
       "      <th>unitCode</th>\n",
       "      <th>stdRestCd</th>\n",
       "      <th>routeNo</th>\n",
       "      <th>routeName</th>\n",
       "      <th>xValue</th>\n",
       "      <th>yValue</th>\n",
       "      <th>serviceAreaCode</th>\n",
       "    </tr>\n",
       "  </thead>\n",
       "  <tbody>\n",
       "    <tr>\n",
       "      <th>0</th>\n",
       "      <td>서울만남(부산)휴게소</td>\n",
       "      <td>None</td>\n",
       "      <td>None</td>\n",
       "      <td>001</td>\n",
       "      <td>000001</td>\n",
       "      <td>0010</td>\n",
       "      <td>경부선</td>\n",
       "      <td>127.042514</td>\n",
       "      <td>37.459939</td>\n",
       "      <td>A00001</td>\n",
       "    </tr>\n",
       "  </tbody>\n",
       "</table>\n",
       "</div>"
      ],
      "text/plain": [
       "      unitName pageNo numOfRows unitCode stdRestCd routeNo routeName  \\\n",
       "0  서울만남(부산)휴게소   None      None      001    000001    0010       경부선   \n",
       "\n",
       "       xValue     yValue serviceAreaCode  \n",
       "0  127.042514  37.459939          A00001  "
      ]
     },
     "execution_count": 74,
     "metadata": {},
     "output_type": "execute_result"
    }
   ],
   "source": [
    "with open('./../../../data/dataset_miniproject1/highway_rest_station.pkl', 'rb') as f:\n",
    "    highway_rest_station_df = pickle.load(f)\n",
    "\n",
    "highway_rest_station_df.head(1)"
   ]
  },
  {
   "cell_type": "code",
   "execution_count": 75,
   "metadata": {},
   "outputs": [
    {
     "name": "stdout",
     "output_type": "stream",
     "text": [
      "['unitName', 'pageNo', 'numOfRows', 'unitCode', 'stdRestCd', 'routeNo', 'routeName', 'xValue', 'yValue', 'serviceAreaCode']"
     ]
    }
   ],
   "source": [
    "print(highway_rest_station_df.columns.tolist(), end='')"
   ]
  },
  {
   "cell_type": "code",
   "execution_count": 76,
   "metadata": {},
   "outputs": [],
   "source": [
    "rest_station_columns = ['unitName', 'routeName', 'xValue', 'yValue']\n",
    "highway_rest_station_df_final = highway_rest_station_df[rest_station_columns].copy()"
   ]
  },
  {
   "cell_type": "code",
   "execution_count": 77,
   "metadata": {},
   "outputs": [],
   "source": [
    "highway_rest_station_df_final.rename(columns={'unitName': 'rest_station_name', 'routeName': 'route_name', 'xValue': 'lng', 'yValue': 'lat'}, inplace=True)"
   ]
  },
  {
   "cell_type": "code",
   "execution_count": 78,
   "metadata": {},
   "outputs": [
    {
     "name": "stdout",
     "output_type": "stream",
     "text": [
      "`rest_station_name` ,\n",
      "`route_name` ,\n",
      "`lng` ,\n",
      "`lat` ,\n"
     ]
    }
   ],
   "source": [
    "for i in highway_rest_station_df_final.columns:\n",
    "    print(f'`{i}` ,')"
   ]
  },
  {
   "cell_type": "code",
   "execution_count": 79,
   "metadata": {},
   "outputs": [
    {
     "data": {
      "text/plain": [
       "array(['경부선', '남해선(순천-부산)', '광주대구선', '무안광주선', '서해안선', '호남선', '순천완주선',\n",
       "       '청주영덕선', '통영대전선', '중부선', '평택제천선', '중부내륙선', '영동선', '중앙선', '서울양양선',\n",
       "       '동해선(삼척-속초)', '동해선(부산-포항)', '수도권제1순환선', '남해2지선', '서천공주선', '호남지선',\n",
       "       '중부내륙지선'], dtype=object)"
      ]
     },
     "execution_count": 79,
     "metadata": {},
     "output_type": "execute_result"
    }
   ],
   "source": [
    "highway_rest_station_df_final.route_name.unique()"
   ]
  },
  {
   "cell_type": "code",
   "execution_count": 80,
   "metadata": {},
   "outputs": [
    {
     "data": {
      "text/html": [
       "<div>\n",
       "<style scoped>\n",
       "    .dataframe tbody tr th:only-of-type {\n",
       "        vertical-align: middle;\n",
       "    }\n",
       "\n",
       "    .dataframe tbody tr th {\n",
       "        vertical-align: top;\n",
       "    }\n",
       "\n",
       "    .dataframe thead th {\n",
       "        text-align: right;\n",
       "    }\n",
       "</style>\n",
       "<table border=\"1\" class=\"dataframe\">\n",
       "  <thead>\n",
       "    <tr style=\"text-align: right;\">\n",
       "      <th></th>\n",
       "      <th>rest_station_name</th>\n",
       "      <th>route_name</th>\n",
       "      <th>lng</th>\n",
       "      <th>lat</th>\n",
       "    </tr>\n",
       "  </thead>\n",
       "  <tbody>\n",
       "    <tr>\n",
       "      <th>0</th>\n",
       "      <td>서울만남(부산)휴게소</td>\n",
       "      <td>경부선</td>\n",
       "      <td>127.042514</td>\n",
       "      <td>37.459939</td>\n",
       "    </tr>\n",
       "  </tbody>\n",
       "</table>\n",
       "</div>"
      ],
      "text/plain": [
       "  rest_station_name route_name         lng        lat\n",
       "0       서울만남(부산)휴게소        경부선  127.042514  37.459939"
      ]
     },
     "execution_count": 80,
     "metadata": {},
     "output_type": "execute_result"
    }
   ],
   "source": [
    "highway_rest_station_df_final.head(1)"
   ]
  },
  {
   "cell_type": "code",
   "execution_count": 81,
   "metadata": {},
   "outputs": [
    {
     "data": {
      "text/plain": [
       "0    1\n",
       "1    1\n",
       "2    1\n",
       "3    1\n",
       "4    1\n",
       "    ..\n",
       "5    1\n",
       "6    1\n",
       "7    1\n",
       "8    1\n",
       "9    1\n",
       "Length: 210, dtype: int64"
      ]
     },
     "execution_count": 81,
     "metadata": {},
     "output_type": "execute_result"
    }
   ],
   "source": [
    "sql = \"INSERT INTO highwayRestStation VALUES (%s, %s, %s, %s)\"\n",
    "highway_rest_station_df_final.apply(lambda x : cur.execute(sql, x.tolist() ), axis=1)"
   ]
  },
  {
   "cell_type": "code",
   "execution_count": 82,
   "metadata": {},
   "outputs": [],
   "source": [
    "con.commit()"
   ]
  },
  {
   "cell_type": "markdown",
   "metadata": {},
   "source": [
    "- - -\n",
    "- pop_info_df: 2023년도 총인구조사"
   ]
  },
  {
   "cell_type": "code",
   "execution_count": 83,
   "metadata": {},
   "outputs": [
    {
     "data": {
      "text/html": [
       "<div>\n",
       "<style scoped>\n",
       "    .dataframe tbody tr th:only-of-type {\n",
       "        vertical-align: middle;\n",
       "    }\n",
       "\n",
       "    .dataframe tbody tr th {\n",
       "        vertical-align: top;\n",
       "    }\n",
       "\n",
       "    .dataframe thead th {\n",
       "        text-align: right;\n",
       "    }\n",
       "</style>\n",
       "<table border=\"1\" class=\"dataframe\">\n",
       "  <thead>\n",
       "    <tr style=\"text-align: right;\">\n",
       "      <th></th>\n",
       "      <th>행정구역</th>\n",
       "      <th>시</th>\n",
       "      <th>도</th>\n",
       "      <th>2023년_총인구수</th>\n",
       "      <th>2023년_세대수</th>\n",
       "      <th>2023년_세대당 인구</th>\n",
       "    </tr>\n",
       "  </thead>\n",
       "  <tbody>\n",
       "    <tr>\n",
       "      <th>0</th>\n",
       "      <td>서울특별시</td>\n",
       "      <td>서울특별시</td>\n",
       "      <td>합계</td>\n",
       "      <td>9386034</td>\n",
       "      <td>4469417</td>\n",
       "      <td>2.10</td>\n",
       "    </tr>\n",
       "    <tr>\n",
       "      <th>1</th>\n",
       "      <td>서울특별시 종로구</td>\n",
       "      <td>서울특별시</td>\n",
       "      <td>종로구</td>\n",
       "      <td>139417</td>\n",
       "      <td>72067</td>\n",
       "      <td>1.93</td>\n",
       "    </tr>\n",
       "    <tr>\n",
       "      <th>2</th>\n",
       "      <td>서울특별시 중구</td>\n",
       "      <td>서울특별시</td>\n",
       "      <td>중구</td>\n",
       "      <td>121312</td>\n",
       "      <td>64714</td>\n",
       "      <td>1.87</td>\n",
       "    </tr>\n",
       "    <tr>\n",
       "      <th>3</th>\n",
       "      <td>서울특별시 용산구</td>\n",
       "      <td>서울특별시</td>\n",
       "      <td>용산구</td>\n",
       "      <td>213151</td>\n",
       "      <td>107825</td>\n",
       "      <td>1.98</td>\n",
       "    </tr>\n",
       "    <tr>\n",
       "      <th>4</th>\n",
       "      <td>서울특별시 성동구</td>\n",
       "      <td>서울특별시</td>\n",
       "      <td>성동구</td>\n",
       "      <td>277361</td>\n",
       "      <td>133089</td>\n",
       "      <td>2.08</td>\n",
       "    </tr>\n",
       "  </tbody>\n",
       "</table>\n",
       "</div>"
      ],
      "text/plain": [
       "         행정구역      시    도  2023년_총인구수  2023년_세대수  2023년_세대당 인구\n",
       "0     서울특별시    서울특별시   합계     9386034    4469417          2.10\n",
       "1  서울특별시 종로구   서울특별시  종로구      139417      72067          1.93\n",
       "2   서울특별시 중구   서울특별시   중구      121312      64714          1.87\n",
       "3  서울특별시 용산구   서울특별시  용산구      213151     107825          1.98\n",
       "4  서울특별시 성동구   서울특별시  성동구      277361     133089          2.08"
      ]
     },
     "execution_count": 83,
     "metadata": {},
     "output_type": "execute_result"
    }
   ],
   "source": [
    "with open('./../../../data/dataset_miniproject1/pop_info.pkl', 'rb') as f:\n",
    "    pop_info_df = pickle.load(f)\n",
    "    \n",
    "pop_info_df.head(5)"
   ]
  },
  {
   "cell_type": "code",
   "execution_count": 84,
   "metadata": {},
   "outputs": [
    {
     "name": "stdout",
     "output_type": "stream",
     "text": [
      "['행정구역', '시', '도', '2023년_총인구수', '2023년_세대수', '2023년_세대당 인구']"
     ]
    }
   ],
   "source": [
    "print(pop_info_df.columns.tolist(), end='')"
   ]
  },
  {
   "cell_type": "code",
   "execution_count": 85,
   "metadata": {},
   "outputs": [],
   "source": [
    "pop_info_cols = ['시', '도', '행정구역', '2023년_총인구수', '2023년_세대수', '2023년_세대당 인구']\n",
    "pop_info_df_final = pop_info_df[pop_info_cols].copy()"
   ]
  },
  {
   "cell_type": "code",
   "execution_count": 86,
   "metadata": {},
   "outputs": [],
   "source": [
    "pop_info_df_final.columns = ['sido', 'sigungu', 'address', 'total_pop', 'total_family', 'pop_per_family']"
   ]
  },
  {
   "cell_type": "code",
   "execution_count": 87,
   "metadata": {},
   "outputs": [
    {
     "data": {
      "text/html": [
       "<div>\n",
       "<style scoped>\n",
       "    .dataframe tbody tr th:only-of-type {\n",
       "        vertical-align: middle;\n",
       "    }\n",
       "\n",
       "    .dataframe tbody tr th {\n",
       "        vertical-align: top;\n",
       "    }\n",
       "\n",
       "    .dataframe thead th {\n",
       "        text-align: right;\n",
       "    }\n",
       "</style>\n",
       "<table border=\"1\" class=\"dataframe\">\n",
       "  <thead>\n",
       "    <tr style=\"text-align: right;\">\n",
       "      <th></th>\n",
       "      <th>sido</th>\n",
       "      <th>sigungu</th>\n",
       "      <th>address</th>\n",
       "      <th>total_pop</th>\n",
       "      <th>total_family</th>\n",
       "      <th>pop_per_family</th>\n",
       "    </tr>\n",
       "  </thead>\n",
       "  <tbody>\n",
       "    <tr>\n",
       "      <th>0</th>\n",
       "      <td>서울특별시</td>\n",
       "      <td>합계</td>\n",
       "      <td>서울특별시</td>\n",
       "      <td>9386034</td>\n",
       "      <td>4469417</td>\n",
       "      <td>2.10</td>\n",
       "    </tr>\n",
       "    <tr>\n",
       "      <th>26</th>\n",
       "      <td>부산광역시</td>\n",
       "      <td>합계</td>\n",
       "      <td>부산광역시</td>\n",
       "      <td>3293362</td>\n",
       "      <td>1564588</td>\n",
       "      <td>2.10</td>\n",
       "    </tr>\n",
       "    <tr>\n",
       "      <th>43</th>\n",
       "      <td>대구광역시</td>\n",
       "      <td>합계</td>\n",
       "      <td>대구광역시</td>\n",
       "      <td>2374960</td>\n",
       "      <td>1094148</td>\n",
       "      <td>2.17</td>\n",
       "    </tr>\n",
       "    <tr>\n",
       "      <th>53</th>\n",
       "      <td>인천광역시</td>\n",
       "      <td>합계</td>\n",
       "      <td>인천광역시</td>\n",
       "      <td>2997410</td>\n",
       "      <td>1350912</td>\n",
       "      <td>2.22</td>\n",
       "    </tr>\n",
       "    <tr>\n",
       "      <th>67</th>\n",
       "      <td>광주광역시</td>\n",
       "      <td>합계</td>\n",
       "      <td>광주광역시</td>\n",
       "      <td>1419237</td>\n",
       "      <td>655433</td>\n",
       "      <td>2.17</td>\n",
       "    </tr>\n",
       "    <tr>\n",
       "      <th>73</th>\n",
       "      <td>대전광역시</td>\n",
       "      <td>합계</td>\n",
       "      <td>대전광역시</td>\n",
       "      <td>1442216</td>\n",
       "      <td>680261</td>\n",
       "      <td>2.12</td>\n",
       "    </tr>\n",
       "    <tr>\n",
       "      <th>79</th>\n",
       "      <td>울산광역시</td>\n",
       "      <td>합계</td>\n",
       "      <td>울산광역시</td>\n",
       "      <td>1103661</td>\n",
       "      <td>490690</td>\n",
       "      <td>2.25</td>\n",
       "    </tr>\n",
       "    <tr>\n",
       "      <th>85</th>\n",
       "      <td>세종특별자치시</td>\n",
       "      <td>합계</td>\n",
       "      <td>세종특별자치시</td>\n",
       "      <td>386525</td>\n",
       "      <td>160835</td>\n",
       "      <td>2.40</td>\n",
       "    </tr>\n",
       "    <tr>\n",
       "      <th>86</th>\n",
       "      <td>세종특별자치시</td>\n",
       "      <td>합계</td>\n",
       "      <td>세종특별자치시</td>\n",
       "      <td>386525</td>\n",
       "      <td>160835</td>\n",
       "      <td>2.40</td>\n",
       "    </tr>\n",
       "    <tr>\n",
       "      <th>87</th>\n",
       "      <td>경기도</td>\n",
       "      <td>합계</td>\n",
       "      <td>경기도</td>\n",
       "      <td>13630821</td>\n",
       "      <td>5978724</td>\n",
       "      <td>2.28</td>\n",
       "    </tr>\n",
       "    <tr>\n",
       "      <th>141</th>\n",
       "      <td>강원특별자치도</td>\n",
       "      <td>합계</td>\n",
       "      <td>강원특별자치도</td>\n",
       "      <td>1527807</td>\n",
       "      <td>760635</td>\n",
       "      <td>2.01</td>\n",
       "    </tr>\n",
       "    <tr>\n",
       "      <th>160</th>\n",
       "      <td>충청북도</td>\n",
       "      <td>합계</td>\n",
       "      <td>충청북도</td>\n",
       "      <td>1593469</td>\n",
       "      <td>779967</td>\n",
       "      <td>2.04</td>\n",
       "    </tr>\n",
       "    <tr>\n",
       "      <th>176</th>\n",
       "      <td>충청남도</td>\n",
       "      <td>합계</td>\n",
       "      <td>충청남도</td>\n",
       "      <td>2130119</td>\n",
       "      <td>1035449</td>\n",
       "      <td>2.06</td>\n",
       "    </tr>\n",
       "    <tr>\n",
       "      <th>194</th>\n",
       "      <td>전라북도</td>\n",
       "      <td>합계</td>\n",
       "      <td>전라북도</td>\n",
       "      <td>1754757</td>\n",
       "      <td>861193</td>\n",
       "      <td>2.04</td>\n",
       "    </tr>\n",
       "    <tr>\n",
       "      <th>211</th>\n",
       "      <td>전라남도</td>\n",
       "      <td>합계</td>\n",
       "      <td>전라남도</td>\n",
       "      <td>1804217</td>\n",
       "      <td>911442</td>\n",
       "      <td>1.98</td>\n",
       "    </tr>\n",
       "    <tr>\n",
       "      <th>234</th>\n",
       "      <td>경상북도</td>\n",
       "      <td>합계</td>\n",
       "      <td>경상북도</td>\n",
       "      <td>2554324</td>\n",
       "      <td>1282500</td>\n",
       "      <td>1.99</td>\n",
       "    </tr>\n",
       "    <tr>\n",
       "      <th>259</th>\n",
       "      <td>경상남도</td>\n",
       "      <td>합계</td>\n",
       "      <td>경상남도</td>\n",
       "      <td>3251158</td>\n",
       "      <td>1525502</td>\n",
       "      <td>2.13</td>\n",
       "    </tr>\n",
       "    <tr>\n",
       "      <th>286</th>\n",
       "      <td>제주특별자치도</td>\n",
       "      <td>합계</td>\n",
       "      <td>제주특별자치도</td>\n",
       "      <td>675252</td>\n",
       "      <td>313155</td>\n",
       "      <td>2.16</td>\n",
       "    </tr>\n",
       "  </tbody>\n",
       "</table>\n",
       "</div>"
      ],
      "text/plain": [
       "        sido sigungu    address  total_pop  total_family  pop_per_family\n",
       "0      서울특별시      합계    서울특별시      9386034       4469417            2.10\n",
       "26     부산광역시      합계    부산광역시      3293362       1564588            2.10\n",
       "43     대구광역시      합계    대구광역시      2374960       1094148            2.17\n",
       "53     인천광역시      합계    인천광역시      2997410       1350912            2.22\n",
       "67     광주광역시      합계    광주광역시      1419237        655433            2.17\n",
       "73     대전광역시      합계    대전광역시      1442216        680261            2.12\n",
       "79     울산광역시      합계    울산광역시      1103661        490690            2.25\n",
       "85   세종특별자치시      합계  세종특별자치시       386525        160835            2.40\n",
       "86   세종특별자치시      합계  세종특별자치시       386525        160835            2.40\n",
       "87       경기도      합계      경기도     13630821       5978724            2.28\n",
       "141  강원특별자치도      합계  강원특별자치도      1527807        760635            2.01\n",
       "160     충청북도      합계     충청북도      1593469        779967            2.04\n",
       "176     충청남도      합계     충청남도      2130119       1035449            2.06\n",
       "194     전라북도      합계     전라북도      1754757        861193            2.04\n",
       "211     전라남도      합계     전라남도      1804217        911442            1.98\n",
       "234     경상북도      합계     경상북도      2554324       1282500            1.99\n",
       "259     경상남도      합계     경상남도      3251158       1525502            2.13\n",
       "286  제주특별자치도      합계  제주특별자치도       675252        313155            2.16"
      ]
     },
     "execution_count": 87,
     "metadata": {},
     "output_type": "execute_result"
    }
   ],
   "source": [
    "pop_info_df_final.loc[pop_info_df_final.sigungu.str.contains('합계')]"
   ]
  },
  {
   "cell_type": "code",
   "execution_count": 88,
   "metadata": {},
   "outputs": [
    {
     "data": {
      "text/plain": [
       "(288, 6)"
      ]
     },
     "execution_count": 88,
     "metadata": {},
     "output_type": "execute_result"
    }
   ],
   "source": [
    "pop_info_df_final[~pop_info_df_final.duplicated()].shape"
   ]
  },
  {
   "cell_type": "code",
   "execution_count": 89,
   "metadata": {},
   "outputs": [
    {
     "data": {
      "text/plain": [
       "(289, 6)"
      ]
     },
     "execution_count": 89,
     "metadata": {},
     "output_type": "execute_result"
    }
   ],
   "source": [
    "pop_info_df_final.shape"
   ]
  },
  {
   "cell_type": "code",
   "execution_count": 90,
   "metadata": {},
   "outputs": [],
   "source": [
    "pop_info_df_final_1 = pop_info_df_final[~pop_info_df_final.duplicated()].copy()"
   ]
  },
  {
   "cell_type": "code",
   "execution_count": 91,
   "metadata": {},
   "outputs": [],
   "source": [
    "for key, values in sido_convert.items():\n",
    "    for v in values:\n",
    "        pop_info_df_final_1.loc[pop_info_df_final_1.sido == v, 'sido'] = key"
   ]
  },
  {
   "cell_type": "code",
   "execution_count": 92,
   "metadata": {},
   "outputs": [
    {
     "data": {
      "text/plain": [
       "array(['서울특별시', '부산광역시', '대구광역시', '인천광역시', '광주광역시', '대전광역시', '울산광역시',\n",
       "       '세종특별자치시', '경기도', '강원특별자치도', '충청북도', '충청남도', '전북특별자치도', '전라남도',\n",
       "       '경상북도', '경상남도', '제주특별자치도'], dtype=object)"
      ]
     },
     "execution_count": 92,
     "metadata": {},
     "output_type": "execute_result"
    }
   ],
   "source": [
    "pop_info_df_final_1.sido.unique()"
   ]
  },
  {
   "cell_type": "code",
   "execution_count": 93,
   "metadata": {},
   "outputs": [
    {
     "name": "stdout",
     "output_type": "stream",
     "text": [
      "`sido` ,\n",
      "`sigungu` ,\n",
      "`address` ,\n",
      "`total_pop` ,\n",
      "`total_family` ,\n",
      "`pop_per_family` ,\n"
     ]
    }
   ],
   "source": [
    "for i in pop_info_df_final_1.columns:\n",
    "    print(f'`{i}` ,')"
   ]
  },
  {
   "cell_type": "code",
   "execution_count": 94,
   "metadata": {},
   "outputs": [
    {
     "data": {
      "text/html": [
       "<div>\n",
       "<style scoped>\n",
       "    .dataframe tbody tr th:only-of-type {\n",
       "        vertical-align: middle;\n",
       "    }\n",
       "\n",
       "    .dataframe tbody tr th {\n",
       "        vertical-align: top;\n",
       "    }\n",
       "\n",
       "    .dataframe thead th {\n",
       "        text-align: right;\n",
       "    }\n",
       "</style>\n",
       "<table border=\"1\" class=\"dataframe\">\n",
       "  <thead>\n",
       "    <tr style=\"text-align: right;\">\n",
       "      <th></th>\n",
       "      <th>sido</th>\n",
       "      <th>sigungu</th>\n",
       "      <th>address</th>\n",
       "      <th>total_pop</th>\n",
       "      <th>total_family</th>\n",
       "      <th>pop_per_family</th>\n",
       "    </tr>\n",
       "  </thead>\n",
       "  <tbody>\n",
       "    <tr>\n",
       "      <th>0</th>\n",
       "      <td>서울특별시</td>\n",
       "      <td>합계</td>\n",
       "      <td>서울특별시</td>\n",
       "      <td>9386034</td>\n",
       "      <td>4469417</td>\n",
       "      <td>2.10</td>\n",
       "    </tr>\n",
       "    <tr>\n",
       "      <th>1</th>\n",
       "      <td>서울특별시</td>\n",
       "      <td>종로구</td>\n",
       "      <td>서울특별시 종로구</td>\n",
       "      <td>139417</td>\n",
       "      <td>72067</td>\n",
       "      <td>1.93</td>\n",
       "    </tr>\n",
       "    <tr>\n",
       "      <th>2</th>\n",
       "      <td>서울특별시</td>\n",
       "      <td>중구</td>\n",
       "      <td>서울특별시 중구</td>\n",
       "      <td>121312</td>\n",
       "      <td>64714</td>\n",
       "      <td>1.87</td>\n",
       "    </tr>\n",
       "    <tr>\n",
       "      <th>3</th>\n",
       "      <td>서울특별시</td>\n",
       "      <td>용산구</td>\n",
       "      <td>서울특별시 용산구</td>\n",
       "      <td>213151</td>\n",
       "      <td>107825</td>\n",
       "      <td>1.98</td>\n",
       "    </tr>\n",
       "    <tr>\n",
       "      <th>4</th>\n",
       "      <td>서울특별시</td>\n",
       "      <td>성동구</td>\n",
       "      <td>서울특별시 성동구</td>\n",
       "      <td>277361</td>\n",
       "      <td>133089</td>\n",
       "      <td>2.08</td>\n",
       "    </tr>\n",
       "    <tr>\n",
       "      <th>...</th>\n",
       "      <td>...</td>\n",
       "      <td>...</td>\n",
       "      <td>...</td>\n",
       "      <td>...</td>\n",
       "      <td>...</td>\n",
       "      <td>...</td>\n",
       "    </tr>\n",
       "    <tr>\n",
       "      <th>284</th>\n",
       "      <td>경상남도</td>\n",
       "      <td>거창군</td>\n",
       "      <td>경상남도 거창군</td>\n",
       "      <td>60047</td>\n",
       "      <td>30934</td>\n",
       "      <td>1.94</td>\n",
       "    </tr>\n",
       "    <tr>\n",
       "      <th>285</th>\n",
       "      <td>경상남도</td>\n",
       "      <td>합천군</td>\n",
       "      <td>경상남도 합천군</td>\n",
       "      <td>41203</td>\n",
       "      <td>23939</td>\n",
       "      <td>1.72</td>\n",
       "    </tr>\n",
       "    <tr>\n",
       "      <th>286</th>\n",
       "      <td>제주특별자치도</td>\n",
       "      <td>합계</td>\n",
       "      <td>제주특별자치도</td>\n",
       "      <td>675252</td>\n",
       "      <td>313155</td>\n",
       "      <td>2.16</td>\n",
       "    </tr>\n",
       "    <tr>\n",
       "      <th>287</th>\n",
       "      <td>제주특별자치도</td>\n",
       "      <td>제주시</td>\n",
       "      <td>제주특별자치도 제주시</td>\n",
       "      <td>491654</td>\n",
       "      <td>224433</td>\n",
       "      <td>2.19</td>\n",
       "    </tr>\n",
       "    <tr>\n",
       "      <th>288</th>\n",
       "      <td>제주특별자치도</td>\n",
       "      <td>서귀포시</td>\n",
       "      <td>제주특별자치도 서귀포시</td>\n",
       "      <td>183598</td>\n",
       "      <td>88722</td>\n",
       "      <td>2.07</td>\n",
       "    </tr>\n",
       "  </tbody>\n",
       "</table>\n",
       "<p>288 rows × 6 columns</p>\n",
       "</div>"
      ],
      "text/plain": [
       "        sido sigungu        address  total_pop  total_family  pop_per_family\n",
       "0      서울특별시      합계        서울특별시      9386034       4469417            2.10\n",
       "1      서울특별시     종로구     서울특별시 종로구      139417         72067            1.93\n",
       "2      서울특별시      중구      서울특별시 중구      121312         64714            1.87\n",
       "3      서울특별시     용산구     서울특별시 용산구      213151        107825            1.98\n",
       "4      서울특별시     성동구     서울특별시 성동구      277361        133089            2.08\n",
       "..       ...     ...            ...        ...           ...             ...\n",
       "284     경상남도     거창군      경상남도 거창군       60047         30934            1.94\n",
       "285     경상남도     합천군      경상남도 합천군       41203         23939            1.72\n",
       "286  제주특별자치도      합계      제주특별자치도       675252        313155            2.16\n",
       "287  제주특별자치도     제주시   제주특별자치도 제주시      491654        224433            2.19\n",
       "288  제주특별자치도    서귀포시  제주특별자치도 서귀포시      183598         88722            2.07\n",
       "\n",
       "[288 rows x 6 columns]"
      ]
     },
     "execution_count": 94,
     "metadata": {},
     "output_type": "execute_result"
    }
   ],
   "source": [
    "pop_info_df_final_1"
   ]
  },
  {
   "cell_type": "code",
   "execution_count": 95,
   "metadata": {},
   "outputs": [
    {
     "data": {
      "text/plain": [
       "0      1\n",
       "1      1\n",
       "2      1\n",
       "3      1\n",
       "4      1\n",
       "      ..\n",
       "284    1\n",
       "285    1\n",
       "286    1\n",
       "287    1\n",
       "288    1\n",
       "Length: 288, dtype: int64"
      ]
     },
     "execution_count": 95,
     "metadata": {},
     "output_type": "execute_result"
    }
   ],
   "source": [
    "sql = \"INSERT INTO popInfo VALUES (%s, %s, %s, %s, %s, %s)\"\n",
    "pop_info_df_final_1.apply(lambda x : cur.execute(sql, x.tolist() ), axis=1)"
   ]
  },
  {
   "cell_type": "code",
   "execution_count": 96,
   "metadata": {},
   "outputs": [],
   "source": [
    "con.commit()"
   ]
  },
  {
   "cell_type": "markdown",
   "metadata": {},
   "source": [
    "- - -\n",
    "- area_info_df: 2023년도 총면적 조사"
   ]
  },
  {
   "cell_type": "code",
   "execution_count": 97,
   "metadata": {},
   "outputs": [
    {
     "data": {
      "text/html": [
       "<div>\n",
       "<style scoped>\n",
       "    .dataframe tbody tr th:only-of-type {\n",
       "        vertical-align: middle;\n",
       "    }\n",
       "\n",
       "    .dataframe tbody tr th {\n",
       "        vertical-align: top;\n",
       "    }\n",
       "\n",
       "    .dataframe thead th {\n",
       "        text-align: right;\n",
       "    }\n",
       "</style>\n",
       "<table border=\"1\" class=\"dataframe\">\n",
       "  <thead>\n",
       "    <tr style=\"text-align: right;\">\n",
       "      <th></th>\n",
       "      <th>년(Annual)</th>\n",
       "      <th>시도</th>\n",
       "      <th>시군구</th>\n",
       "      <th>면적</th>\n",
       "      <th>지번수</th>\n",
       "    </tr>\n",
       "  </thead>\n",
       "  <tbody>\n",
       "    <tr>\n",
       "      <th>0</th>\n",
       "      <td>2023</td>\n",
       "      <td>전국</td>\n",
       "      <td>전국</td>\n",
       "      <td>100449356102</td>\n",
       "      <td>39631891</td>\n",
       "    </tr>\n",
       "  </tbody>\n",
       "</table>\n",
       "</div>"
      ],
      "text/plain": [
       "   년(Annual)  시도 시군구            면적       지번수\n",
       "0       2023  전국  전국  100449356102  39631891"
      ]
     },
     "execution_count": 97,
     "metadata": {},
     "output_type": "execute_result"
    }
   ],
   "source": [
    "area_info_df = pd.read_csv('./../../../data/dataset_miniproject1/area_info.csv', encoding='cp949')\n",
    "area_info_df.head(1)"
   ]
  },
  {
   "cell_type": "code",
   "execution_count": 98,
   "metadata": {},
   "outputs": [
    {
     "name": "stdout",
     "output_type": "stream",
     "text": [
      "['년(Annual)', '시도', '시군구', '면적', '지번수']"
     ]
    }
   ],
   "source": [
    "print(area_info_df.columns.tolist(), end='')"
   ]
  },
  {
   "cell_type": "code",
   "execution_count": 99,
   "metadata": {},
   "outputs": [],
   "source": [
    "area_info_df.columns = ['year', 'sido', 'sigungu', 'area', 'land_address_count']"
   ]
  },
  {
   "cell_type": "code",
   "execution_count": 100,
   "metadata": {},
   "outputs": [
    {
     "data": {
      "text/plain": [
       "27      부산\n",
       "32    부산진구\n",
       "Name: sigungu, dtype: object"
      ]
     },
     "execution_count": 100,
     "metadata": {},
     "output_type": "execute_result"
    }
   ],
   "source": [
    "area_info_df.loc[area_info_df.sigungu.str.contains('부산'), 'sigungu']"
   ]
  },
  {
   "cell_type": "code",
   "execution_count": 101,
   "metadata": {},
   "outputs": [],
   "source": [
    "#area_info_df.sigungu.unique()\n",
    "area_info_df.loc[area_info_df.sigungu.str.contains('\\(계\\)'), 'sigungu'] = area_info_df.loc[area_info_df.sigungu.str.contains('\\(계\\)'), 'sigungu'].apply(lambda x: x[:-3])"
   ]
  },
  {
   "cell_type": "code",
   "execution_count": 102,
   "metadata": {},
   "outputs": [
    {
     "data": {
      "text/plain": [
       "array(['전국', '서울', '종로구', '중구', '용산구', '성동구', '광진구', '동대문구', '중랑구', '성북구',\n",
       "       '강북구', '도봉구', '노원구', '은평구', '서대문구', '마포구', '양천구', '강서구', '구로구',\n",
       "       '금천구', '영등포구', '동작구', '관악구', '서초구', '강남구', '송파구', '강동구', '부산',\n",
       "       '서구', '동구', '영도구', '부산진구', '동래구', '남구', '북구', '해운대구', '사하구', '금정구',\n",
       "       '연제구', '수영구', '사상구', '기장군', '대구', '수성구', '달서구', '달성군', '군위군', '인천',\n",
       "       '미추홀구', '연수구', '남동구', '부평구', '계양구', '강화군', '옹진군', '광주', '광산구',\n",
       "       '대전', '유성구', '대덕구', '울산', '울주군', '합계', '세종특별자치시', '경기', '수원시',\n",
       "       '성남시', '의정부시', '안양시', '부천시', '광명시', '평택시', '동두천시', '안산시', '고양시',\n",
       "       '과천시', '남양주시', '오산시', '시흥시', '군포시', '의왕시', '하남시', '용인시', '파주시',\n",
       "       '이천시', '안성시', '김포시', '화성시', '광주시', '양주시', '포천시', '여주시', '연천군',\n",
       "       '가평군', '양평군', '강원', '춘천시', '원주시', '강릉시', '동해시', '태백시', '속초시',\n",
       "       '삼척시', '홍천군', '횡성군', '영월군', '평창군', '정선군', '철원군', '화천군', '양구군',\n",
       "       '인제군', '고성군', '양양군', '충북', '청주시', '충주시', '제천시', '보은군', '옥천군',\n",
       "       '영동군', '증평군', '진천군', '괴산군', '음성군', '단양군', '충남', '천안시', '공주시',\n",
       "       '보령시', '아산시', '서산시', '논산시', '계룡시', '당진시', '금산군', '부여군', '서천군',\n",
       "       '청양군', '홍성군', '예산군', '태안군', '전북', '전주시', '군산시', '익산시', '정읍시',\n",
       "       '남원시', '김제시', '완주군', '진안군', '무주군', '장수군', '임실군', '순창군', '고창군',\n",
       "       '부안군', '전남', '목포시', '여수시', '순천시', '나주시', '광양시', '담양군', '곡성군',\n",
       "       '구례군', '고흥군', '보성군', '화순군', '장흥군', '강진군', '해남군', '영암군', '무안군',\n",
       "       '함평군', '영광군', '장성군', '완도군', '진도군', '신안군', '경북', '포항시', '경주시',\n",
       "       '김천시', '안동시', '영주시', '영천시', '상주시', '문경시', '경산시', '의성군', '청송군',\n",
       "       '영양군', '영덕군', '청도군', '고령군', '성주군', '칠곡군', '예천군', '봉화군', '울진군',\n",
       "       '울릉군', '경남', '창원시', '진주시', '통영시', '사천시', '김해시', '밀양시', '거제시',\n",
       "       '양산시', '의령군', '함안군', '창녕군', '남해군', '하동군', '산청군', '함양군', '거창군',\n",
       "       '합천군', '제주', '제주시', '서귀포시'], dtype=object)"
      ]
     },
     "execution_count": 102,
     "metadata": {},
     "output_type": "execute_result"
    }
   ],
   "source": [
    "#area_info_df.loc[area_info_df.sigungu.str.contains('\\(계\\)'), 'sigungu']\n",
    "area_info_df.sigungu.unique()"
   ]
  },
  {
   "cell_type": "code",
   "execution_count": 103,
   "metadata": {},
   "outputs": [],
   "source": [
    "area_info_df.loc[(area_info_df.sigungu == area_info_df.sido) & (area_info_df.sigungu != '세종특별자치시'), 'sigungu'] = '합계'"
   ]
  },
  {
   "cell_type": "code",
   "execution_count": 104,
   "metadata": {},
   "outputs": [
    {
     "data": {
      "text/html": [
       "<div>\n",
       "<style scoped>\n",
       "    .dataframe tbody tr th:only-of-type {\n",
       "        vertical-align: middle;\n",
       "    }\n",
       "\n",
       "    .dataframe tbody tr th {\n",
       "        vertical-align: top;\n",
       "    }\n",
       "\n",
       "    .dataframe thead th {\n",
       "        text-align: right;\n",
       "    }\n",
       "</style>\n",
       "<table border=\"1\" class=\"dataframe\">\n",
       "  <thead>\n",
       "    <tr style=\"text-align: right;\">\n",
       "      <th></th>\n",
       "      <th>year</th>\n",
       "      <th>sido</th>\n",
       "      <th>sigungu</th>\n",
       "      <th>area</th>\n",
       "      <th>land_address_count</th>\n",
       "    </tr>\n",
       "  </thead>\n",
       "  <tbody>\n",
       "    <tr>\n",
       "      <th>0</th>\n",
       "      <td>2023</td>\n",
       "      <td>전국</td>\n",
       "      <td>합계</td>\n",
       "      <td>100449356102</td>\n",
       "      <td>39631891</td>\n",
       "    </tr>\n",
       "    <tr>\n",
       "      <th>1</th>\n",
       "      <td>2023</td>\n",
       "      <td>서울</td>\n",
       "      <td>합계</td>\n",
       "      <td>605204030</td>\n",
       "      <td>907453</td>\n",
       "    </tr>\n",
       "    <tr>\n",
       "      <th>2</th>\n",
       "      <td>2023</td>\n",
       "      <td>서울</td>\n",
       "      <td>종로구</td>\n",
       "      <td>23913222</td>\n",
       "      <td>49139</td>\n",
       "    </tr>\n",
       "    <tr>\n",
       "      <th>3</th>\n",
       "      <td>2023</td>\n",
       "      <td>서울</td>\n",
       "      <td>중구</td>\n",
       "      <td>9959947</td>\n",
       "      <td>34540</td>\n",
       "    </tr>\n",
       "    <tr>\n",
       "      <th>4</th>\n",
       "      <td>2023</td>\n",
       "      <td>서울</td>\n",
       "      <td>용산구</td>\n",
       "      <td>21867577</td>\n",
       "      <td>44667</td>\n",
       "    </tr>\n",
       "    <tr>\n",
       "      <th>...</th>\n",
       "      <td>...</td>\n",
       "      <td>...</td>\n",
       "      <td>...</td>\n",
       "      <td>...</td>\n",
       "      <td>...</td>\n",
       "    </tr>\n",
       "    <tr>\n",
       "      <th>240</th>\n",
       "      <td>2023</td>\n",
       "      <td>경남</td>\n",
       "      <td>거창군</td>\n",
       "      <td>803956581</td>\n",
       "      <td>266331</td>\n",
       "    </tr>\n",
       "    <tr>\n",
       "      <th>241</th>\n",
       "      <td>2023</td>\n",
       "      <td>경남</td>\n",
       "      <td>합천군</td>\n",
       "      <td>983118399</td>\n",
       "      <td>328590</td>\n",
       "    </tr>\n",
       "    <tr>\n",
       "      <th>242</th>\n",
       "      <td>2023</td>\n",
       "      <td>제주</td>\n",
       "      <td>합계</td>\n",
       "      <td>1850273554</td>\n",
       "      <td>879102</td>\n",
       "    </tr>\n",
       "    <tr>\n",
       "      <th>243</th>\n",
       "      <td>2023</td>\n",
       "      <td>제주</td>\n",
       "      <td>제주시</td>\n",
       "      <td>978767267</td>\n",
       "      <td>523533</td>\n",
       "    </tr>\n",
       "    <tr>\n",
       "      <th>244</th>\n",
       "      <td>2023</td>\n",
       "      <td>제주</td>\n",
       "      <td>서귀포시</td>\n",
       "      <td>871506287</td>\n",
       "      <td>355569</td>\n",
       "    </tr>\n",
       "  </tbody>\n",
       "</table>\n",
       "<p>245 rows × 5 columns</p>\n",
       "</div>"
      ],
      "text/plain": [
       "     year sido sigungu          area  land_address_count\n",
       "0    2023   전국      합계  100449356102            39631891\n",
       "1    2023   서울      합계     605204030              907453\n",
       "2    2023   서울     종로구      23913222               49139\n",
       "3    2023   서울      중구       9959947               34540\n",
       "4    2023   서울     용산구      21867577               44667\n",
       "..    ...  ...     ...           ...                 ...\n",
       "240  2023   경남     거창군     803956581              266331\n",
       "241  2023   경남     합천군     983118399              328590\n",
       "242  2023   제주      합계    1850273554              879102\n",
       "243  2023   제주     제주시     978767267              523533\n",
       "244  2023   제주    서귀포시     871506287              355569\n",
       "\n",
       "[245 rows x 5 columns]"
      ]
     },
     "execution_count": 104,
     "metadata": {},
     "output_type": "execute_result"
    }
   ],
   "source": [
    "area_info_df"
   ]
  },
  {
   "cell_type": "code",
   "execution_count": 105,
   "metadata": {},
   "outputs": [],
   "source": [
    "for key, values in sido_convert.items():\n",
    "    for v in values:\n",
    "        area_info_df.loc[area_info_df.sido == v, 'sido'] = key"
   ]
  },
  {
   "cell_type": "code",
   "execution_count": 106,
   "metadata": {},
   "outputs": [
    {
     "data": {
      "text/plain": [
       "array(['전국', '서울특별시', '부산광역시', '대구광역시', '인천광역시', '광주광역시', '대전광역시',\n",
       "       '울산광역시', '세종특별자치시', '경기도', '강원특별자치도', '충청북도', '충청남도', '전북특별자치도',\n",
       "       '전라남도', '경상북도', '경상남도', '제주특별자치도'], dtype=object)"
      ]
     },
     "execution_count": 106,
     "metadata": {},
     "output_type": "execute_result"
    }
   ],
   "source": [
    "area_info_df.sido.unique()"
   ]
  },
  {
   "cell_type": "code",
   "execution_count": 107,
   "metadata": {},
   "outputs": [
    {
     "name": "stdout",
     "output_type": "stream",
     "text": [
      "`year` ,\n",
      "`sido` ,\n",
      "`sigungu` ,\n",
      "`area` ,\n",
      "`land_address_count` ,\n"
     ]
    }
   ],
   "source": [
    "for i in area_info_df.columns:\n",
    "    print(f'`{i}` ,')"
   ]
  },
  {
   "cell_type": "code",
   "execution_count": 113,
   "metadata": {},
   "outputs": [
    {
     "data": {
      "text/plain": [
       "0      1\n",
       "1      1\n",
       "2      1\n",
       "3      1\n",
       "4      1\n",
       "      ..\n",
       "240    1\n",
       "241    1\n",
       "242    1\n",
       "243    1\n",
       "244    1\n",
       "Length: 245, dtype: int64"
      ]
     },
     "execution_count": 113,
     "metadata": {},
     "output_type": "execute_result"
    }
   ],
   "source": [
    "sql = \"INSERT INTO areaInfo VALUES (%s, %s, %s, %s, %s)\"\n",
    "area_info_df.apply(lambda x : cur.execute(sql, x.tolist() ), axis=1)"
   ]
  },
  {
   "cell_type": "code",
   "execution_count": 114,
   "metadata": {},
   "outputs": [],
   "source": [
    "con.commit()"
   ]
  },
  {
   "cell_type": "code",
   "execution_count": 110,
   "metadata": {},
   "outputs": [],
   "source": [
    "con.close()"
   ]
  },
  {
   "cell_type": "markdown",
   "metadata": {},
   "source": [
    "- - -\n",
    "car_model_df: 전기차 모델별 주행거리"
   ]
  },
  {
   "cell_type": "code",
   "execution_count": 14,
   "metadata": {},
   "outputs": [
    {
     "data": {
      "text/html": [
       "<div>\n",
       "<style scoped>\n",
       "    .dataframe tbody tr th:only-of-type {\n",
       "        vertical-align: middle;\n",
       "    }\n",
       "\n",
       "    .dataframe tbody tr th {\n",
       "        vertical-align: top;\n",
       "    }\n",
       "\n",
       "    .dataframe thead th {\n",
       "        text-align: right;\n",
       "    }\n",
       "</style>\n",
       "<table border=\"1\" class=\"dataframe\">\n",
       "  <thead>\n",
       "    <tr style=\"text-align: right;\">\n",
       "      <th></th>\n",
       "      <th>차종</th>\n",
       "      <th>주행거리(1회 충전 시,km)</th>\n",
       "    </tr>\n",
       "  </thead>\n",
       "  <tbody>\n",
       "    <tr>\n",
       "      <th>0</th>\n",
       "      <td>2024 테슬라 모델S</td>\n",
       "      <td>514</td>\n",
       "    </tr>\n",
       "  </tbody>\n",
       "</table>\n",
       "</div>"
      ],
      "text/plain": [
       "             차종  주행거리(1회 충전 시,km)\n",
       "0  2024 테슬라 모델S               514"
      ]
     },
     "execution_count": 14,
     "metadata": {},
     "output_type": "execute_result"
    }
   ],
   "source": [
    "car_model_df = pd.read_csv('./../../../data/dataset_miniproject1/car_model.csv', encoding='cp949')\n",
    "car_model_df.head(1)"
   ]
  },
  {
   "cell_type": "code",
   "execution_count": 15,
   "metadata": {},
   "outputs": [],
   "source": [
    "car_model_df.columns = ['car_model', 'range_per_charge']"
   ]
  },
  {
   "cell_type": "code",
   "execution_count": 16,
   "metadata": {},
   "outputs": [
    {
     "data": {
      "text/html": [
       "<div>\n",
       "<style scoped>\n",
       "    .dataframe tbody tr th:only-of-type {\n",
       "        vertical-align: middle;\n",
       "    }\n",
       "\n",
       "    .dataframe tbody tr th {\n",
       "        vertical-align: top;\n",
       "    }\n",
       "\n",
       "    .dataframe thead th {\n",
       "        text-align: right;\n",
       "    }\n",
       "</style>\n",
       "<table border=\"1\" class=\"dataframe\">\n",
       "  <thead>\n",
       "    <tr style=\"text-align: right;\">\n",
       "      <th></th>\n",
       "      <th>car_model</th>\n",
       "      <th>range_per_charge</th>\n",
       "    </tr>\n",
       "  </thead>\n",
       "  <tbody>\n",
       "    <tr>\n",
       "      <th>0</th>\n",
       "      <td>2024 테슬라 모델S</td>\n",
       "      <td>514</td>\n",
       "    </tr>\n",
       "    <tr>\n",
       "      <th>1</th>\n",
       "      <td>2024 테슬라 모델3</td>\n",
       "      <td>435</td>\n",
       "    </tr>\n",
       "    <tr>\n",
       "      <th>2</th>\n",
       "      <td>2024 대창모터스 다니고 W</td>\n",
       "      <td>186</td>\n",
       "    </tr>\n",
       "    <tr>\n",
       "      <th>3</th>\n",
       "      <td>2024 대창모터스 다니고 T</td>\n",
       "      <td>175</td>\n",
       "    </tr>\n",
       "    <tr>\n",
       "      <th>4</th>\n",
       "      <td>2024 대창모터스 다니고 R</td>\n",
       "      <td>186</td>\n",
       "    </tr>\n",
       "    <tr>\n",
       "      <th>...</th>\n",
       "      <td>...</td>\n",
       "      <td>...</td>\n",
       "    </tr>\n",
       "    <tr>\n",
       "      <th>64</th>\n",
       "      <td>2022 코란도 이모션</td>\n",
       "      <td>307</td>\n",
       "    </tr>\n",
       "    <tr>\n",
       "      <th>65</th>\n",
       "      <td>2022 DS 3 크로스백 E-텐스</td>\n",
       "      <td>260</td>\n",
       "    </tr>\n",
       "    <tr>\n",
       "      <th>66</th>\n",
       "      <td>2022 아우디 e-트론 GT</td>\n",
       "      <td>362</td>\n",
       "    </tr>\n",
       "    <tr>\n",
       "      <th>67</th>\n",
       "      <td>2022 아우디 RS e-트론 GT</td>\n",
       "      <td>336</td>\n",
       "    </tr>\n",
       "    <tr>\n",
       "      <th>68</th>\n",
       "      <td>평균</td>\n",
       "      <td>344</td>\n",
       "    </tr>\n",
       "  </tbody>\n",
       "</table>\n",
       "<p>69 rows × 2 columns</p>\n",
       "</div>"
      ],
      "text/plain": [
       "              car_model  range_per_charge\n",
       "0          2024 테슬라 모델S               514\n",
       "1          2024 테슬라 모델3               435\n",
       "2      2024 대창모터스 다니고 W               186\n",
       "3      2024 대창모터스 다니고 T               175\n",
       "4      2024 대창모터스 다니고 R               186\n",
       "..                  ...               ...\n",
       "64         2022 코란도 이모션               307\n",
       "65  2022 DS 3 크로스백 E-텐스               260\n",
       "66     2022 아우디 e-트론 GT               362\n",
       "67  2022 아우디 RS e-트론 GT               336\n",
       "68                   평균               344\n",
       "\n",
       "[69 rows x 2 columns]"
      ]
     },
     "execution_count": 16,
     "metadata": {},
     "output_type": "execute_result"
    }
   ],
   "source": [
    "car_model_df"
   ]
  },
  {
   "cell_type": "code",
   "execution_count": 17,
   "metadata": {},
   "outputs": [
    {
     "name": "stdout",
     "output_type": "stream",
     "text": [
      "`car_model` ,\n",
      "`range_per_charge` ,\n"
     ]
    }
   ],
   "source": [
    "for i in car_model_df.columns:\n",
    "    print(f'`{i}` ,')"
   ]
  },
  {
   "cell_type": "code",
   "execution_count": 18,
   "metadata": {},
   "outputs": [
    {
     "data": {
      "text/plain": [
       "0     1\n",
       "1     1\n",
       "2     1\n",
       "3     1\n",
       "4     1\n",
       "     ..\n",
       "64    1\n",
       "65    1\n",
       "66    1\n",
       "67    1\n",
       "68    1\n",
       "Length: 69, dtype: int64"
      ]
     },
     "execution_count": 18,
     "metadata": {},
     "output_type": "execute_result"
    }
   ],
   "source": [
    "#cur = con.cursor()\n",
    "sql = \"INSERT INTO carModel VALUES (%s, %s)\"\n",
    "car_model_df.apply(lambda x : cur.execute(sql, x.tolist() ), axis=1)\n",
    "#cur.close()"
   ]
  },
  {
   "cell_type": "code",
   "execution_count": 20,
   "metadata": {},
   "outputs": [],
   "source": [
    "con.commit()"
   ]
  },
  {
   "cell_type": "markdown",
   "metadata": {},
   "source": [
    "- - -\n",
    "- charge_station_count: 전국 전기차 충전소 총 개수 (시도별)"
   ]
  },
  {
   "cell_type": "code",
   "execution_count": 115,
   "metadata": {},
   "outputs": [
    {
     "data": {
      "text/html": [
       "<div>\n",
       "<style scoped>\n",
       "    .dataframe tbody tr th:only-of-type {\n",
       "        vertical-align: middle;\n",
       "    }\n",
       "\n",
       "    .dataframe tbody tr th {\n",
       "        vertical-align: top;\n",
       "    }\n",
       "\n",
       "    .dataframe thead th {\n",
       "        text-align: right;\n",
       "    }\n",
       "</style>\n",
       "<table border=\"1\" class=\"dataframe\">\n",
       "  <thead>\n",
       "    <tr style=\"text-align: right;\">\n",
       "      <th></th>\n",
       "      <th>연도</th>\n",
       "      <th>시도</th>\n",
       "      <th>충전속도</th>\n",
       "      <th>개수</th>\n",
       "    </tr>\n",
       "  </thead>\n",
       "  <tbody>\n",
       "    <tr>\n",
       "      <th>0</th>\n",
       "      <td>2023</td>\n",
       "      <td>서울</td>\n",
       "      <td>완속</td>\n",
       "      <td>44480</td>\n",
       "    </tr>\n",
       "  </tbody>\n",
       "</table>\n",
       "</div>"
      ],
      "text/plain": [
       "     연도  시도 충전속도     개수\n",
       "0  2023  서울   완속  44480"
      ]
     },
     "execution_count": 115,
     "metadata": {},
     "output_type": "execute_result"
    }
   ],
   "source": [
    "charge_station_count_df = pd.read_csv('./../../../data/dataset_miniproject1/charge_station_count.csv', encoding='cp949')\n",
    "charge_station_count_df.head(1)"
   ]
  },
  {
   "cell_type": "code",
   "execution_count": 116,
   "metadata": {},
   "outputs": [],
   "source": [
    "charge_station_count_df.columns = ['year', 'sido', 'charge_type', 'count']"
   ]
  },
  {
   "cell_type": "code",
   "execution_count": 117,
   "metadata": {},
   "outputs": [],
   "source": [
    "for key, values in sido_convert.items():\n",
    "    for v in values:\n",
    "        charge_station_count_df.loc[charge_station_count_df.sido == v, 'sido'] = key"
   ]
  },
  {
   "cell_type": "code",
   "execution_count": 118,
   "metadata": {},
   "outputs": [
    {
     "data": {
      "text/plain": [
       "array(['서울특별시', '경기도', '인천광역시', '경상', '전라', '충청', '강원특별자치도', '제주특별자치도'],\n",
       "      dtype=object)"
      ]
     },
     "execution_count": 118,
     "metadata": {},
     "output_type": "execute_result"
    }
   ],
   "source": [
    "charge_station_count_df.sido.unique()"
   ]
  },
  {
   "cell_type": "code",
   "execution_count": 119,
   "metadata": {},
   "outputs": [
    {
     "name": "stdout",
     "output_type": "stream",
     "text": [
      "`year` ,\n",
      "`sido` ,\n",
      "`charge_type` ,\n",
      "`count` ,\n"
     ]
    }
   ],
   "source": [
    "for i in charge_station_count_df.columns:\n",
    "    print(f'`{i}` ,')"
   ]
  },
  {
   "cell_type": "code",
   "execution_count": 120,
   "metadata": {},
   "outputs": [
    {
     "data": {
      "text/plain": [
       "0     1\n",
       "1     1\n",
       "2     1\n",
       "3     1\n",
       "4     1\n",
       "     ..\n",
       "59    1\n",
       "60    1\n",
       "61    1\n",
       "62    1\n",
       "63    1\n",
       "Length: 64, dtype: int64"
      ]
     },
     "execution_count": 120,
     "metadata": {},
     "output_type": "execute_result"
    }
   ],
   "source": [
    "sql = \"INSERT INTO chargeStationCount VALUES (%s, %s, %s, %s)\"\n",
    "charge_station_count_df.apply(lambda x : cur.execute(sql, x.tolist() ), axis=1)"
   ]
  },
  {
   "cell_type": "code",
   "execution_count": 121,
   "metadata": {},
   "outputs": [],
   "source": [
    "con.commit()"
   ]
  },
  {
   "cell_type": "markdown",
   "metadata": {},
   "source": [
    "- - -\n",
    "- electric_car_regitrection_count_df: 전국 전기차 등록현황"
   ]
  },
  {
   "cell_type": "code",
   "execution_count": 122,
   "metadata": {},
   "outputs": [
    {
     "data": {
      "text/html": [
       "<div>\n",
       "<style scoped>\n",
       "    .dataframe tbody tr th:only-of-type {\n",
       "        vertical-align: middle;\n",
       "    }\n",
       "\n",
       "    .dataframe tbody tr th {\n",
       "        vertical-align: top;\n",
       "    }\n",
       "\n",
       "    .dataframe thead th {\n",
       "        text-align: right;\n",
       "    }\n",
       "</style>\n",
       "<table border=\"1\" class=\"dataframe\">\n",
       "  <thead>\n",
       "    <tr style=\"text-align: right;\">\n",
       "      <th></th>\n",
       "      <th>연도</th>\n",
       "      <th>시도</th>\n",
       "      <th>개수</th>\n",
       "    </tr>\n",
       "  </thead>\n",
       "  <tbody>\n",
       "    <tr>\n",
       "      <th>0</th>\n",
       "      <td>2023</td>\n",
       "      <td>서울</td>\n",
       "      <td>72937</td>\n",
       "    </tr>\n",
       "  </tbody>\n",
       "</table>\n",
       "</div>"
      ],
      "text/plain": [
       "     연도  시도     개수\n",
       "0  2023  서울  72937"
      ]
     },
     "execution_count": 122,
     "metadata": {},
     "output_type": "execute_result"
    }
   ],
   "source": [
    "electric_car_regitrection_count_df = pd.read_csv('./../../../data/dataset_miniproject1/electric_car_regitrection_count.csv', encoding='cp949')\n",
    "electric_car_regitrection_count_df.head(1)"
   ]
  },
  {
   "cell_type": "code",
   "execution_count": 123,
   "metadata": {},
   "outputs": [],
   "source": [
    "electric_car_regitrection_count_df.columns = ['year', 'sido', 'count']"
   ]
  },
  {
   "cell_type": "code",
   "execution_count": 124,
   "metadata": {},
   "outputs": [],
   "source": [
    "for key, values in sido_convert.items():\n",
    "    for v in values:\n",
    "        electric_car_regitrection_count_df.loc[electric_car_regitrection_count_df.sido == v, 'sido'] = key"
   ]
  },
  {
   "cell_type": "code",
   "execution_count": 125,
   "metadata": {},
   "outputs": [
    {
     "name": "stdout",
     "output_type": "stream",
     "text": [
      "`year` ,\n",
      "`sido` ,\n",
      "`count` ,\n"
     ]
    }
   ],
   "source": [
    "for i in electric_car_regitrection_count_df.columns:\n",
    "    print(f'`{i}` ,')"
   ]
  },
  {
   "cell_type": "code",
   "execution_count": 126,
   "metadata": {},
   "outputs": [
    {
     "data": {
      "text/plain": [
       "array(['서울특별시', '부산광역시', '대구광역시', '인천광역시', '광주광역시', '대전광역시', '울산광역시',\n",
       "       '세종특별자치시', '경기도', '강원특별자치도', '충청북도', '충청남도', '전북특별자치도', '전라남도',\n",
       "       '경상북도', '경상남도', '제주특별자치도'], dtype=object)"
      ]
     },
     "execution_count": 126,
     "metadata": {},
     "output_type": "execute_result"
    }
   ],
   "source": [
    "electric_car_regitrection_count_df.sido.unique()"
   ]
  },
  {
   "cell_type": "code",
   "execution_count": 127,
   "metadata": {},
   "outputs": [
    {
     "data": {
      "text/plain": [
       "0      1\n",
       "1      1\n",
       "2      1\n",
       "3      1\n",
       "4      1\n",
       "      ..\n",
       "97     1\n",
       "98     1\n",
       "99     1\n",
       "100    1\n",
       "101    1\n",
       "Length: 102, dtype: int64"
      ]
     },
     "execution_count": 127,
     "metadata": {},
     "output_type": "execute_result"
    }
   ],
   "source": [
    "sql = \"INSERT INTO electricCarRegitrectionCount VALUES (%s, %s, %s)\"\n",
    "electric_car_regitrection_count_df.apply(lambda x : cur.execute(sql, x.tolist() ), axis=1)"
   ]
  },
  {
   "cell_type": "code",
   "execution_count": 128,
   "metadata": {},
   "outputs": [],
   "source": [
    "con.commit()"
   ]
  },
  {
   "cell_type": "markdown",
   "metadata": {},
   "source": [
    "- - -\n",
    "- electric_demand_df: 전국 전기차 월별 전력 예측 요구량"
   ]
  },
  {
   "cell_type": "code",
   "execution_count": 129,
   "metadata": {},
   "outputs": [
    {
     "data": {
      "text/html": [
       "<div>\n",
       "<style scoped>\n",
       "    .dataframe tbody tr th:only-of-type {\n",
       "        vertical-align: middle;\n",
       "    }\n",
       "\n",
       "    .dataframe tbody tr th {\n",
       "        vertical-align: top;\n",
       "    }\n",
       "\n",
       "    .dataframe thead th {\n",
       "        text-align: right;\n",
       "    }\n",
       "</style>\n",
       "<table border=\"1\" class=\"dataframe\">\n",
       "  <thead>\n",
       "    <tr style=\"text-align: right;\">\n",
       "      <th></th>\n",
       "      <th>연</th>\n",
       "      <th>월</th>\n",
       "      <th>도</th>\n",
       "      <th>시군구</th>\n",
       "      <th>월별 수요량</th>\n",
       "    </tr>\n",
       "  </thead>\n",
       "  <tbody>\n",
       "    <tr>\n",
       "      <th>0</th>\n",
       "      <td>2022</td>\n",
       "      <td>2</td>\n",
       "      <td>강원</td>\n",
       "      <td>강릉시</td>\n",
       "      <td>25262</td>\n",
       "    </tr>\n",
       "  </tbody>\n",
       "</table>\n",
       "</div>"
      ],
      "text/plain": [
       "      연  월   도  시군구  월별 수요량\n",
       "0  2022  2  강원  강릉시   25262"
      ]
     },
     "execution_count": 129,
     "metadata": {},
     "output_type": "execute_result"
    }
   ],
   "source": [
    "electric_demand_df = pd.read_csv('./../../../data/dataset_miniproject1/electric_demand.csv', encoding='cp949')\n",
    "electric_demand_df.head(1)"
   ]
  },
  {
   "cell_type": "code",
   "execution_count": 130,
   "metadata": {},
   "outputs": [],
   "source": [
    "electric_demand_df.columns = ['year', 'month', 'sido', 'sigungu', 'demended_amount_kW']"
   ]
  },
  {
   "cell_type": "code",
   "execution_count": 131,
   "metadata": {},
   "outputs": [],
   "source": [
    "for key, values in sido_convert.items():\n",
    "    for v in values:\n",
    "        electric_demand_df.loc[electric_demand_df.sido == v, 'sido'] = key"
   ]
  },
  {
   "cell_type": "code",
   "execution_count": 132,
   "metadata": {},
   "outputs": [
    {
     "data": {
      "text/plain": [
       "array(['강원특별자치도', '경기도', '경상남도', '경상북도', '광주광역시', '대구광역시', '대전광역시',\n",
       "       '부산광역시', '서울특별시', '세종특별자치시', '울산광역시', '인천광역시', '전라남도', '전북특별자치도',\n",
       "       '제주특별자치도', '충청남도', '충청북도'], dtype=object)"
      ]
     },
     "execution_count": 132,
     "metadata": {},
     "output_type": "execute_result"
    }
   ],
   "source": [
    "electric_demand_df.sido.unique()"
   ]
  },
  {
   "cell_type": "code",
   "execution_count": 133,
   "metadata": {},
   "outputs": [
    {
     "name": "stdout",
     "output_type": "stream",
     "text": [
      "`year` ,\n",
      "`month` ,\n",
      "`sido` ,\n",
      "`sigungu` ,\n",
      "`demended_amount_kW` ,\n"
     ]
    }
   ],
   "source": [
    "for i in electric_demand_df.columns:\n",
    "    print(f'`{i}` ,')"
   ]
  },
  {
   "cell_type": "code",
   "execution_count": 134,
   "metadata": {},
   "outputs": [
    {
     "data": {
      "text/html": [
       "<div>\n",
       "<style scoped>\n",
       "    .dataframe tbody tr th:only-of-type {\n",
       "        vertical-align: middle;\n",
       "    }\n",
       "\n",
       "    .dataframe tbody tr th {\n",
       "        vertical-align: top;\n",
       "    }\n",
       "\n",
       "    .dataframe thead th {\n",
       "        text-align: right;\n",
       "    }\n",
       "</style>\n",
       "<table border=\"1\" class=\"dataframe\">\n",
       "  <thead>\n",
       "    <tr style=\"text-align: right;\">\n",
       "      <th></th>\n",
       "      <th>year</th>\n",
       "      <th>month</th>\n",
       "      <th>sido</th>\n",
       "      <th>sigungu</th>\n",
       "      <th>demended_amount_kW</th>\n",
       "    </tr>\n",
       "  </thead>\n",
       "  <tbody>\n",
       "    <tr>\n",
       "      <th>0</th>\n",
       "      <td>2022</td>\n",
       "      <td>2</td>\n",
       "      <td>강원특별자치도</td>\n",
       "      <td>강릉시</td>\n",
       "      <td>25262</td>\n",
       "    </tr>\n",
       "    <tr>\n",
       "      <th>1</th>\n",
       "      <td>2022</td>\n",
       "      <td>2</td>\n",
       "      <td>강원특별자치도</td>\n",
       "      <td>고성군</td>\n",
       "      <td>5930</td>\n",
       "    </tr>\n",
       "    <tr>\n",
       "      <th>2</th>\n",
       "      <td>2022</td>\n",
       "      <td>2</td>\n",
       "      <td>강원특별자치도</td>\n",
       "      <td>동해시</td>\n",
       "      <td>18122</td>\n",
       "    </tr>\n",
       "    <tr>\n",
       "      <th>3</th>\n",
       "      <td>2022</td>\n",
       "      <td>2</td>\n",
       "      <td>강원특별자치도</td>\n",
       "      <td>삼척시</td>\n",
       "      <td>12619</td>\n",
       "    </tr>\n",
       "    <tr>\n",
       "      <th>4</th>\n",
       "      <td>2022</td>\n",
       "      <td>2</td>\n",
       "      <td>강원특별자치도</td>\n",
       "      <td>속초시</td>\n",
       "      <td>23110</td>\n",
       "    </tr>\n",
       "    <tr>\n",
       "      <th>...</th>\n",
       "      <td>...</td>\n",
       "      <td>...</td>\n",
       "      <td>...</td>\n",
       "      <td>...</td>\n",
       "      <td>...</td>\n",
       "    </tr>\n",
       "    <tr>\n",
       "      <th>5216</th>\n",
       "      <td>2023</td>\n",
       "      <td>12</td>\n",
       "      <td>충청북도</td>\n",
       "      <td>제천시</td>\n",
       "      <td>15631</td>\n",
       "    </tr>\n",
       "    <tr>\n",
       "      <th>5217</th>\n",
       "      <td>2023</td>\n",
       "      <td>12</td>\n",
       "      <td>충청북도</td>\n",
       "      <td>증평군</td>\n",
       "      <td>4578</td>\n",
       "    </tr>\n",
       "    <tr>\n",
       "      <th>5218</th>\n",
       "      <td>2023</td>\n",
       "      <td>12</td>\n",
       "      <td>충청북도</td>\n",
       "      <td>진천군</td>\n",
       "      <td>23476</td>\n",
       "    </tr>\n",
       "    <tr>\n",
       "      <th>5219</th>\n",
       "      <td>2023</td>\n",
       "      <td>12</td>\n",
       "      <td>충청북도</td>\n",
       "      <td>청주시</td>\n",
       "      <td>216169</td>\n",
       "    </tr>\n",
       "    <tr>\n",
       "      <th>5220</th>\n",
       "      <td>2023</td>\n",
       "      <td>12</td>\n",
       "      <td>충청북도</td>\n",
       "      <td>충주시</td>\n",
       "      <td>91270</td>\n",
       "    </tr>\n",
       "  </tbody>\n",
       "</table>\n",
       "<p>5221 rows × 5 columns</p>\n",
       "</div>"
      ],
      "text/plain": [
       "      year  month     sido sigungu  demended_amount_kW\n",
       "0     2022      2  강원특별자치도     강릉시               25262\n",
       "1     2022      2  강원특별자치도     고성군                5930\n",
       "2     2022      2  강원특별자치도     동해시               18122\n",
       "3     2022      2  강원특별자치도     삼척시               12619\n",
       "4     2022      2  강원특별자치도     속초시               23110\n",
       "...    ...    ...      ...     ...                 ...\n",
       "5216  2023     12     충청북도     제천시               15631\n",
       "5217  2023     12     충청북도     증평군                4578\n",
       "5218  2023     12     충청북도     진천군               23476\n",
       "5219  2023     12     충청북도     청주시              216169\n",
       "5220  2023     12     충청북도     충주시               91270\n",
       "\n",
       "[5221 rows x 5 columns]"
      ]
     },
     "execution_count": 134,
     "metadata": {},
     "output_type": "execute_result"
    }
   ],
   "source": [
    "electric_demand_df"
   ]
  },
  {
   "cell_type": "code",
   "execution_count": 135,
   "metadata": {},
   "outputs": [
    {
     "data": {
      "text/plain": [
       "0       1\n",
       "1       1\n",
       "2       1\n",
       "3       1\n",
       "4       1\n",
       "       ..\n",
       "5216    1\n",
       "5217    1\n",
       "5218    1\n",
       "5219    1\n",
       "5220    1\n",
       "Length: 5221, dtype: int64"
      ]
     },
     "execution_count": 135,
     "metadata": {},
     "output_type": "execute_result"
    }
   ],
   "source": [
    "sql = \"INSERT INTO electricDemand VALUES (%s, %s, %s, %s, %s)\"\n",
    "electric_demand_df.apply(lambda x : cur.execute(sql, x.tolist() ), axis=1)"
   ]
  },
  {
   "cell_type": "code",
   "execution_count": 136,
   "metadata": {},
   "outputs": [],
   "source": [
    "con.commit()"
   ]
  },
  {
   "cell_type": "code",
   "execution_count": null,
   "metadata": {},
   "outputs": [],
   "source": []
  }
 ],
 "metadata": {
  "kernelspec": {
   "display_name": ".venv",
   "language": "python",
   "name": "python3"
  },
  "language_info": {
   "codemirror_mode": {
    "name": "ipython",
    "version": 3
   },
   "file_extension": ".py",
   "mimetype": "text/x-python",
   "name": "python",
   "nbconvert_exporter": "python",
   "pygments_lexer": "ipython3",
   "version": "3.10.12"
  }
 },
 "nbformat": 4,
 "nbformat_minor": 2
}
