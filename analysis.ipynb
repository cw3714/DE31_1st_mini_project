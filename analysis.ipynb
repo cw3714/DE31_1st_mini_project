{
 "cells": [
  {
   "cell_type": "code",
   "execution_count": 1,
   "metadata": {},
   "outputs": [],
   "source": [
    "# import\n",
    "import pandas as pd\n",
    "import numpy as np\n",
    "import selenium\n",
    "import sqlalchemy\n",
    "from urllib import parse\n",
    "import requests\n",
    "from bs4 import BeautifulSoup as BS\n",
    "import os\n",
    "import json\n",
    "from tqdm import tqdm\n",
    "import pickle\n",
    "from geopy.geocoders import Nominatim\n",
    "import subprocess\n",
    "import time\n",
    "import lxml\n",
    "\n",
    "# custom python lib\n",
    "import src.naver_geocoding_api as nga\n",
    "import src.evchargestations as evcs\n",
    "import src.connect_to_db as cdb\n"
   ]
  },
  {
   "cell_type": "code",
   "execution_count": 2,
   "metadata": {},
   "outputs": [],
   "source": [
    "with open(\"./results/EV_CS_DATA.pkl\", \"rb\") as f:\n",
    "    cs_info_df = pickle.load(f)"
   ]
  },
  {
   "cell_type": "code",
   "execution_count": 3,
   "metadata": {},
   "outputs": [
    {
     "data": {
      "text/plain": [
       "metro                                                    충청남도\n",
       "city                                                      보령시\n",
       "stnPlace                                               농업기술센터\n",
       "stnAddr     충청남도 null null null null null null null null n...\n",
       "rapidCnt                                                    1\n",
       "slowCnt                                                     0\n",
       "carType                                           SM3 Z.E,테슬라\n",
       "Name: 2969, dtype: object"
      ]
     },
     "execution_count": 3,
     "metadata": {},
     "output_type": "execute_result"
    }
   ],
   "source": [
    "cs_info_df.loc[2969]"
   ]
  },
  {
   "cell_type": "code",
   "execution_count": 4,
   "metadata": {},
   "outputs": [
    {
     "name": "stderr",
     "output_type": "stream",
     "text": [
      "/home/leshen/repository/EVDA/src/evchargestations.py:59: GuessedAtParserWarning: No parser was explicitly specified, so I'm using the best available HTML parser for this system (\"lxml\"). This usually isn't a problem, but if you run this code on another system, or in a different virtual environment, it may use a different parser and behave differently.\n",
      "\n",
      "The code that caused this warning is on line 59 of the file /home/leshen/repository/EVDA/src/evchargestations.py. To get rid of this warning, pass the additional argument 'features=\"lxml\"' to the BeautifulSoup constructor.\n",
      "\n",
      "  soup = BS(req.text)\n",
      "100%|██████████| 16/16 [00:00<00:00, 1809.21it/s]\n"
     ]
    }
   ],
   "source": [
    "data = evcs.extract_charge_stations()"
   ]
  },
  {
   "cell_type": "code",
   "execution_count": 2,
   "metadata": {},
   "outputs": [],
   "source": [
    "with open(\"./data/gas_station_final.pkl\", \"rb\") as f:\n",
    "    gas_station_df = pd.read_pickle(f)"
   ]
  },
  {
   "cell_type": "code",
   "execution_count": 5,
   "metadata": {},
   "outputs": [
    {
     "data": {
      "text/plain": [
       "(10766, 6)"
      ]
     },
     "execution_count": 5,
     "metadata": {},
     "output_type": "execute_result"
    }
   ],
   "source": [
    "gas_station_df.shape"
   ]
  },
  {
   "cell_type": "code",
   "execution_count": 6,
   "metadata": {},
   "outputs": [],
   "source": [
    "testdf = gas_station_df.head(5).copy()"
   ]
  },
  {
   "cell_type": "code",
   "execution_count": 9,
   "metadata": {},
   "outputs": [
    {
     "data": {
      "text/html": [
       "<div>\n",
       "<style scoped>\n",
       "    .dataframe tbody tr th:only-of-type {\n",
       "        vertical-align: middle;\n",
       "    }\n",
       "\n",
       "    .dataframe tbody tr th {\n",
       "        vertical-align: top;\n",
       "    }\n",
       "\n",
       "    .dataframe thead th {\n",
       "        text-align: right;\n",
       "    }\n",
       "</style>\n",
       "<table border=\"1\" class=\"dataframe\">\n",
       "  <thead>\n",
       "    <tr style=\"text-align: right;\">\n",
       "      <th></th>\n",
       "      <th>sido</th>\n",
       "      <th>sigungu</th>\n",
       "      <th>station_name</th>\n",
       "      <th>address</th>\n",
       "      <th>company</th>\n",
       "      <th>phone_number</th>\n",
       "      <th>coordinates</th>\n",
       "    </tr>\n",
       "  </thead>\n",
       "  <tbody>\n",
       "    <tr>\n",
       "      <th>0</th>\n",
       "      <td>서울특별시</td>\n",
       "      <td>강남구</td>\n",
       "      <td>(주)보성 세곡주유소</td>\n",
       "      <td>서울 강남구  헌릉로 731 (세곡동)</td>\n",
       "      <td>SK에너지</td>\n",
       "      <td>02-445-6870</td>\n",
       "      <td>[127.1187331, 37.4672785]</td>\n",
       "    </tr>\n",
       "    <tr>\n",
       "      <th>1</th>\n",
       "      <td>서울특별시</td>\n",
       "      <td>강남구</td>\n",
       "      <td>HD현대오일뱅크㈜직영 산성셀프주유소</td>\n",
       "      <td>서울 강남구 헌릉로 730</td>\n",
       "      <td>HD현대오일뱅크</td>\n",
       "      <td>02-2226-4963</td>\n",
       "      <td>[127.1190231, 37.4665975]</td>\n",
       "    </tr>\n",
       "    <tr>\n",
       "      <th>2</th>\n",
       "      <td>서울특별시</td>\n",
       "      <td>강남구</td>\n",
       "      <td>자곡셀프주유소</td>\n",
       "      <td>서울 강남구 밤고개로 120 (자곡동)</td>\n",
       "      <td>SK에너지</td>\n",
       "      <td>02-445-5841</td>\n",
       "      <td>[127.1040159, 37.4835419]</td>\n",
       "    </tr>\n",
       "    <tr>\n",
       "      <th>3</th>\n",
       "      <td>서울특별시</td>\n",
       "      <td>강남구</td>\n",
       "      <td>방죽주유소</td>\n",
       "      <td>서울 강남구 밤고개로 215 (율현동)</td>\n",
       "      <td>GS칼텍스</td>\n",
       "      <td>02-459-3434</td>\n",
       "      <td>[127.1068180, 37.4749811]</td>\n",
       "    </tr>\n",
       "    <tr>\n",
       "      <th>4</th>\n",
       "      <td>서울특별시</td>\n",
       "      <td>강남구</td>\n",
       "      <td>오일프러스 셀프</td>\n",
       "      <td>서울 강남구 남부순환로 2651 (도곡동)</td>\n",
       "      <td>SK에너지</td>\n",
       "      <td>02-3462-5100</td>\n",
       "      <td>[127.0395832, 37.4858704]</td>\n",
       "    </tr>\n",
       "  </tbody>\n",
       "</table>\n",
       "</div>"
      ],
      "text/plain": [
       "    sido sigungu         station_name                  address   company  \\\n",
       "0  서울특별시     강남구          (주)보성 세곡주유소    서울 강남구  헌릉로 731 (세곡동)     SK에너지   \n",
       "1  서울특별시     강남구  HD현대오일뱅크㈜직영 산성셀프주유소           서울 강남구 헌릉로 730  HD현대오일뱅크   \n",
       "2  서울특별시     강남구              자곡셀프주유소    서울 강남구 밤고개로 120 (자곡동)     SK에너지   \n",
       "3  서울특별시     강남구                방죽주유소    서울 강남구 밤고개로 215 (율현동)     GS칼텍스   \n",
       "4  서울특별시     강남구             오일프러스 셀프  서울 강남구 남부순환로 2651 (도곡동)     SK에너지   \n",
       "\n",
       "   phone_number                coordinates  \n",
       "0   02-445-6870  [127.1187331, 37.4672785]  \n",
       "1  02-2226-4963  [127.1190231, 37.4665975]  \n",
       "2   02-445-5841  [127.1040159, 37.4835419]  \n",
       "3   02-459-3434  [127.1068180, 37.4749811]  \n",
       "4  02-3462-5100  [127.0395832, 37.4858704]  "
      ]
     },
     "execution_count": 9,
     "metadata": {},
     "output_type": "execute_result"
    }
   ],
   "source": [
    "testdf.head(5)"
   ]
  },
  {
   "cell_type": "code",
   "execution_count": 8,
   "metadata": {},
   "outputs": [
    {
     "name": "stderr",
     "output_type": "stream",
     "text": [
      "  0%|          | 0/5 [00:00<?, ?it/s]"
     ]
    },
    {
     "name": "stderr",
     "output_type": "stream",
     "text": [
      "100%|██████████| 5/5 [00:02<00:00,  1.89it/s]\n"
     ]
    }
   ],
   "source": [
    "tqdm.pandas()\n",
    "testdf['coordinates'] = testdf['address'].progress_apply(lambda x: nga.geocoding(x))"
   ]
  },
  {
   "cell_type": "code",
   "execution_count": 3,
   "metadata": {},
   "outputs": [
    {
     "name": "stderr",
     "output_type": "stream",
     "text": [
      "100%|██████████| 10766/10766 [2:04:49<00:00,  1.44it/s]  \n"
     ]
    }
   ],
   "source": [
    "tqdm.pandas()\n",
    "gas_station_df['coordinates'] = gas_station_df['address'].progress_apply(lambda x: nga.geocoding(x))\n",
    "with open(\"./data/gas_station_final_with_coor.pkl\", \"wb\") as f:\n",
    "    pickle.dump(gas_station_df, f)"
   ]
  },
  {
   "cell_type": "code",
   "execution_count": 10,
   "metadata": {},
   "outputs": [],
   "source": [
    "with open(\"./data/gas_station_final_with_coor.pkl\", \"rb\") as f:\n",
    "    gas_data = pd.read_pickle(f)"
   ]
  },
  {
   "cell_type": "code",
   "execution_count": 14,
   "metadata": {},
   "outputs": [
    {
     "data": {
      "text/plain": [
       "(10766, 7)"
      ]
     },
     "execution_count": 14,
     "metadata": {},
     "output_type": "execute_result"
    }
   ],
   "source": [
    "gas_data.shape"
   ]
  },
  {
   "cell_type": "code",
   "execution_count": 13,
   "metadata": {},
   "outputs": [
    {
     "data": {
      "text/plain": [
       "(43, 7)"
      ]
     },
     "execution_count": 13,
     "metadata": {},
     "output_type": "execute_result"
    }
   ],
   "source": [
    "gas_data[gas_data['coordinates'].apply(lambda x:x[0]==0 and x[1]==0)].shape"
   ]
  },
  {
   "cell_type": "code",
   "execution_count": 230,
   "metadata": {},
   "outputs": [
    {
     "data": {
      "text/html": [
       "<div>\n",
       "<style scoped>\n",
       "    .dataframe tbody tr th:only-of-type {\n",
       "        vertical-align: middle;\n",
       "    }\n",
       "\n",
       "    .dataframe tbody tr th {\n",
       "        vertical-align: top;\n",
       "    }\n",
       "\n",
       "    .dataframe thead th {\n",
       "        text-align: right;\n",
       "    }\n",
       "</style>\n",
       "<table border=\"1\" class=\"dataframe\">\n",
       "  <thead>\n",
       "    <tr style=\"text-align: right;\">\n",
       "      <th></th>\n",
       "      <th>sido</th>\n",
       "      <th>sigungu</th>\n",
       "      <th>station_name</th>\n",
       "      <th>address</th>\n",
       "      <th>company</th>\n",
       "      <th>phone_number</th>\n",
       "      <th>coordinates</th>\n",
       "    </tr>\n",
       "  </thead>\n",
       "  <tbody>\n",
       "  </tbody>\n",
       "</table>\n",
       "</div>"
      ],
      "text/plain": [
       "Empty DataFrame\n",
       "Columns: [sido, sigungu, station_name, address, company, phone_number, coordinates]\n",
       "Index: []"
      ]
     },
     "execution_count": 230,
     "metadata": {},
     "output_type": "execute_result"
    }
   ],
   "source": [
    "testdf[testdf['coordinates'].apply(lambda x:x[0]==0 and x[1]==0)]"
   ]
  },
  {
   "cell_type": "code",
   "execution_count": 1,
   "metadata": {},
   "outputs": [
    {
     "name": "stdout",
     "output_type": "stream",
     "text": [
      "Collecting pyshorteners\n",
      "  Downloading pyshorteners-1.0.1.tar.gz (10.0 kB)\n",
      "  Installing build dependencies: started\n",
      "  Installing build dependencies: finished with status 'done'\n",
      "  Getting requirements to build wheel: started\n",
      "  Getting requirements to build wheel: finished with status 'done'\n",
      "  Installing backend dependencies: started\n",
      "  Installing backend dependencies: finished with status 'done'\n",
      "  Preparing metadata (pyproject.toml): started\n",
      "  Preparing metadata (pyproject.toml): finished with status 'done'\n",
      "Requirement already satisfied: requests in c:\\lore_c\\evda\\.venv\\lib\\site-packages (from pyshorteners) (2.31.0)\n",
      "Requirement already satisfied: charset-normalizer<4,>=2 in c:\\lore_c\\evda\\.venv\\lib\\site-packages (from requests->pyshorteners) (3.3.2)\n",
      "Requirement already satisfied: idna<4,>=2.5 in c:\\lore_c\\evda\\.venv\\lib\\site-packages (from requests->pyshorteners) (3.7)\n",
      "Requirement already satisfied: urllib3<3,>=1.21.1 in c:\\lore_c\\evda\\.venv\\lib\\site-packages (from requests->pyshorteners) (2.2.1)\n",
      "Requirement already satisfied: certifi>=2017.4.17 in c:\\lore_c\\evda\\.venv\\lib\\site-packages (from requests->pyshorteners) (2024.2.2)\n",
      "Building wheels for collected packages: pyshorteners\n",
      "  Building wheel for pyshorteners (pyproject.toml): started\n",
      "  Building wheel for pyshorteners (pyproject.toml): finished with status 'done'\n",
      "  Created wheel for pyshorteners: filename=pyshorteners-1.0.1-py3-none-any.whl size=17498 sha256=0296da005901270d252de1cbe55702cf4363c7e4ceb7b85376402029afc5a7f0\n",
      "  Stored in directory: c:\\users\\playdata\\appdata\\local\\pip\\cache\\wheels\\d5\\ff\\b3\\16d8906f92ab0b042f76a4696fcea11d291d79a2b3a3de1e78\n",
      "Successfully built pyshorteners\n",
      "Installing collected packages: pyshorteners\n",
      "Successfully installed pyshorteners-1.0.1\n",
      "Note: you may need to restart the kernel to use updated packages.\n"
     ]
    }
   ],
   "source": [
    "pip install pyshorteners"
   ]
  },
  {
   "cell_type": "code",
   "execution_count": 6,
   "metadata": {},
   "outputs": [],
   "source": [
    "url = \"\"\"\n",
    "https://stat.molit.go.kr/portal/cate/statView.do?hRsId=58&hFormId=5498&hSelectId=5498&hPoint=00&hAppr=1&hDivEng=&oFileName=&rFileName=&midpath=&sFormId=5498&sStart=201101&sEnd=202403&sStyleNum=2&settingRadio=csv\n",
    "\"\"\""
   ]
  },
  {
   "cell_type": "code",
   "execution_count": 7,
   "metadata": {},
   "outputs": [
    {
     "name": "stdout",
     "output_type": "stream",
     "text": [
      "https://tinyurl.com/23ha88m4\n"
     ]
    }
   ],
   "source": [
    "import pyshorteners\n",
    "print(pyshorteners.Shortener().tinyurl.short(url.strip()))"
   ]
  },
  {
   "cell_type": "code",
   "execution_count": null,
   "metadata": {},
   "outputs": [],
   "source": []
  }
 ],
 "metadata": {
  "kernelspec": {
   "display_name": ".venv",
   "language": "python",
   "name": "python3"
  },
  "language_info": {
   "codemirror_mode": {
    "name": "ipython",
    "version": 3
   },
   "file_extension": ".py",
   "mimetype": "text/x-python",
   "name": "python",
   "nbconvert_exporter": "python",
   "pygments_lexer": "ipython3",
   "version": "3.10.0"
  }
 },
 "nbformat": 4,
 "nbformat_minor": 2
}
