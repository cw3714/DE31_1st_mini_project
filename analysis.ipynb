{
 "cells": [
  {
   "cell_type": "code",
   "execution_count": 126,
   "metadata": {},
   "outputs": [],
   "source": [
    "# import\n",
    "import pandas as pd\n",
    "import numpy as np\n",
    "import selenium\n",
    "import sqlalchemy\n",
    "from urllib import parse\n",
    "import requests\n",
    "from bs4 import BeautifulSoup as BS\n",
    "import os\n",
    "import json\n",
    "from tqdm import tqdm\n",
    "import pickle\n",
    "from geopy.geocoders import Nominatim\n",
    "import subprocess\n",
    "import time\n",
    "\n",
    "# custom python lib\n",
    "import src.naver_geocoding_api as nga\n",
    "import src.evchargestations as evcs\n",
    "import src.connect_to_db as cdb\n"
   ]
  },
  {
   "cell_type": "code",
   "execution_count": 174,
   "metadata": {},
   "outputs": [],
   "source": [
    "with open(\"./data/3fec80b505ceeecf.csv\", \"r\", encoding='cp949') as f:\n",
    "    ev_counts = pd.read_csv(f)\n"
   ]
  },
  {
   "cell_type": "code",
   "execution_count": 177,
   "metadata": {},
   "outputs": [],
   "source": [
    "ev_counts.drop(columns=['합계'], axis=1, inplace=True)"
   ]
  },
  {
   "cell_type": "code",
   "execution_count": 180,
   "metadata": {},
   "outputs": [],
   "source": [
    "col_list = ev_counts.columns.tolist()"
   ]
  },
  {
   "cell_type": "code",
   "execution_count": 184,
   "metadata": {},
   "outputs": [],
   "source": [
    "ev_counts_melt = ev_counts.melt(['연도'], col_list).copy()\n"
   ]
  },
  {
   "cell_type": "code",
   "execution_count": 187,
   "metadata": {},
   "outputs": [],
   "source": [
    "with open(\"./data/ev_counts_melt.csv\", \"w\", encoding='utf-8') as f:\n",
    "    ev_counts_melt.rename(columns={'variable':'지역', 'value':'대수'}).to_csv(f)"
   ]
  },
  {
   "cell_type": "code",
   "execution_count": 188,
   "metadata": {},
   "outputs": [],
   "source": [
    "with open(\"./results/rest_areas.json\", \"r\", encoding='utf-8') as f:\n",
    "    rest_areas = json.load(f)"
   ]
  },
  {
   "cell_type": "code",
   "execution_count": 189,
   "metadata": {},
   "outputs": [],
   "source": [
    "rest_areas_df = pd.DataFrame(rest_areas['list'])"
   ]
  },
  {
   "cell_type": "code",
   "execution_count": 191,
   "metadata": {},
   "outputs": [],
   "source": [
    "with open(\"./results/rest_areas_df.pkl\", \"wb\") as f:\n",
    "    pickle.dump(rest_areas_df, f)"
   ]
  }
 ],
 "metadata": {
  "kernelspec": {
   "display_name": ".venv",
   "language": "python",
   "name": "python3"
  },
  "language_info": {
   "codemirror_mode": {
    "name": "ipython",
    "version": 3
   },
   "file_extension": ".py",
   "mimetype": "text/x-python",
   "name": "python",
   "nbconvert_exporter": "python",
   "pygments_lexer": "ipython3",
   "version": "3.10.12"
  }
 },
 "nbformat": 4,
 "nbformat_minor": 2
}
