{
 "cells": [
  {
   "cell_type": "code",
   "execution_count": 29,
   "metadata": {},
   "outputs": [],
   "source": [
    "import pandas as pd\n",
    "import numpy as np\n",
    "import selenium\n",
    "import sqlalchemy\n",
    "from urllib import parse"
   ]
  },
  {
   "cell_type": "code",
   "execution_count": 27,
   "metadata": {},
   "outputs": [],
   "source": [
    "import requests\n",
    "from bs4 import BeautifulSoup as BS\n",
    "import os\n",
    "import json\n",
    "\n",
    "headers = {\"User-Agent\":\"Mozilla/5.0 (Windows NT 10.0; Win64; x64) AppleWebKit/537.36 (KHTML, like Gecko) Chrome/123.0.0.0 Safari/537.36\"}\n",
    "\n",
    "def ev_cs_get_by_metro_code(result_file_name:str, API_KEY:str, metro_code:str, city_code=None)->bool:\n",
    "    ev_api_url = \"https://bigdata.kepco.co.kr/openapi/v1/EVcharge.do?{}{}apiKey={}&returnType=json\"\n",
    "    metroCd = f\"metroCd={metro_code}&\"\n",
    "    cityCd = \"\" if city_code==None else f\"cityCd={city_code}&\"\n",
    "    try:\n",
    "        req = requests.get(ev_api_url.format(metroCd, cityCd, API_KEY))\n",
    "        soup = BS(req.text)\n",
    "        data = json.loads(soup.text)\n",
    "        result_path = \"./results\"\n",
    "        if not os.path.isdir(result_path):\n",
    "            os.mkdir(result_path)\n",
    "        with open(f\"{result_path}/{result_file_name}\", \"w\", encoding=\"utf-8\") as f:\n",
    "            json.dump(data, f, ensure_ascii=False)\n",
    "            \n",
    "    except Exception as e:\n",
    "        print(f\"[debug] > exception : {e}\")\n",
    "        return False\n",
    "    return True\n",
    "    "
   ]
  },
  {
   "cell_type": "code",
   "execution_count": 28,
   "metadata": {},
   "outputs": [
    {
     "name": "stdout",
     "output_type": "stream",
     "text": [
      "[debug] > 서울특별시 extraction success\n",
      "[debug] > 부산광역시 extraction success\n",
      "[debug] > 대구광역시 extraction success\n",
      "[debug] > 인천광역시 extraction success\n",
      "[debug] > 광주광역시 extraction success\n",
      "[debug] > 대전광역시 extraction success\n",
      "[debug] > 울산광역시 extraction success\n",
      "[debug] > 세종특별자치시 extraction success\n",
      "[debug] > 경기도 extraction success\n",
      "[debug] > 강원도 extraction success\n",
      "[debug] > 충청북도 extraction success\n",
      "[debug] > 충청남도 extraction success\n",
      "[debug] > 전라북도 extraction success\n",
      "[debug] > 전라남도 extraction success\n",
      "[debug] > 경상북도 extraction success\n",
      "[debug] > 경상남도 extraction success\n",
      "[debug] > 제주특별자치도 extraction success\n"
     ]
    }
   ],
   "source": [
    "metro_codes =  {\n",
    "    \"서울특별시\" : \"11\",\n",
    "    \"부산광역시\" : \"21\",\n",
    "    \"대구광역시\" : \"22\",\n",
    "    \"인천광역시\" : \"23\",\n",
    "    \"광주광역시\" : \"24\",\n",
    "    \"대전광역시\" : \"25\",\n",
    "    \"울산광역시\" : \"26\",\n",
    "    \"세종특별자치시\" : \"29\",\n",
    "    \"경기도\" : \"31\",\n",
    "    \"강원도\" : \"32\",\n",
    "    \"충청북도\" : \"33\",\n",
    "    \"충청남도\" : \"34\",\n",
    "    \"전라북도\" : \"35\",\n",
    "    \"전라남도\" : \"36\",\n",
    "    \"경상북도\" : \"37\",\n",
    "    \"경상남도\" : \"38\",\n",
    "    \"제주특별자치도\" : \"39\"\n",
    "}\n",
    "with open(\"api_key.json\", \"r\") as f:\n",
    "    API_KEY = json.load(f)['API_KEY']\n",
    "\n",
    "result_file_name_template = \"ev_cs_{}.json\"\n",
    "\n",
    "for key in metro_codes.keys():\n",
    "    assert ev_cs_get_by_metro_code(result_file_name_template.format(key), API_KEY, metro_code=metro_codes[key]), print(f\"[debug] > {key} extraction failed\")\n",
    "    print(f\"[debug] > {key} extraction success\")"
   ]
  },
  {
   "cell_type": "code",
   "execution_count": 32,
   "metadata": {},
   "outputs": [],
   "source": [
    "with open(\"db_info.json\", \"r\") as f:\n",
    "    db_info = json.load(f)\n",
    "\n",
    "user = db_info['user']\n",
    "password = db_info['password']\n",
    "host = db_info['host']\n",
    "port = db_info['port']\n",
    "database = db_info['database']\n",
    "password = parse.quote_plus(password)\n",
    "engine = sqlalchemy.create_engine(f\"mysql://{user}:{password}@{host}:{port}/{database}?charset=utf8mb4\")"
   ]
  },
  {
   "cell_type": "code",
   "execution_count": null,
   "metadata": {},
   "outputs": [],
   "source": []
  }
 ],
 "metadata": {
  "kernelspec": {
   "display_name": ".venv",
   "language": "python",
   "name": "python3"
  },
  "language_info": {
   "codemirror_mode": {
    "name": "ipython",
    "version": 3
   },
   "file_extension": ".py",
   "mimetype": "text/x-python",
   "name": "python",
   "nbconvert_exporter": "python",
   "pygments_lexer": "ipython3",
   "version": "3.10.12"
  }
 },
 "nbformat": 4,
 "nbformat_minor": 2
}
