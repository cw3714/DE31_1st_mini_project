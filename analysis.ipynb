{
 "cells": [
  {
   "cell_type": "code",
   "execution_count": 126,
   "metadata": {},
   "outputs": [],
   "source": [
    "import pandas as pd\n",
    "import numpy as np\n",
    "import selenium\n",
    "import sqlalchemy\n",
    "from urllib import parse\n",
    "import requests\n",
    "from bs4 import BeautifulSoup as BS\n",
    "import os\n",
    "import json\n",
    "from tqdm import tqdm\n",
    "import pickle\n",
    "from geopy.geocoders import Nominatim\n",
    "import subprocess"
   ]
  },
  {
   "cell_type": "code",
   "execution_count": 8,
   "metadata": {},
   "outputs": [],
   "source": [
    "headers = {\"User-Agent\":\"Mozilla/5.0 (Windows NT 10.0; Win64; x64) AppleWebKit/537.36 (KHTML, like Gecko) Chrome/123.0.0.0 Safari/537.36\"}\n",
    "\n",
    "def ev_cs_get_by_metro_code(result_file_name:str, API_KEY:str, metro_code:str, city_code=None)->bool:\n",
    "    ev_api_url = \"https://bigdata.kepco.co.kr/openapi/v1/EVcharge.do?{}{}apiKey={}&returnType=json\"\n",
    "    metroCd = f\"metroCd={metro_code}&\"\n",
    "    cityCd = \"\" if city_code==None else f\"cityCd={city_code}&\"\n",
    "    try:\n",
    "        req = requests.get(ev_api_url.format(metroCd, cityCd, API_KEY))\n",
    "        soup = BS(req.text)\n",
    "        data = json.loads(soup.text)\n",
    "        result_path = \"./results\"\n",
    "        if not os.path.isdir(result_path):\n",
    "            os.mkdir(result_path)\n",
    "        with open(f\"{result_file_name}\", \"w\", encoding=\"utf-8\") as f:\n",
    "            json.dump(data, f, ensure_ascii=False)\n",
    "            \n",
    "    except Exception as e:\n",
    "        print(f\"[debug] > exception : {e}\")\n",
    "        return False\n",
    "    return True\n",
    "    "
   ]
  },
  {
   "cell_type": "code",
   "execution_count": 9,
   "metadata": {},
   "outputs": [],
   "source": [
    "metro_codes =  {\n",
    "    \"서울특별시\" : \"11\",\n",
    "    \"부산광역시\" : \"21\",\n",
    "    \"대구광역시\" : \"22\",\n",
    "    \"인천광역시\" : \"23\",\n",
    "    \"광주광역시\" : \"24\",\n",
    "    \"대전광역시\" : \"25\",\n",
    "    \"울산광역시\" : \"26\",\n",
    "    \"경기도\" : \"31\",\n",
    "    \"강원도\" : \"32\",\n",
    "    \"충청북도\" : \"33\",\n",
    "    \"충청남도\" : \"34\",\n",
    "    \"전라북도\" : \"35\",\n",
    "    \"전라남도\" : \"36\",\n",
    "    \"경상북도\" : \"37\",\n",
    "    \"경상남도\" : \"38\",\n",
    "    \"제주특별자치도\" : \"39\"\n",
    "}"
   ]
  },
  {
   "cell_type": "code",
   "execution_count": 10,
   "metadata": {},
   "outputs": [],
   "source": [
    "with open(\"api_key.json\", \"r\") as f:\n",
    "    key_json = json.load(f)"
   ]
  },
  {
   "cell_type": "code",
   "execution_count": 11,
   "metadata": {},
   "outputs": [
    {
     "name": "stdout",
     "output_type": "stream",
     "text": [
      "[debug] > 서울특별시 extraction success\n",
      "[debug] > 부산광역시 extraction success\n",
      "[debug] > 대구광역시 extraction success\n",
      "[debug] > 인천광역시 extraction success\n",
      "[debug] > 광주광역시 extraction success\n",
      "[debug] > 대전광역시 extraction success\n",
      "[debug] > 울산광역시 extraction success\n",
      "[debug] > 경기도 extraction success\n",
      "[debug] > 강원도 extraction success\n",
      "[debug] > 충청북도 extraction success\n",
      "[debug] > 충청남도 extraction success\n",
      "[debug] > 전라북도 extraction success\n",
      "[debug] > 전라남도 extraction success\n",
      "[debug] > 경상북도 extraction success\n",
      "[debug] > 경상남도 extraction success\n",
      "[debug] > 제주특별자치도 extraction success\n"
     ]
    }
   ],
   "source": [
    "\n",
    "result_file_name_template = \"ev_cs_{}.json\"\n",
    "\n",
    "API_KEY = key_json['API_KEY']\n",
    "\n",
    "result_path = \"./results\"\n",
    "if not os.path.isdir(result_path):\n",
    "    os.mkdir(result_path)\n",
    "for key in metro_codes.keys():\n",
    "    assert ev_cs_get_by_metro_code(f\"{result_path}/\"+result_file_name_template.format(key), API_KEY, metro_code=metro_codes[key]), print(f\"[debug] > {key} extraction failed\")\n",
    "    print(f\"[debug] > {key} extraction success\")"
   ]
  },
  {
   "cell_type": "code",
   "execution_count": 12,
   "metadata": {},
   "outputs": [],
   "source": [
    "with open(\"db_info.json\", \"r\") as f:\n",
    "    db_info = json.load(f)\n",
    "user = db_info['user']\n",
    "password = db_info['password']\n",
    "host = db_info['host']\n",
    "port = db_info['port']\n",
    "database = db_info['database']\n",
    "password = parse.quote_plus(password)\n",
    "engine = sqlalchemy.create_engine(f\"mysql://{user}:{password}@{host}:{port}/{database}?charset=utf8mb4\")"
   ]
  },
  {
   "cell_type": "code",
   "execution_count": 13,
   "metadata": {},
   "outputs": [
    {
     "name": "stderr",
     "output_type": "stream",
     "text": [
      "  0%|          | 0/16 [00:00<?, ?it/s]"
     ]
    },
    {
     "name": "stderr",
     "output_type": "stream",
     "text": [
      "100%|██████████| 16/16 [00:00<00:00, 1506.85it/s]\n"
     ]
    }
   ],
   "source": [
    "\n",
    "listdata = []\n",
    "for key in tqdm(metro_codes.keys()):\n",
    "    filename = result_file_name_template.format(key)\n",
    "    with open(f\"{result_path}/{filename}\", \"r\") as f:\n",
    "        file = json.load(f)\n",
    "    for info in file[\"data\"]:\n",
    "        listdata.append(info)"
   ]
  },
  {
   "cell_type": "code",
   "execution_count": 14,
   "metadata": {},
   "outputs": [],
   "source": [
    "data = pd.DataFrame(listdata)\n",
    "with open(\"./results/EV_CS_DATA.pkl\", \"wb\") as f:\n",
    "    pickle.dump(data, f)"
   ]
  },
  {
   "cell_type": "code",
   "execution_count": 15,
   "metadata": {},
   "outputs": [],
   "source": [
    "with open(\"./results/EV_CS_DATA.pkl\", \"rb\") as f:\n",
    "    data = pickle.load(f)"
   ]
  },
  {
   "cell_type": "code",
   "execution_count": 16,
   "metadata": {},
   "outputs": [
    {
     "data": {
      "text/html": [
       "<div>\n",
       "<style scoped>\n",
       "    .dataframe tbody tr th:only-of-type {\n",
       "        vertical-align: middle;\n",
       "    }\n",
       "\n",
       "    .dataframe tbody tr th {\n",
       "        vertical-align: top;\n",
       "    }\n",
       "\n",
       "    .dataframe thead th {\n",
       "        text-align: right;\n",
       "    }\n",
       "</style>\n",
       "<table border=\"1\" class=\"dataframe\">\n",
       "  <thead>\n",
       "    <tr style=\"text-align: right;\">\n",
       "      <th></th>\n",
       "      <th>metro</th>\n",
       "      <th>city</th>\n",
       "      <th>stnPlace</th>\n",
       "      <th>stnAddr</th>\n",
       "      <th>rapidChargerCount</th>\n",
       "      <th>slowChargerCount</th>\n",
       "      <th>carType</th>\n",
       "    </tr>\n",
       "  </thead>\n",
       "  <tbody>\n",
       "    <tr>\n",
       "      <th>0</th>\n",
       "      <td>서울특별시</td>\n",
       "      <td>강남구</td>\n",
       "      <td>LH강남힐스테이트</td>\n",
       "      <td>서울특별시 강남구 자곡동 자곡로3길 21</td>\n",
       "      <td>1</td>\n",
       "      <td>4</td>\n",
       "      <td>SM3 Z.E,레이EV,소울EV,닛산리프,아이오닉EV,BMW i3,스파크EV,볼트E...</td>\n",
       "    </tr>\n",
       "    <tr>\n",
       "      <th>1</th>\n",
       "      <td>서울특별시</td>\n",
       "      <td>강남구</td>\n",
       "      <td>LH서울지사</td>\n",
       "      <td>서울특별시 강남구 선릉로 121길 12</td>\n",
       "      <td>1</td>\n",
       "      <td>0</td>\n",
       "      <td>SM3 Z.E,레이EV,소울EV,닛산리프,아이오닉EV,BMW i3,스파크EV,볼트E...</td>\n",
       "    </tr>\n",
       "    <tr>\n",
       "      <th>2</th>\n",
       "      <td>서울특별시</td>\n",
       "      <td>강남구</td>\n",
       "      <td>가람아파트</td>\n",
       "      <td>서울특별시 강남구 일원동 일원로 127</td>\n",
       "      <td>1</td>\n",
       "      <td>0</td>\n",
       "      <td>SM3 Z.E,레이EV,소울EV,닛산리프,아이오닉EV,BMW i3,스파크EV,볼트E...</td>\n",
       "    </tr>\n",
       "    <tr>\n",
       "      <th>3</th>\n",
       "      <td>서울특별시</td>\n",
       "      <td>강남구</td>\n",
       "      <td>강남구청 공영주차장</td>\n",
       "      <td>서울특별시 강남구 삼성동 16-1</td>\n",
       "      <td>1</td>\n",
       "      <td>0</td>\n",
       "      <td>SM3 Z.E,레이EV,소울EV,닛산리프,아이오닉EV,BMW i3,스파크EV,볼트E...</td>\n",
       "    </tr>\n",
       "    <tr>\n",
       "      <th>4</th>\n",
       "      <td>서울특별시</td>\n",
       "      <td>강남구</td>\n",
       "      <td>강남데시앙파크</td>\n",
       "      <td>서울특별시 강남구 세곡동 헌릉로590길 63</td>\n",
       "      <td>1</td>\n",
       "      <td>1</td>\n",
       "      <td>SM3 Z.E,레이EV,소울EV,닛산리프,아이오닉EV,BMW i3,스파크EV,볼트E...</td>\n",
       "    </tr>\n",
       "  </tbody>\n",
       "</table>\n",
       "</div>"
      ],
      "text/plain": [
       "   metro city    stnPlace                   stnAddr  rapidChargerCount  \\\n",
       "0  서울특별시  강남구   LH강남힐스테이트    서울특별시 강남구 자곡동 자곡로3길 21                  1   \n",
       "1  서울특별시  강남구      LH서울지사     서울특별시 강남구 선릉로 121길 12                  1   \n",
       "2  서울특별시  강남구       가람아파트     서울특별시 강남구 일원동 일원로 127                  1   \n",
       "3  서울특별시  강남구  강남구청 공영주차장        서울특별시 강남구 삼성동 16-1                  1   \n",
       "4  서울특별시  강남구     강남데시앙파크  서울특별시 강남구 세곡동 헌릉로590길 63                  1   \n",
       "\n",
       "   slowChargerCount                                            carType  \n",
       "0                 4  SM3 Z.E,레이EV,소울EV,닛산리프,아이오닉EV,BMW i3,스파크EV,볼트E...  \n",
       "1                 0  SM3 Z.E,레이EV,소울EV,닛산리프,아이오닉EV,BMW i3,스파크EV,볼트E...  \n",
       "2                 0  SM3 Z.E,레이EV,소울EV,닛산리프,아이오닉EV,BMW i3,스파크EV,볼트E...  \n",
       "3                 0  SM3 Z.E,레이EV,소울EV,닛산리프,아이오닉EV,BMW i3,스파크EV,볼트E...  \n",
       "4                 1  SM3 Z.E,레이EV,소울EV,닛산리프,아이오닉EV,BMW i3,스파크EV,볼트E...  "
      ]
     },
     "execution_count": 16,
     "metadata": {},
     "output_type": "execute_result"
    }
   ],
   "source": [
    "data.rename(columns={\"rapidCnt\": \"rapidChargerCount\", \"slowCnt\":\"slowChargerCount\"}, inplace=True)\n",
    "data.head(5)"
   ]
  },
  {
   "cell_type": "code",
   "execution_count": 52,
   "metadata": {},
   "outputs": [],
   "source": [
    "testdf = data.head(50)"
   ]
  },
  {
   "cell_type": "code",
   "execution_count": 114,
   "metadata": {},
   "outputs": [
    {
     "name": "stdout",
     "output_type": "stream",
     "text": [
      "서울특별시 강남구 일원동 일원로 127\n"
     ]
    }
   ],
   "source": [
    "row_num = 2\n",
    "testaddr = testdf.loc[row_num, 'stnAddr']\n",
    "print(testaddr)"
   ]
  },
  {
   "cell_type": "code",
   "execution_count": 103,
   "metadata": {},
   "outputs": [],
   "source": [
    "testaddr = \"서울특별시 강남구 일원로 127 (일원동, 가람아파트)\""
   ]
  },
  {
   "cell_type": "code",
   "execution_count": 152,
   "metadata": {},
   "outputs": [],
   "source": [
    "with open(\"naver_geocoding_api.json\", \"r\") as f:\n",
    "    naver_api_keys = json.load(f)\n",
    "\n",
    "def log(msg, flag=None):\n",
    "    if flag==None:\n",
    "        flag = 0\n",
    "    head = [\"debug\", \"error\", \"status\"]\n",
    "    from time import gmtime, strftime\n",
    "    now = strftime(\"%H:%M:%S\", gmtime())\n",
    "    if not os.path.isfile(\"./debug.log\"):\n",
    "        assert subprocess.call(f\"echo \\\"[{now}][{head[flag]}] > {msg}\\\" > debug.log\", shell=True)==0, print(f\"[error] > shell command failed to execute\")\n",
    "    else: assert subprocess.call(f\"echo \\\"[{now}][{head[flag]}] > {msg}\\\" >> debug.log\", shell=True)==0, print(f\"[error] > shell command failed to execute\")\n",
    "\n",
    "def convert_address(address)->str:\n",
    "    url = \"https://www.juso.go.kr/support/AddressMainSearch.do?searchKeyword={}\"\n",
    "    try:\n",
    "        with requests.Session() as session:\n",
    "            header = {\"User-Agent\":\"Mozilla/5.0 (Windows NT 10.0; Win64; x64) AppleWebKit/537.36 (KHTML, like Gecko) Chrome/123.0.0.0 Safari/537.36\"}\n",
    "            juso_req = session.get(url.format(parse.quote(address)), headers=header)\n",
    "            assert juso_req.status_code==200, log(f\"status code exited with {juso_req.status_code}\")\n",
    "            juso_soup = BS(juso_req.text)\n",
    "            converted_address = juso_soup.find(\"div\", class_=\"search_list\").find(\"span\", class_=\"roadNameText\").text.strip().replace(\"\\xa0\", \" \")\n",
    "        return converted_address\n",
    "    except Exception as e:\n",
    "        log(f\"exception occured: {e}\")\n",
    "        return None\n",
    "\n",
    "def get_ngeocoding(address:str):\n",
    "    try:\n",
    "        with requests.Session() as nsession:\n",
    "            nv_gc_api_url_template = \"https://naveropenapi.apigw.ntruss.com/map-geocode/v2/geocode?query={}\"\n",
    "            nv_gc_api_headers = {\n",
    "                \"User-Agent\":\"Mozilla/5.0 (Windows NT 10.0; Win64; x64) AppleWebKit/537.36 (KHTML, like Gecko) Chrome/123.0.0.0 Safari/537.36\",\n",
    "                \"X-NCP-APIGW-API-KEY-ID\" : naver_api_keys['clientID'],\n",
    "                \"X-NCP-APIGW-API-KEY\" : naver_api_keys['clientSecret'],\n",
    "                \"Accept\" : \"application/json\"\n",
    "            }\n",
    "            caddress = convert_address(address)\n",
    "            caddress = caddress if caddress != None else address\n",
    "            nv_gc_api_url = nv_gc_api_url_template.format(parse.quote(caddress))\n",
    "            nv_gc_req = nsession.get(nv_gc_api_url, headers=nv_gc_api_headers)\n",
    "            assert nv_gc_req.status_code==200, log(f\"connection error with status code {nv_gc_req.status_code}\")\n",
    "        naver_json = nv_gc_req.json()\n",
    "        assert naver_json['status']==\"OK\", log(f\"status error\")\n",
    "        return naver_json\n",
    "    except Exception as e:\n",
    "        log(f\"Exception: {e}\")\n",
    "        return None\n",
    "\n",
    "def geocoding(address):\n",
    "    try:\n",
    "        rjson = get_ngeocoding(address)\n",
    "        assert rjson!=None, log(f\"naver json fetch failed\")\n",
    "        with open(\"./results/naver_geocoding_result.json\", \"w\", encoding=\"utf-8\") as f:\n",
    "            json.dump(rjson, f, ensure_ascii=False)\n",
    "        assert rjson['meta']['totalCount'] > 0, log(f\"naver json fetched {rjson['meta']['totalCount']} address\")\n",
    "        lat, lng = rjson['addresses'][0]['x'], rjson['addresses'][0]['y']\n",
    "        return [lat, lng]\n",
    "    except Exception as e:\n",
    "        log(f\"Exception: {e}\")\n",
    "        return [0, 0]"
   ]
  },
  {
   "cell_type": "code",
   "execution_count": null,
   "metadata": {},
   "outputs": [],
   "source": [
    "tqdm.pandas()\n",
    "data['coordinates'] = data.progress_apply(lambda x: geocoding(x['stnAddr']), axis=1)"
   ]
  },
  {
   "cell_type": "code",
   "execution_count": 160,
   "metadata": {},
   "outputs": [
    {
     "data": {
      "text/plain": [
       "(4594, 8)"
      ]
     },
     "execution_count": 160,
     "metadata": {},
     "output_type": "execute_result"
    }
   ],
   "source": [
    "data.shape"
   ]
  },
  {
   "cell_type": "code",
   "execution_count": 161,
   "metadata": {},
   "outputs": [],
   "source": [
    "emptydf = data[data['coordinates'].apply(lambda x: x[0]==0 and x[1]==0)]"
   ]
  },
  {
   "cell_type": "code",
   "execution_count": 162,
   "metadata": {},
   "outputs": [
    {
     "data": {
      "text/plain": [
       "(195, 8)"
      ]
     },
     "execution_count": 162,
     "metadata": {},
     "output_type": "execute_result"
    }
   ],
   "source": [
    "emptydf.shape"
   ]
  },
  {
   "cell_type": "code",
   "execution_count": 163,
   "metadata": {},
   "outputs": [
    {
     "name": "stderr",
     "output_type": "stream",
     "text": [
      "100%|██████████| 195/195 [02:02<00:00,  1.59it/s]\n",
      "/tmp/ipykernel_682/2260703703.py:1: SettingWithCopyWarning: \n",
      "A value is trying to be set on a copy of a slice from a DataFrame.\n",
      "Try using .loc[row_indexer,col_indexer] = value instead\n",
      "\n",
      "See the caveats in the documentation: https://pandas.pydata.org/pandas-docs/stable/user_guide/indexing.html#returning-a-view-versus-a-copy\n",
      "  emptydf['coordinates'] = emptydf.progress_apply(lambda x: geocoding(x['stnAddr']), axis=1)\n"
     ]
    }
   ],
   "source": [
    "emptydf['coordinates'] = emptydf.progress_apply(lambda x: geocoding(x['stnAddr']), axis=1)"
   ]
  },
  {
   "cell_type": "code",
   "execution_count": 165,
   "metadata": {},
   "outputs": [
    {
     "data": {
      "text/html": [
       "<div>\n",
       "<style scoped>\n",
       "    .dataframe tbody tr th:only-of-type {\n",
       "        vertical-align: middle;\n",
       "    }\n",
       "\n",
       "    .dataframe tbody tr th {\n",
       "        vertical-align: top;\n",
       "    }\n",
       "\n",
       "    .dataframe thead th {\n",
       "        text-align: right;\n",
       "    }\n",
       "</style>\n",
       "<table border=\"1\" class=\"dataframe\">\n",
       "  <thead>\n",
       "    <tr style=\"text-align: right;\">\n",
       "      <th></th>\n",
       "      <th>metro</th>\n",
       "      <th>city</th>\n",
       "      <th>stnPlace</th>\n",
       "      <th>stnAddr</th>\n",
       "      <th>rapidChargerCount</th>\n",
       "      <th>slowChargerCount</th>\n",
       "      <th>carType</th>\n",
       "      <th>coordinates</th>\n",
       "    </tr>\n",
       "  </thead>\n",
       "  <tbody>\n",
       "    <tr>\n",
       "      <th>202</th>\n",
       "      <td>서울특별시</td>\n",
       "      <td>노원구</td>\n",
       "      <td>인재개발원</td>\n",
       "      <td>서울특별시 노원구 노원길 130</td>\n",
       "      <td>1</td>\n",
       "      <td>1</td>\n",
       "      <td>SM3 Z.E,레이EV,소울EV,닛산리프,아이오닉EV,BMW i3,스파크EV,볼트E...</td>\n",
       "      <td>[0, 0]</td>\n",
       "    </tr>\n",
       "    <tr>\n",
       "      <th>322</th>\n",
       "      <td>서울특별시</td>\n",
       "      <td>서대문구</td>\n",
       "      <td>연희동 홍연2교 옆 노상주차장</td>\n",
       "      <td>서울특별시 서대문구 연희동 736</td>\n",
       "      <td>1</td>\n",
       "      <td>0</td>\n",
       "      <td>SM3 Z.E,테슬라</td>\n",
       "      <td>[126.9293529, 37.5765416]</td>\n",
       "    </tr>\n",
       "    <tr>\n",
       "      <th>327</th>\n",
       "      <td>서울특별시</td>\n",
       "      <td>서초구</td>\n",
       "      <td>LH서초5단지</td>\n",
       "      <td>서울특별시 서초구 우면동 368-1</td>\n",
       "      <td>1</td>\n",
       "      <td>2</td>\n",
       "      <td>SM3 Z.E,레이EV,소울EV,닛산리프,아이오닉EV,BMW i3,스파크EV,볼트E...</td>\n",
       "      <td>[127.0241635, 37.4584617]</td>\n",
       "    </tr>\n",
       "    <tr>\n",
       "      <th>330</th>\n",
       "      <td>서울특별시</td>\n",
       "      <td>서초구</td>\n",
       "      <td>국립 중앙도서관</td>\n",
       "      <td>서울특별시 서초구 반포동 산 94-1</td>\n",
       "      <td>2</td>\n",
       "      <td>0</td>\n",
       "      <td>SM3 Z.E,테슬라</td>\n",
       "      <td>[127.0023096, 37.4967079]</td>\n",
       "    </tr>\n",
       "    <tr>\n",
       "      <th>341</th>\n",
       "      <td>서울특별시</td>\n",
       "      <td>서초구</td>\n",
       "      <td>방배1차 e편한세상</td>\n",
       "      <td>서울특별시 서초구 방배동 884-2</td>\n",
       "      <td>0</td>\n",
       "      <td>2</td>\n",
       "      <td>SM3 Z.E,레이EV,소울EV,닛산리프,아이오닉EV,BMW i3,스파크EV,볼트E...</td>\n",
       "      <td>[126.9996167, 37.4883031]</td>\n",
       "    </tr>\n",
       "  </tbody>\n",
       "</table>\n",
       "</div>"
      ],
      "text/plain": [
       "     metro  city          stnPlace               stnAddr  rapidChargerCount  \\\n",
       "202  서울특별시   노원구             인재개발원     서울특별시 노원구 노원길 130                  1   \n",
       "322  서울특별시  서대문구  연희동 홍연2교 옆 노상주차장    서울특별시 서대문구 연희동 736                  1   \n",
       "327  서울특별시   서초구           LH서초5단지   서울특별시 서초구 우면동 368-1                  1   \n",
       "330  서울특별시   서초구          국립 중앙도서관  서울특별시 서초구 반포동 산 94-1                  2   \n",
       "341  서울특별시   서초구        방배1차 e편한세상   서울특별시 서초구 방배동 884-2                  0   \n",
       "\n",
       "     slowChargerCount                                            carType  \\\n",
       "202                 1  SM3 Z.E,레이EV,소울EV,닛산리프,아이오닉EV,BMW i3,스파크EV,볼트E...   \n",
       "322                 0                                        SM3 Z.E,테슬라   \n",
       "327                 2  SM3 Z.E,레이EV,소울EV,닛산리프,아이오닉EV,BMW i3,스파크EV,볼트E...   \n",
       "330                 0                                        SM3 Z.E,테슬라   \n",
       "341                 2  SM3 Z.E,레이EV,소울EV,닛산리프,아이오닉EV,BMW i3,스파크EV,볼트E...   \n",
       "\n",
       "                   coordinates  \n",
       "202                     [0, 0]  \n",
       "322  [126.9293529, 37.5765416]  \n",
       "327  [127.0241635, 37.4584617]  \n",
       "330  [127.0023096, 37.4967079]  \n",
       "341  [126.9996167, 37.4883031]  "
      ]
     },
     "execution_count": 165,
     "metadata": {},
     "output_type": "execute_result"
    }
   ],
   "source": [
    "emptydf.head(5)"
   ]
  },
  {
   "cell_type": "code",
   "execution_count": 164,
   "metadata": {},
   "outputs": [
    {
     "name": "stdout",
     "output_type": "stream",
     "text": [
      "(35, 8)\n"
     ]
    }
   ],
   "source": [
    "emptydf2 = emptydf[emptydf['coordinates'].apply(lambda x: x[0]==0 and x[1]==0)]\n",
    "print(emptydf2.shape)"
   ]
  },
  {
   "cell_type": "code",
   "execution_count": 131,
   "metadata": {},
   "outputs": [],
   "source": [
    "with open(\"./results/evca_dataframe_with_coor.pkl\", \"wb\") as f:\n",
    "    pickle.dump(data, f)"
   ]
  },
  {
   "cell_type": "code",
   "execution_count": 130,
   "metadata": {},
   "outputs": [
    {
     "data": {
      "text/plain": [
       "0    [127.0884362, 37.4711594]\n",
       "1    [127.0409418, 37.5145517]\n",
       "2    [127.0852629, 37.4825117]\n",
       "3    [127.0475020, 37.5173050]\n",
       "4    [127.1012224, 37.4603217]\n",
       "Name: coordinates, dtype: object"
      ]
     },
     "execution_count": 130,
     "metadata": {},
     "output_type": "execute_result"
    }
   ],
   "source": [
    "data['coordinates'].head(5)"
   ]
  },
  {
   "cell_type": "code",
   "execution_count": null,
   "metadata": {},
   "outputs": [],
   "source": [
    "testdf"
   ]
  },
  {
   "cell_type": "code",
   "execution_count": 48,
   "metadata": {},
   "outputs": [
    {
     "name": "stderr",
     "output_type": "stream",
     "text": [
      "0it [00:00, ?it/s]"
     ]
    },
    {
     "name": "stdout",
     "output_type": "stream",
     "text": [
      "[debug] > Exception: 'NoneType' object has no attribute 'latitude'\n",
      "서울특별시 강남구 자곡동 자곡로3길 21 LH강남힐스테이트 : [0, 0]\n"
     ]
    },
    {
     "name": "stderr",
     "output_type": "stream",
     "text": [
      "\n"
     ]
    }
   ],
   "source": [
    "import time\n",
    "for idx, row in tqdm(testdf.iterrows()):\n",
    "    addr = f\"{row.loc['stnAddr'].strip()} {row.loc['stnPlace']}\"\n",
    "    lat_lng = geocoding(addr)\n",
    "    print(f\"{addr} : [{lat_lng[0]}, {lat_lng[1]}]\")\n",
    "    time.sleep(1)\n",
    "    break"
   ]
  },
  {
   "cell_type": "code",
   "execution_count": 33,
   "metadata": {},
   "outputs": [
    {
     "data": {
      "text/plain": [
       "124"
      ]
     },
     "execution_count": 33,
     "metadata": {},
     "output_type": "execute_result"
    }
   ],
   "source": [
    "len(data['stnAddr'])-len(data['stnAddr'].drop_duplicates())"
   ]
  },
  {
   "cell_type": "code",
   "execution_count": 13,
   "metadata": {},
   "outputs": [],
   "source": [
    "carTypeKeys = data.carType.value_counts().keys().tolist()\n",
    "carTypeList = []\n",
    "for types in carTypeKeys:\n",
    "    car_type_list = types.split(\",\")\n",
    "    carTypeList += list(set(car_type_list) - set(carTypeList))\n",
    "carTypeList.remove('')"
   ]
  },
  {
   "cell_type": "code",
   "execution_count": 129,
   "metadata": {},
   "outputs": [
    {
     "data": {
      "text/html": [
       "<div>\n",
       "<style scoped>\n",
       "    .dataframe tbody tr th:only-of-type {\n",
       "        vertical-align: middle;\n",
       "    }\n",
       "\n",
       "    .dataframe tbody tr th {\n",
       "        vertical-align: top;\n",
       "    }\n",
       "\n",
       "    .dataframe thead th {\n",
       "        text-align: right;\n",
       "    }\n",
       "</style>\n",
       "<table border=\"1\" class=\"dataframe\">\n",
       "  <thead>\n",
       "    <tr style=\"text-align: right;\">\n",
       "      <th></th>\n",
       "      <th>metro</th>\n",
       "      <th>city</th>\n",
       "      <th>stnPlace</th>\n",
       "      <th>stnAddr</th>\n",
       "      <th>rapidChargerCount</th>\n",
       "      <th>slowChargerCount</th>\n",
       "      <th>carType</th>\n",
       "      <th>coordinates</th>\n",
       "    </tr>\n",
       "  </thead>\n",
       "  <tbody>\n",
       "    <tr>\n",
       "      <th>0</th>\n",
       "      <td>서울특별시</td>\n",
       "      <td>강남구</td>\n",
       "      <td>LH강남힐스테이트</td>\n",
       "      <td>서울특별시 강남구 자곡동 자곡로3길 21</td>\n",
       "      <td>1</td>\n",
       "      <td>4</td>\n",
       "      <td>SM3 Z.E,레이EV,소울EV,닛산리프,아이오닉EV,BMW i3,스파크EV,볼트E...</td>\n",
       "      <td>[127.0884362, 37.4711594]</td>\n",
       "    </tr>\n",
       "    <tr>\n",
       "      <th>1</th>\n",
       "      <td>서울특별시</td>\n",
       "      <td>강남구</td>\n",
       "      <td>LH서울지사</td>\n",
       "      <td>서울특별시 강남구 선릉로 121길 12</td>\n",
       "      <td>1</td>\n",
       "      <td>0</td>\n",
       "      <td>SM3 Z.E,레이EV,소울EV,닛산리프,아이오닉EV,BMW i3,스파크EV,볼트E...</td>\n",
       "      <td>[127.0409418, 37.5145517]</td>\n",
       "    </tr>\n",
       "    <tr>\n",
       "      <th>2</th>\n",
       "      <td>서울특별시</td>\n",
       "      <td>강남구</td>\n",
       "      <td>가람아파트</td>\n",
       "      <td>서울특별시 강남구 일원동 일원로 127</td>\n",
       "      <td>1</td>\n",
       "      <td>0</td>\n",
       "      <td>SM3 Z.E,레이EV,소울EV,닛산리프,아이오닉EV,BMW i3,스파크EV,볼트E...</td>\n",
       "      <td>[127.0852629, 37.4825117]</td>\n",
       "    </tr>\n",
       "    <tr>\n",
       "      <th>3</th>\n",
       "      <td>서울특별시</td>\n",
       "      <td>강남구</td>\n",
       "      <td>강남구청 공영주차장</td>\n",
       "      <td>서울특별시 강남구 삼성동 16-1</td>\n",
       "      <td>1</td>\n",
       "      <td>0</td>\n",
       "      <td>SM3 Z.E,레이EV,소울EV,닛산리프,아이오닉EV,BMW i3,스파크EV,볼트E...</td>\n",
       "      <td>[127.0475020, 37.5173050]</td>\n",
       "    </tr>\n",
       "    <tr>\n",
       "      <th>4</th>\n",
       "      <td>서울특별시</td>\n",
       "      <td>강남구</td>\n",
       "      <td>강남데시앙파크</td>\n",
       "      <td>서울특별시 강남구 세곡동 헌릉로590길 63</td>\n",
       "      <td>1</td>\n",
       "      <td>1</td>\n",
       "      <td>SM3 Z.E,레이EV,소울EV,닛산리프,아이오닉EV,BMW i3,스파크EV,볼트E...</td>\n",
       "      <td>[127.1012224, 37.4603217]</td>\n",
       "    </tr>\n",
       "  </tbody>\n",
       "</table>\n",
       "</div>"
      ],
      "text/plain": [
       "   metro city    stnPlace                   stnAddr  rapidChargerCount  \\\n",
       "0  서울특별시  강남구   LH강남힐스테이트    서울특별시 강남구 자곡동 자곡로3길 21                  1   \n",
       "1  서울특별시  강남구      LH서울지사     서울특별시 강남구 선릉로 121길 12                  1   \n",
       "2  서울특별시  강남구       가람아파트     서울특별시 강남구 일원동 일원로 127                  1   \n",
       "3  서울특별시  강남구  강남구청 공영주차장        서울특별시 강남구 삼성동 16-1                  1   \n",
       "4  서울특별시  강남구     강남데시앙파크  서울특별시 강남구 세곡동 헌릉로590길 63                  1   \n",
       "\n",
       "   slowChargerCount                                            carType  \\\n",
       "0                 4  SM3 Z.E,레이EV,소울EV,닛산리프,아이오닉EV,BMW i3,스파크EV,볼트E...   \n",
       "1                 0  SM3 Z.E,레이EV,소울EV,닛산리프,아이오닉EV,BMW i3,스파크EV,볼트E...   \n",
       "2                 0  SM3 Z.E,레이EV,소울EV,닛산리프,아이오닉EV,BMW i3,스파크EV,볼트E...   \n",
       "3                 0  SM3 Z.E,레이EV,소울EV,닛산리프,아이오닉EV,BMW i3,스파크EV,볼트E...   \n",
       "4                 1  SM3 Z.E,레이EV,소울EV,닛산리프,아이오닉EV,BMW i3,스파크EV,볼트E...   \n",
       "\n",
       "                 coordinates  \n",
       "0  [127.0884362, 37.4711594]  \n",
       "1  [127.0409418, 37.5145517]  \n",
       "2  [127.0852629, 37.4825117]  \n",
       "3  [127.0475020, 37.5173050]  \n",
       "4  [127.1012224, 37.4603217]  "
      ]
     },
     "execution_count": 129,
     "metadata": {},
     "output_type": "execute_result"
    }
   ],
   "source": []
  }
 ],
 "metadata": {
  "kernelspec": {
   "display_name": ".venv",
   "language": "python",
   "name": "python3"
  },
  "language_info": {
   "codemirror_mode": {
    "name": "ipython",
    "version": 3
   },
   "file_extension": ".py",
   "mimetype": "text/x-python",
   "name": "python",
   "nbconvert_exporter": "python",
   "pygments_lexer": "ipython3",
   "version": "3.10.12"
  }
 },
 "nbformat": 4,
 "nbformat_minor": 2
}
