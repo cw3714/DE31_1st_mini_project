{
 "cells": [
  {
   "cell_type": "code",
   "execution_count": 4,
   "metadata": {},
   "outputs": [],
   "source": [
    "import pandas as pd\n",
    "import numpy as np\n",
    "import selenium\n",
    "import sqlalchemy\n",
    "from urllib import parse\n",
    "import requests\n",
    "from bs4 import BeautifulSoup as BS\n",
    "import os\n",
    "import json\n",
    "from tqdm import tqdm\n",
    "import pickle"
   ]
  },
  {
   "cell_type": "code",
   "execution_count": 5,
   "metadata": {},
   "outputs": [],
   "source": [
    "headers = {\"User-Agent\":\"Mozilla/5.0 (Windows NT 10.0; Win64; x64) AppleWebKit/537.36 (KHTML, like Gecko) Chrome/123.0.0.0 Safari/537.36\"}\n",
    "\n",
    "def ev_cs_get_by_metro_code(result_file_name:str, API_KEY:str, metro_code:str, city_code=None)->bool:\n",
    "    ev_api_url = \"https://bigdata.kepco.co.kr/openapi/v1/EVcharge.do?{}{}apiKey={}&returnType=json\"\n",
    "    metroCd = f\"metroCd={metro_code}&\"\n",
    "    cityCd = \"\" if city_code==None else f\"cityCd={city_code}&\"\n",
    "    try:\n",
    "        req = requests.get(ev_api_url.format(metroCd, cityCd, API_KEY))\n",
    "        soup = BS(req.text)\n",
    "        data = json.loads(soup.text)\n",
    "        result_path = \"./results\"\n",
    "        if not os.path.isdir(result_path):\n",
    "            os.mkdir(result_path)\n",
    "        with open(f\"{result_file_name}\", \"w\", encoding=\"utf-8\") as f:\n",
    "            json.dump(data, f, ensure_ascii=False)\n",
    "            \n",
    "    except Exception as e:\n",
    "        print(f\"[debug] > exception : {e}\")\n",
    "        return False\n",
    "    return True\n",
    "    "
   ]
  },
  {
   "cell_type": "code",
   "execution_count": 6,
   "metadata": {},
   "outputs": [],
   "source": [
    "metro_codes =  {\n",
    "    \"서울특별시\" : \"11\",\n",
    "    \"부산광역시\" : \"21\",\n",
    "    \"대구광역시\" : \"22\",\n",
    "    \"인천광역시\" : \"23\",\n",
    "    \"광주광역시\" : \"24\",\n",
    "    \"대전광역시\" : \"25\",\n",
    "    \"울산광역시\" : \"26\",\n",
    "    \"경기도\" : \"31\",\n",
    "    \"강원도\" : \"32\",\n",
    "    \"충청북도\" : \"33\",\n",
    "    \"충청남도\" : \"34\",\n",
    "    \"전라북도\" : \"35\",\n",
    "    \"전라남도\" : \"36\",\n",
    "    \"경상북도\" : \"37\",\n",
    "    \"경상남도\" : \"38\",\n",
    "    \"제주특별자치도\" : \"39\"\n",
    "}"
   ]
  },
  {
   "cell_type": "code",
   "execution_count": 7,
   "metadata": {},
   "outputs": [],
   "source": [
    "with open(\"api_key.json\", \"r\") as f:\n",
    "    key_json = json.load(f)\n",
    "API_KEY = key_json['API_KEY']"
   ]
  },
  {
   "cell_type": "code",
   "execution_count": 8,
   "metadata": {},
   "outputs": [
    {
     "name": "stdout",
     "output_type": "stream",
     "text": [
      "[debug] > 서울특별시 extraction success\n",
      "[debug] > 부산광역시 extraction success\n",
      "[debug] > 대구광역시 extraction success\n",
      "[debug] > 인천광역시 extraction success\n",
      "[debug] > 광주광역시 extraction success\n",
      "[debug] > 대전광역시 extraction success\n",
      "[debug] > 울산광역시 extraction success\n",
      "[debug] > 경기도 extraction success\n",
      "[debug] > 강원도 extraction success\n",
      "[debug] > 충청북도 extraction success\n",
      "[debug] > 충청남도 extraction success\n",
      "[debug] > 전라북도 extraction success\n",
      "[debug] > 전라남도 extraction success\n",
      "[debug] > 경상북도 extraction success\n",
      "[debug] > 경상남도 extraction success\n",
      "[debug] > 제주특별자치도 extraction success\n"
     ]
    }
   ],
   "source": [
    "\n",
    "result_file_name_template = \"ev_cs_{}.json\"\n",
    "\n",
    "result_path = \"./results\"\n",
    "if not os.path.isdir(result_path):\n",
    "    os.mkdir(result_path)\n",
    "for key in metro_codes.keys():\n",
    "    assert ev_cs_get_by_metro_code(f\"{result_path}/\"+result_file_name_template.format(key), API_KEY, metro_code=metro_codes[key]), print(f\"[debug] > {key} extraction failed\")\n",
    "    print(f\"[debug] > {key} extraction success\")"
   ]
  },
  {
   "cell_type": "code",
   "execution_count": 9,
   "metadata": {},
   "outputs": [],
   "source": [
    "with open(\"db_info.json\", \"r\") as f:\n",
    "    db_info = json.load(f)\n",
    "user = db_info['user']\n",
    "password = db_info['password']\n",
    "host = db_info['host']\n",
    "port = db_info['port']\n",
    "database = db_info['database']\n",
    "password = parse.quote_plus(password)\n",
    "engine = sqlalchemy.create_engine(f\"mysql://{user}:{password}@{host}:{port}/{database}?charset=utf8mb4\")"
   ]
  },
  {
   "cell_type": "code",
   "execution_count": 10,
   "metadata": {},
   "outputs": [
    {
     "name": "stderr",
     "output_type": "stream",
     "text": [
      "  0%|          | 0/16 [00:00<?, ?it/s]"
     ]
    },
    {
     "name": "stderr",
     "output_type": "stream",
     "text": [
      "100%|██████████| 16/16 [00:00<00:00, 1298.09it/s]\n"
     ]
    }
   ],
   "source": [
    "\n",
    "listdata = []\n",
    "for key in tqdm(metro_codes.keys()):\n",
    "    filename = result_file_name_template.format(key)\n",
    "    with open(f\"{result_path}/{filename}\", \"r\") as f:\n",
    "        file = json.load(f)\n",
    "    for info in file[\"data\"]:\n",
    "        listdata.append(info)"
   ]
  },
  {
   "cell_type": "code",
   "execution_count": 11,
   "metadata": {},
   "outputs": [],
   "source": [
    "data = pd.DataFrame(listdata)\n",
    "with open(\"./results/EV_CS_DATA.pkl\", \"wb\") as f:\n",
    "    pickle.dump(data, f)"
   ]
  },
  {
   "cell_type": "code",
   "execution_count": 25,
   "metadata": {},
   "outputs": [
    {
     "data": {
      "text/html": [
       "<div>\n",
       "<style scoped>\n",
       "    .dataframe tbody tr th:only-of-type {\n",
       "        vertical-align: middle;\n",
       "    }\n",
       "\n",
       "    .dataframe tbody tr th {\n",
       "        vertical-align: top;\n",
       "    }\n",
       "\n",
       "    .dataframe thead th {\n",
       "        text-align: right;\n",
       "    }\n",
       "</style>\n",
       "<table border=\"1\" class=\"dataframe\">\n",
       "  <thead>\n",
       "    <tr style=\"text-align: right;\">\n",
       "      <th></th>\n",
       "      <th>metro</th>\n",
       "      <th>city</th>\n",
       "      <th>stnPlace</th>\n",
       "      <th>stnAddr</th>\n",
       "      <th>rapidChargerCount</th>\n",
       "      <th>slowChargerCount</th>\n",
       "      <th>carType</th>\n",
       "    </tr>\n",
       "  </thead>\n",
       "  <tbody>\n",
       "    <tr>\n",
       "      <th>0</th>\n",
       "      <td>서울특별시</td>\n",
       "      <td>강남구</td>\n",
       "      <td>LH강남힐스테이트</td>\n",
       "      <td>서울특별시 강남구 자곡동 자곡로3길 21</td>\n",
       "      <td>1</td>\n",
       "      <td>4</td>\n",
       "      <td>SM3 Z.E,레이EV,소울EV,닛산리프,아이오닉EV,BMW i3,스파크EV,볼트E...</td>\n",
       "    </tr>\n",
       "    <tr>\n",
       "      <th>1</th>\n",
       "      <td>서울특별시</td>\n",
       "      <td>강남구</td>\n",
       "      <td>LH서울지사</td>\n",
       "      <td>서울특별시 강남구 선릉로 121길 12</td>\n",
       "      <td>1</td>\n",
       "      <td>0</td>\n",
       "      <td>SM3 Z.E,레이EV,소울EV,닛산리프,아이오닉EV,BMW i3,스파크EV,볼트E...</td>\n",
       "    </tr>\n",
       "    <tr>\n",
       "      <th>2</th>\n",
       "      <td>서울특별시</td>\n",
       "      <td>강남구</td>\n",
       "      <td>가람아파트</td>\n",
       "      <td>서울특별시 강남구 일원동 일원로 127</td>\n",
       "      <td>1</td>\n",
       "      <td>0</td>\n",
       "      <td>SM3 Z.E,레이EV,소울EV,닛산리프,아이오닉EV,BMW i3,스파크EV,볼트E...</td>\n",
       "    </tr>\n",
       "    <tr>\n",
       "      <th>3</th>\n",
       "      <td>서울특별시</td>\n",
       "      <td>강남구</td>\n",
       "      <td>강남구청 공영주차장</td>\n",
       "      <td>서울특별시 강남구 삼성동 16-1</td>\n",
       "      <td>1</td>\n",
       "      <td>0</td>\n",
       "      <td>SM3 Z.E,레이EV,소울EV,닛산리프,아이오닉EV,BMW i3,스파크EV,볼트E...</td>\n",
       "    </tr>\n",
       "    <tr>\n",
       "      <th>4</th>\n",
       "      <td>서울특별시</td>\n",
       "      <td>강남구</td>\n",
       "      <td>강남데시앙파크</td>\n",
       "      <td>서울특별시 강남구 세곡동 헌릉로590길 63</td>\n",
       "      <td>1</td>\n",
       "      <td>1</td>\n",
       "      <td>SM3 Z.E,레이EV,소울EV,닛산리프,아이오닉EV,BMW i3,스파크EV,볼트E...</td>\n",
       "    </tr>\n",
       "  </tbody>\n",
       "</table>\n",
       "</div>"
      ],
      "text/plain": [
       "   metro city    stnPlace                   stnAddr  rapidChargerCount  \\\n",
       "0  서울특별시  강남구   LH강남힐스테이트    서울특별시 강남구 자곡동 자곡로3길 21                  1   \n",
       "1  서울특별시  강남구      LH서울지사     서울특별시 강남구 선릉로 121길 12                  1   \n",
       "2  서울특별시  강남구       가람아파트     서울특별시 강남구 일원동 일원로 127                  1   \n",
       "3  서울특별시  강남구  강남구청 공영주차장        서울특별시 강남구 삼성동 16-1                  1   \n",
       "4  서울특별시  강남구     강남데시앙파크  서울특별시 강남구 세곡동 헌릉로590길 63                  1   \n",
       "\n",
       "   slowChargerCount                                            carType  \n",
       "0                 4  SM3 Z.E,레이EV,소울EV,닛산리프,아이오닉EV,BMW i3,스파크EV,볼트E...  \n",
       "1                 0  SM3 Z.E,레이EV,소울EV,닛산리프,아이오닉EV,BMW i3,스파크EV,볼트E...  \n",
       "2                 0  SM3 Z.E,레이EV,소울EV,닛산리프,아이오닉EV,BMW i3,스파크EV,볼트E...  \n",
       "3                 0  SM3 Z.E,레이EV,소울EV,닛산리프,아이오닉EV,BMW i3,스파크EV,볼트E...  \n",
       "4                 1  SM3 Z.E,레이EV,소울EV,닛산리프,아이오닉EV,BMW i3,스파크EV,볼트E...  "
      ]
     },
     "execution_count": 25,
     "metadata": {},
     "output_type": "execute_result"
    }
   ],
   "source": [
    "data.rename(columns={\"rapidCnt\": \"rapidChargerCount\", \"slowCnt\":\"slowChargerCount\"}, inplace=True)\n",
    "data.head(5)"
   ]
  },
  {
   "cell_type": "code",
   "execution_count": 43,
   "metadata": {},
   "outputs": [],
   "source": [
    "testdf = data.head(50)"
   ]
  },
  {
   "cell_type": "code",
   "execution_count": 49,
   "metadata": {},
   "outputs": [],
   "source": [
    "row_num = 10\n",
    "testaddr = testdf.loc[row_num, 'stnAddr']"
   ]
  },
  {
   "cell_type": "code",
   "execution_count": null,
   "metadata": {},
   "outputs": [],
   "source": [
    "with open(\"naver_geocoding_api.json\", \"r\") as f:\n",
    "    naver_api_keys = json.load(f)\n",
    "\n",
    "def geocoding(address:str):\n",
    "    try:\n",
    "        with requests.Session() as nsession:\n",
    "            nv_gc_api_url_template = \"https://naveropenapi.apigw.ntruss.com/map-geocode/v2/geocode{}\"\n",
    "            nv_gc_api_headers = {\n",
    "                \"User-Agent\":\"Mozilla/5.0 (Windows NT 10.0; Win64; x64) AppleWebKit/537.36 (KHTML, like Gecko) Chrome/123.0.0.0 Safari/537.36\",\n",
    "                \"X-NCP-APIGW-API-KEY-ID\" : naver_api_keys['clientID'],\n",
    "                \"X-NCP-APIGW-API-KEY\" : naver_api_keys['clientSecret']\n",
    "            }\n",
    "            nv_gc_req = nsession.get(nv_gc_api_url_template)\n",
    "        lat_lng = [geo.latitude, geo.longitude]\n",
    "        return lat_lng\n",
    "    except Exception as e:\n",
    "        print(f\"[debug] > Exception: {e}\")\n",
    "        return [0,0]"
   ]
  },
  {
   "cell_type": "code",
   "execution_count": 48,
   "metadata": {},
   "outputs": [
    {
     "name": "stderr",
     "output_type": "stream",
     "text": [
      "0it [00:00, ?it/s]"
     ]
    },
    {
     "name": "stdout",
     "output_type": "stream",
     "text": [
      "[debug] > Exception: 'NoneType' object has no attribute 'latitude'\n",
      "서울특별시 강남구 자곡동 자곡로3길 21 LH강남힐스테이트 : [0, 0]\n"
     ]
    },
    {
     "name": "stderr",
     "output_type": "stream",
     "text": [
      "\n"
     ]
    }
   ],
   "source": [
    "\n",
    "\n",
    "import time\n",
    "for idx, row in tqdm(testdf.iterrows()):\n",
    "    addr = f\"{row.loc['stnAddr'].strip()} {row.loc['stnPlace']}\"\n",
    "    lat_lng = geocoding(addr)\n",
    "    print(f\"{addr} : [{lat_lng[0]}, {lat_lng[1]}]\")\n",
    "    time.sleep(1)\n",
    "    break"
   ]
  },
  {
   "cell_type": "code",
   "execution_count": 33,
   "metadata": {},
   "outputs": [
    {
     "data": {
      "text/plain": [
       "124"
      ]
     },
     "execution_count": 33,
     "metadata": {},
     "output_type": "execute_result"
    }
   ],
   "source": [
    "len(data['stnAddr'])-len(data['stnAddr'].drop_duplicates())"
   ]
  },
  {
   "cell_type": "code",
   "execution_count": 13,
   "metadata": {},
   "outputs": [],
   "source": [
    "carTypeKeys = data.carType.value_counts().keys().tolist()\n",
    "carTypeList = []\n",
    "for types in carTypeKeys:\n",
    "    car_type_list = types.split(\",\")\n",
    "    carTypeList += list(set(car_type_list) - set(carTypeList))\n",
    "carTypeList.remove('')"
   ]
  },
  {
   "cell_type": "code",
   "execution_count": 14,
   "metadata": {},
   "outputs": [],
   "source": [
    "def get_restarea_info()->pd.DataFrame:\n",
    "    with requests.Session() as session:\n",
    "        restarea_api_url_template = \"https://data.ex.co.kr/openapi/restinfo/hiwaySvarInfoList?key={}&type={}\"\n",
    "        restarea_api_key = key_json['RESTAREA_API_KEY']\n",
    "        restarea_api_type = \"json\"\n",
    "        restarea_req = session.get(restarea_api_url_template.format(restarea_api_key, restarea_api_type))\n",
    "        with open(\"./results/rest_areas.json\", \"w\", encoding='utf-8') as f:\n",
    "            json.dump(restarea_req.json(), f, ensure_ascii=False)\n",
    "    return pd.DataFrame(restarea_req.json()['list']) "
   ]
  },
  {
   "cell_type": "code",
   "execution_count": 15,
   "metadata": {},
   "outputs": [],
   "source": [
    "with open(\"./results/rest_areas.json\", \"r\", encoding='utf-8') as f:\n",
    "    restarea_json = json.load(f)\n",
    "restarea_df = pd.DataFrame(restarea_json['list'])"
   ]
  },
  {
   "cell_type": "code",
   "execution_count": 16,
   "metadata": {},
   "outputs": [
    {
     "data": {
      "text/html": [
       "<div>\n",
       "<style scoped>\n",
       "    .dataframe tbody tr th:only-of-type {\n",
       "        vertical-align: middle;\n",
       "    }\n",
       "\n",
       "    .dataframe tbody tr th {\n",
       "        vertical-align: top;\n",
       "    }\n",
       "\n",
       "    .dataframe thead th {\n",
       "        text-align: right;\n",
       "    }\n",
       "</style>\n",
       "<table border=\"1\" class=\"dataframe\">\n",
       "  <thead>\n",
       "    <tr style=\"text-align: right;\">\n",
       "      <th></th>\n",
       "      <th>svarAddr</th>\n",
       "      <th>routeCd</th>\n",
       "      <th>routeNm</th>\n",
       "      <th>svarCd</th>\n",
       "      <th>svarNm</th>\n",
       "      <th>hdqrCd</th>\n",
       "      <th>hdqrNm</th>\n",
       "      <th>mtnofCd</th>\n",
       "      <th>mtnofNm</th>\n",
       "      <th>svarGsstClssCd</th>\n",
       "      <th>svarGsstClssNm</th>\n",
       "      <th>gudClssCd</th>\n",
       "      <th>gudClssNm</th>\n",
       "      <th>pstnoCd</th>\n",
       "      <th>cocrPrkgTrcn</th>\n",
       "      <th>fscarPrkgTrcn</th>\n",
       "      <th>dspnPrkgTrcn</th>\n",
       "      <th>bsopAdtnlFcltCd</th>\n",
       "      <th>rprsTelNo</th>\n",
       "    </tr>\n",
       "  </thead>\n",
       "  <tbody>\n",
       "    <tr>\n",
       "      <th>0</th>\n",
       "      <td>경북 경주시 건천읍 경부고속도로 77</td>\n",
       "      <td>0010</td>\n",
       "      <td>경부선</td>\n",
       "      <td>000485</td>\n",
       "      <td>건천(부산)주유소</td>\n",
       "      <td>600000</td>\n",
       "      <td>대구경북본부</td>\n",
       "      <td>610200</td>\n",
       "      <td>대구</td>\n",
       "      <td>1</td>\n",
       "      <td>주유소</td>\n",
       "      <td>1</td>\n",
       "      <td>하행</td>\n",
       "      <td>780900</td>\n",
       "      <td>0</td>\n",
       "      <td>0</td>\n",
       "      <td>0</td>\n",
       "      <td>B00200</td>\n",
       "      <td>0547514600</td>\n",
       "    </tr>\n",
       "    <tr>\n",
       "      <th>1</th>\n",
       "      <td>경북 경주시 건천읍 방내리 14</td>\n",
       "      <td>0010</td>\n",
       "      <td>경부선</td>\n",
       "      <td>000054</td>\n",
       "      <td>건천(부산)휴게소</td>\n",
       "      <td>600000</td>\n",
       "      <td>대구경북본부</td>\n",
       "      <td>610200</td>\n",
       "      <td>대구</td>\n",
       "      <td>0</td>\n",
       "      <td>휴게소</td>\n",
       "      <td>1</td>\n",
       "      <td>하행</td>\n",
       "      <td>780900</td>\n",
       "      <td>73</td>\n",
       "      <td>43</td>\n",
       "      <td>4</td>\n",
       "      <td>A00078</td>\n",
       "      <td>0547516890</td>\n",
       "    </tr>\n",
       "    <tr>\n",
       "      <th>2</th>\n",
       "      <td>경북 경주시 건천읍 방내리 28-1</td>\n",
       "      <td>0010</td>\n",
       "      <td>경부선</td>\n",
       "      <td>000053</td>\n",
       "      <td>건천(서울)주유소</td>\n",
       "      <td>600000</td>\n",
       "      <td>대구경북본부</td>\n",
       "      <td>610200</td>\n",
       "      <td>대구</td>\n",
       "      <td>1</td>\n",
       "      <td>주유소</td>\n",
       "      <td>0</td>\n",
       "      <td>상행</td>\n",
       "      <td>780900</td>\n",
       "      <td>0</td>\n",
       "      <td>0</td>\n",
       "      <td>0</td>\n",
       "      <td>B00053</td>\n",
       "      <td>0547518256</td>\n",
       "    </tr>\n",
       "  </tbody>\n",
       "</table>\n",
       "</div>"
      ],
      "text/plain": [
       "               svarAddr routeCd routeNm  svarCd     svarNm  hdqrCd  hdqrNm  \\\n",
       "0  경북 경주시 건천읍 경부고속도로 77    0010     경부선  000485  건천(부산)주유소  600000  대구경북본부   \n",
       "1     경북 경주시 건천읍 방내리 14    0010     경부선  000054  건천(부산)휴게소  600000  대구경북본부   \n",
       "2   경북 경주시 건천읍 방내리 28-1    0010     경부선  000053  건천(서울)주유소  600000  대구경북본부   \n",
       "\n",
       "  mtnofCd mtnofNm svarGsstClssCd svarGsstClssNm gudClssCd gudClssNm pstnoCd  \\\n",
       "0  610200      대구              1            주유소         1        하행  780900   \n",
       "1  610200      대구              0            휴게소         1        하행  780900   \n",
       "2  610200      대구              1            주유소         0        상행  780900   \n",
       "\n",
       "  cocrPrkgTrcn fscarPrkgTrcn dspnPrkgTrcn bsopAdtnlFcltCd   rprsTelNo  \n",
       "0            0             0            0          B00200  0547514600  \n",
       "1           73            43            4          A00078  0547516890  \n",
       "2            0             0            0          B00053  0547518256  "
      ]
     },
     "execution_count": 16,
     "metadata": {},
     "output_type": "execute_result"
    }
   ],
   "source": [
    "restarea_df.head(3)"
   ]
  },
  {
   "cell_type": "code",
   "execution_count": 17,
   "metadata": {},
   "outputs": [
    {
     "data": {
      "text/plain": [
       "0     780900\n",
       "1     780900\n",
       "2     780900\n",
       "3     780900\n",
       "4     702801\n",
       "5     702800\n",
       "6     712830\n",
       "7     712830\n",
       "8     780851\n",
       "9     38196 \n",
       "10    373830\n",
       "11    373830\n",
       "12    449900\n",
       "13    17100 \n",
       "14    449902\n",
       "15    740880\n",
       "16    740882\n",
       "17    740882\n",
       "18    740882\n",
       "19    31053 \n",
       "Name: pstnoCd, dtype: object"
      ]
     },
     "execution_count": 17,
     "metadata": {},
     "output_type": "execute_result"
    }
   ],
   "source": [
    "restarea_df.pstnoCd.head(20)"
   ]
  },
  {
   "cell_type": "code",
   "execution_count": 18,
   "metadata": {},
   "outputs": [],
   "source": [
    "from geopy.geocoders import Nominatim\n",
    "geo_local = Nominatim(user_agent='South Korea')\n",
    "\n",
    "def geocoding(address:str):\n",
    "    try:\n",
    "        geo = geo_local.geocode(address)\n",
    "        lat_lng = [geo.latitude, geo.longitude]\n",
    "        return lat_lng\n",
    "    except:\n",
    "        return [0,0]"
   ]
  },
  {
   "cell_type": "code",
   "execution_count": 19,
   "metadata": {},
   "outputs": [],
   "source": [
    "row_num = 25\n",
    "testpost = restarea_df.loc[row_num, 'pstnoCd']\n",
    "testaddr = restarea_df.loc[row_num, 'svarAddr']"
   ]
  },
  {
   "cell_type": "code",
   "execution_count": 22,
   "metadata": {},
   "outputs": [
    {
     "data": {
      "text/plain": [
       "(573, 19)"
      ]
     },
     "execution_count": 22,
     "metadata": {},
     "output_type": "execute_result"
    }
   ],
   "source": [
    "restarea_df.shape"
   ]
  },
  {
   "cell_type": "code",
   "execution_count": 20,
   "metadata": {},
   "outputs": [],
   "source": [
    "test_df = restarea_df.head(50)"
   ]
  },
  {
   "cell_type": "code",
   "execution_count": 24,
   "metadata": {},
   "outputs": [
    {
     "data": {
      "text/plain": [
       "14.469696969696969"
      ]
     },
     "execution_count": 24,
     "metadata": {},
     "output_type": "execute_result"
    }
   ],
   "source": []
  },
  {
   "cell_type": "code",
   "execution_count": 21,
   "metadata": {},
   "outputs": [
    {
     "data": {
      "text/plain": [
       "0     [35.8399871, 129.0885073]\n",
       "1                        [0, 0]\n",
       "2                        [0, 0]\n",
       "3                        [0, 0]\n",
       "4                        [0, 0]\n",
       "5                        [0, 0]\n",
       "6                        [0, 0]\n",
       "7                        [0, 0]\n",
       "8                        [0, 0]\n",
       "9                        [0, 0]\n",
       "10                       [0, 0]\n",
       "11                       [0, 0]\n",
       "12                       [0, 0]\n",
       "13                       [0, 0]\n",
       "14                       [0, 0]\n",
       "15                       [0, 0]\n",
       "16                       [0, 0]\n",
       "17                       [0, 0]\n",
       "18                       [0, 0]\n",
       "19                       [0, 0]\n",
       "20                       [0, 0]\n",
       "21                       [0, 0]\n",
       "22                       [0, 0]\n",
       "23        [37.44499, 127.04933]\n",
       "24        [37.44499, 127.04933]\n",
       "25                       [0, 0]\n",
       "26                       [0, 0]\n",
       "27                       [0, 0]\n",
       "28                       [0, 0]\n",
       "29                       [0, 0]\n",
       "30    [36.4238767, 127.4242613]\n",
       "31    [36.4238767, 127.4242613]\n",
       "32                       [0, 0]\n",
       "33    [37.0133033, 127.1449186]\n",
       "34                       [0, 0]\n",
       "35                       [0, 0]\n",
       "36                       [0, 0]\n",
       "37                       [0, 0]\n",
       "38                       [0, 0]\n",
       "39                       [0, 0]\n",
       "40                       [0, 0]\n",
       "41                       [0, 0]\n",
       "42                       [0, 0]\n",
       "43                       [0, 0]\n",
       "44                       [0, 0]\n",
       "45    [36.7202199, 127.3321303]\n",
       "46                       [0, 0]\n",
       "47    [36.3025298, 127.5868551]\n",
       "48                       [0, 0]\n",
       "49                       [0, 0]\n",
       "Name: svarAddr, dtype: object"
      ]
     },
     "execution_count": 21,
     "metadata": {},
     "output_type": "execute_result"
    }
   ],
   "source": [
    "test_df.svarAddr.apply(geocoding)"
   ]
  },
  {
   "cell_type": "code",
   "execution_count": 143,
   "metadata": {},
   "outputs": [
    {
     "name": "stdout",
     "output_type": "stream",
     "text": [
      "463470 : 0, 0\n"
     ]
    }
   ],
   "source": [
    "lat, lng = geocoding(testpost)\n",
    "print(f\"{testpost} : {lat}, {lng}\")"
   ]
  },
  {
   "cell_type": "code",
   "execution_count": 102,
   "metadata": {},
   "outputs": [
    {
     "data": {
      "text/plain": [
       "['routeCd',\n",
       " 'svarAddr',\n",
       " 'routeNm',\n",
       " 'hdqrNm',\n",
       " 'mtnofNm',\n",
       " 'svarCd',\n",
       " 'svarNm',\n",
       " 'hdqrCd',\n",
       " 'mtnofCd',\n",
       " 'svarGsstClssCd',\n",
       " 'svarGsstClssNm',\n",
       " 'gudClssCd',\n",
       " 'gudClssNm',\n",
       " 'pstnoCd',\n",
       " 'cocrPrkgTrcn',\n",
       " 'fscarPrkgTrcn',\n",
       " 'dspnPrkgTrcn',\n",
       " 'bsopAdtnlFcltCd',\n",
       " 'rprsTelNo']"
      ]
     },
     "execution_count": 102,
     "metadata": {},
     "output_type": "execute_result"
    }
   ],
   "source": [
    "restarea_df.columns.tolist()"
   ]
  },
  {
   "cell_type": "code",
   "execution_count": 107,
   "metadata": {},
   "outputs": [],
   "source": [
    "unitCodes = restarea_df.svarCd.tolist()"
   ]
  },
  {
   "cell_type": "code",
   "execution_count": 114,
   "metadata": {},
   "outputs": [],
   "source": [
    "# rest area location infos\n",
    "\n",
    "# API keeps getting status code 500: back-end server error\n",
    "test_unitCode = unitCodes[5]\n",
    "\n",
    "restarea_loc_api_url_template = \"https://www.bigdata-transportation.kr/api?apiKey={}{}{}\"\n",
    "restarea_loc_api_key = key_json['RESTAREA_LOC_API_KEY']\n",
    "restarea_loc_api_productId = f\"&productId={key_json['RESTAREA_LOC_API_PRODUCT_ID']}\"\n",
    "restarea_loc_api_unitCode = f\"&unitCode={test_unitCode}\"\n",
    "with requests.Session() as session2:\n",
    "    restarea_loc_req = session2.get(restarea_loc_api_url_template.format(restarea_loc_api_key, restarea_loc_api_productId, restarea_loc_api_unitCode))\n",
    "    assert restarea_loc_req.status_code==200, print(\"[debug] > connection error\")\n",
    "    try:\n",
    "        restarea_loc_api_json = restarea_loc_req.json()\n",
    "        assert restarea_loc_api_json['resultType']==\"200\", print(f\"[debug] > result error: {restarea_loc_api_json['msg']}\")\n",
    "    except Exception as e:\n",
    "        print(f\"[debug] > Exception: {e}\")\n",
    "    finally:\n",
    "        with open(\"./results/rest_area_locs.json\", \"w\", encoding='utf-8') as f:\n",
    "            json.dump(restarea_loc_api_json, f, ensure_ascii=False)"
   ]
  },
  {
   "cell_type": "code",
   "execution_count": 95,
   "metadata": {},
   "outputs": [
    {
     "data": {
      "text/plain": [
       "(573, 19)"
      ]
     },
     "execution_count": 95,
     "metadata": {},
     "output_type": "execute_result"
    }
   ],
   "source": [
    "restarea_df.shape"
   ]
  }
 ],
 "metadata": {
  "kernelspec": {
   "display_name": ".venv",
   "language": "python",
   "name": "python3"
  },
  "language_info": {
   "codemirror_mode": {
    "name": "ipython",
    "version": 3
   },
   "file_extension": ".py",
   "mimetype": "text/x-python",
   "name": "python",
   "nbconvert_exporter": "python",
   "pygments_lexer": "ipython3",
   "version": "3.10.12"
  }
 },
 "nbformat": 4,
 "nbformat_minor": 2
}
