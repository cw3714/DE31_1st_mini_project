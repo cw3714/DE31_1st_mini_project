{
 "cells": [
  {
   "cell_type": "code",
   "execution_count": null,
   "metadata": {},
   "outputs": [],
   "source": [
    "import sqlalchemy\n",
    "from urllib import parse\n",
    "import pymysql\n",
    "import pandas as pd\n",
    "import matplotlib as mpl\n",
    "import matplotlib.pyplot as plt\n",
    "from matplotlib import font_manager, rc \n",
    "import matplotlib.font_manager as fm"
   ]
  },
  {
   "cell_type": "code",
   "execution_count": null,
   "metadata": {},
   "outputs": [],
   "source": [
    "import sqlalchemy\n",
    "from urllib import parse\n",
    "\n",
    "user = ''\n",
    "password = ''\n",
    "host= ''\n",
    "port = 3306\n",
    "database = ''\n",
    "password = parse.quote_plus(password)\n",
    "engine = sqlalchemy.create_engine(f\"mysql://{user}:{password}@{host}:{port}/{database}\")\n",
    "\n",
    "con =pymysql.connect(host='', user='', password='', db='', charset='utf8')\n",
    "cur = con.cursor()"
   ]
  },
  {
   "cell_type": "markdown",
   "metadata": {},
   "source": [
    "#시군구별 전기차 충전소당 인구수"
   ]
  },
  {
   "cell_type": "code",
   "execution_count": null,
   "metadata": {},
   "outputs": [],
   "source": [
    "#시군구별 전기차 충전소당 인구수\n",
    "#전기차충전소 = - Table4: `chargeStationCount` : 전국 전기차 충전소 갯수 데이터 `count`             \n",
    "#인구수 = - Table10: `popInfo` : 전국 총인구조사 데이터 `total_pop`\n",
    "\n",
    "station_df = pd.read_sql_query(\"SELECT * FROM chargeStationCount WHERE YEAR ='2023'\", con=con)\n",
    "station_df_sum=pd.DataFrame(station_df.groupby('sido')['count'].sum())\n",
    "\n",
    "pop = pd.read_sql_query(\"SELECT sido, sigungu, total_pop FROM popInfo WHERE  sigungu ='합계'\", con=con)\n",
    "change_dict = {'경상북도':\"경상\", '경상남도':\"경상\", '부산광역시':\"경상\", '울산광역시':\"경상\", '대구광역시':\"경상\", '전라북도':\"전라\", '전라남도':\"전라\", '광주광역시':\"전라\", '충청북도':\"충청\", '충청남도':\"충청\", '세종특별자치시':\"충청\", '대전광역시':\"충청\", '전북특별자치도':\"전라\"}\n",
    "for key, value in change_dict.items():\n",
    "  pop['sido'] = pop['sido'].apply(lambda x: value if key in x else x)\n",
    "pop_sum=pd.DataFrame(pop.groupby('sido')['total_pop'].sum())\n",
    "\n",
    "poppercharger = pd.concat([station_df_sum,pop_sum],axis=1)\n",
    "\n",
    "list = []\n",
    "for x in range(len(poppercharger)):\n",
    "    list.append(round(poppercharger['total_pop'][x]/poppercharger['count'][x],1))\n",
    "    #print(round(poppercharger['total_pop'][x]/poppercharger['count'][x],1))\n",
    "poppercharger['pop/per'] = list\n",
    "\n",
    "\n",
    "\n"
   ]
  },
  {
   "cell_type": "markdown",
   "metadata": {},
   "source": [
    "#시군구별 전기차 충전소당 세대수"
   ]
  },
  {
   "cell_type": "code",
   "execution_count": null,
   "metadata": {},
   "outputs": [],
   "source": [
    "#시군구별 전기차 충전소당 세대수\n",
    "#전기차충전소 = - Table4: `chargeStationCount` : 전국 전기차 충전소 갯수 데이터\n",
    "#세대수 = - Table10: `popInfo` : 전국 총인구조사 데이터 `total_family`"
   ]
  },
  {
   "cell_type": "code",
   "execution_count": null,
   "metadata": {},
   "outputs": [],
   "source": [
    "family = pd.read_sql_query(\"SELECT sido, sigungu, total_family FROM popInfo WHERE  sigungu ='합계'\", con=con)\n",
    "\n",
    "change_dict = {'경상북도':\"경상\", '경상남도':\"경상\", '부산광역시':\"경상\", '울산광역시':\"경상\", '대구광역시':\"경상\", '전라북도':\"전라\", '전라남도':\"전라\", '광주광역시':\"전라\", '충청북도':\"충청\", '충청남도':\"충청\", '세종특별자치시':\"충청\", '대전광역시':\"충청\", '전북특별자치도':\"전라\"}\n",
    "for key, value in change_dict.items():\n",
    "  family['sido'] = family['sido'].apply(lambda x: value if key in x else x)\n",
    "\n",
    "family_sum = pd.DataFrame(family.groupby('sido')['total_family'].sum())\n",
    "familypercharger = pd.concat([station_df_sum,family_sum],axis=1)\n",
    "\n",
    "list1 = []\n",
    "for x in range(len(familypercharger)):\n",
    "    list1.append(round(familypercharger['total_family'][x]/familypercharger['count'][x],1))\n",
    "\n",
    "familypercharger['family/per'] = list1\n",
    "\n",
    "\n"
   ]
  },
  {
   "cell_type": "markdown",
   "metadata": {},
   "source": [
    "#전체 자동차 수 대비 전기차 수 비율"
   ]
  },
  {
   "cell_type": "code",
   "execution_count": null,
   "metadata": {},
   "outputs": [],
   "source": [
    "#전체자동차 대비 전기차비율\n",
    "#전체자동차 댓수 -> Table3: `carRegitrectionCount` : 전국 자동차 등록 현황 데이터\n",
    "#전체전기차 댓수 -> Table6: `electricCarRegitrectionCount`  : 전국 전기차 등록 수 데이터"
   ]
  },
  {
   "cell_type": "code",
   "execution_count": null,
   "metadata": {},
   "outputs": [],
   "source": [
    "\n",
    "carRegitrectionCount = pd.read_sql_query(\"SELECT SUM(count) FROM carRegitrectionCount WHERE YEAR = '2023' AND MONTH = '12'\", con=con)\n",
    "carRegitrectionCount['SUM(count)'][0]  #=> 25949201\n",
    "elecratio = round(( electricCarRegitrectionCount['SUM(count)'][0]/carRegitrectionCount['SUM(count)'][0]*100),1) #=> 2.1 \n",
    "\n",
    "electricCarRegitrectionCount = pd.read_sql_query(\"SELECT SUM(count) FROM electricCarRegitrectionCount WHERE YEAR = '2023'\", con=con)\n",
    "electricCarRegitrectionCount['SUM(count)'][0]  #=> 538146\n",
    "\n",
    "difference = carRegitrectionCount['SUM(count)'][0] -electricCarRegitrectionCount['SUM(count)'][0] #=> 25411055 \n",
    "differenceratio = round(( difference/carRegitrectionCount['SUM(count)'][0]*100),1)\n",
    "\n"
   ]
  },
  {
   "cell_type": "markdown",
   "metadata": {},
   "source": [
    "#Matplotlib"
   ]
  },
  {
   "cell_type": "code",
   "execution_count": null,
   "metadata": {},
   "outputs": [],
   "source": [
    "import matplotlib as mpl\n",
    "import matplotlib.pyplot as plt\n",
    "from matplotlib import font_manager, rc \n",
    "import matplotlib.font_manager as fm\n",
    "font_path = \"./data/NanumGothic.ttf\"\n",
    "font_name = font_manager.FontProperties(fname = font_path).get_name()\n",
    "plt.rcParams[\"font.family\"] = font_name\n",
    "f = [f.name for f in fm.fontManager.ttflist]\n",
    "rc('font', family=font_name)\n",
    "\n",
    "#시도별 전기차 충전소당 인구수\n",
    "ratio = [22.7, 880.0, 1196.1, 193.3, 38.7, 145.6, 89.7, 205.3]\n",
    "labels = ['강원', '경기', '경상', '서울', '인천', '전라', '제주', '충청']\n",
    "\n",
    "plt.pie(ratio, labels=labels, autopct='%.1f%%')\n",
    "plt.show()\n",
    "\n",
    "#시도별 전기차 충전소당 세대수\n",
    "\n",
    "ratio1 = [11.3, 386.0, 566.6, 92.0, 17.5, 71.0, 41.6, 98.2]\n",
    "labels1 = ['강원', '경기', '경상', '서울', '인천', '전라', '제주', '충청']\n",
    "\n",
    "plt.pie(ratio1, labels=labels1, autopct='%.1f%%')\n",
    "plt.show()\n",
    "\n",
    "#전체 자동차수 대비 전기차 수 비율\n",
    "colors = ['gold', 'lightgray' ] \n",
    "ratio = [2.1, 97.9]\n",
    "labels = ['전기차', '화석연료자동차']\n",
    "\n",
    "\n",
    "plt.pie(ratio, labels=labels, autopct='%.1f%%', colors=colors)\n",
    "plt.show()colors = ['gold', 'lightgray' ] \n",
    "ratio = [2.1, 97.9]\n",
    "labels = ['전기차', '화석연료자동차']\n",
    "\n",
    "\n",
    "plt.pie(ratio, labels=labels, autopct='%.1f%%', colors=colors)\n",
    "plt.show()"
   ]
  },
  {
   "cell_type": "code",
   "execution_count": null,
   "metadata": {},
   "outputs": [],
   "source": []
  }
 ],
 "metadata": {
  "language_info": {
   "name": "python"
  }
 },
 "nbformat": 4,
 "nbformat_minor": 2
}
