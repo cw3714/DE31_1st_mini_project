{
 "cells": [
  {
   "cell_type": "code",
   "execution_count": null,
   "metadata": {},
   "outputs": [],
   "source": [
    "import pandas as pd\n",
    "import openpyxl\n",
    "import csv"
   ]
  },
  {
   "cell_type": "code",
   "execution_count": null,
   "metadata": {},
   "outputs": [],
   "source": [
    "f = './201801_202312_전기차등록현황.xls'\n",
    "car = pd.read_excel(f)\n",
    "\n",
    "car.columns = [car.iloc[2].tolist()]\n",
    "car.drop([0,1], axis=0, inplace=True)\n",
    "car.drop([2], axis=0, inplace=True)\n",
    "car.columns = [x[0] for x in car.columns]\n",
    "car = car.astype({'년월' : object, '서울' : int, \n",
    "'부산' : int, \n",
    "'대구' : int, \n",
    "'인천' : int, \n",
    "'광주' : int, \n",
    "'대전' : int, \n",
    "'울산' : int, \n",
    "'세종' : int, \n",
    "'경기' : int, \n",
    "'강원' : int, \n",
    "'충북' : int, \n",
    "'충남' : int, \n",
    "'전북' : int, \n",
    "'전남' : int, \n",
    "'경북' : int, \n",
    "'경남' : int, \n",
    "'제주' : int, \n",
    "'합계' : int})\n",
    "\n",
    "car.to_csv('./car.csv', index=False)"
   ]
  },
  {
   "cell_type": "code",
   "execution_count": null,
   "metadata": {},
   "outputs": [],
   "source": [
    "f = './202312년_지역별_전기차_충전기_구축현황(누적).xls'\n",
    "charger = pd.read_excel(f)\n",
    "\n",
    "charger.columns = [charger.iloc[2].tolist()]\n",
    "charger.drop([0,1], axis=0, inplace=True)\n",
    "charger.drop([2], axis=0, inplace=True)\n",
    "charger.columns = [x[0] for x in charger.columns]\n",
    "charger = charger.astype({'년월' : object,\n",
    "'충전속도' : object,\n",
    "'서울' : int,\n",
    "'경기' : int,\n",
    "'인천' : int,\n",
    "'경상' : int,\n",
    "'전라' : int,\n",
    "'충청' : int,\n",
    "'강원' : int,\n",
    "'제주' : int,\n",
    "'합계' : int})\n",
    "\n",
    "charger.to_csv('./charger.csv', index=False)\n"
   ]
  }
 ],
 "metadata": {
  "language_info": {
   "name": "python"
  }
 },
 "nbformat": 4,
 "nbformat_minor": 2
}
